{
 "cells": [
  {
   "cell_type": "code",
   "execution_count": 1,
   "id": "a7c013d3-c892-4c09-ae6d-f87b17013a12",
   "metadata": {
    "scrolled": true
   },
   "outputs": [
    {
     "name": "stdout",
     "output_type": "stream",
     "text": [
      "Collecting pint>=0.18\n",
      "  Using cached Pint-0.20.1-py3-none-any.whl (269 kB)\n",
      "Requirement already satisfied: requests>=2.26.0 in /opt/conda/lib/python3.9/site-packages (from -r requirements.txt (line 6)) (2.26.0)\n",
      "Collecting python-gnupg\n",
      "  Using cached python_gnupg-0.5.0-py2.py3-none-any.whl (18 kB)\n",
      "Collecting eep153_tools\n",
      "  Using cached eep153_tools-0.11-py2.py3-none-any.whl (4.4 kB)\n",
      "Collecting fooddatacentral\n",
      "  Using cached fooddatacentral-1.0.9-py3-none-any.whl\n",
      "Requirement already satisfied: charset-normalizer~=2.0.0 in /opt/conda/lib/python3.9/site-packages (from requests>=2.26.0->-r requirements.txt (line 6)) (2.0.0)\n",
      "Requirement already satisfied: idna<4,>=2.5 in /opt/conda/lib/python3.9/site-packages (from requests>=2.26.0->-r requirements.txt (line 6)) (3.1)\n",
      "Requirement already satisfied: certifi>=2017.4.17 in /opt/conda/lib/python3.9/site-packages (from requests>=2.26.0->-r requirements.txt (line 6)) (2021.10.8)\n",
      "Requirement already satisfied: urllib3<1.27,>=1.21.1 in /opt/conda/lib/python3.9/site-packages (from requests>=2.26.0->-r requirements.txt (line 6)) (1.26.7)\n",
      "Installing collected packages: python-gnupg, fooddatacentral, eep153_tools, pint\n",
      "  Attempting uninstall: pint\n",
      "    Found existing installation: Pint 0.17\n",
      "    Uninstalling Pint-0.17:\n",
      "      Successfully uninstalled Pint-0.17\n",
      "Successfully installed eep153_tools-0.11 fooddatacentral-1.0.9 pint-0.20.1 python-gnupg-0.5.0\n",
      "Note: you may need to restart the kernel to use updated packages.\n"
     ]
    }
   ],
   "source": [
    "%pip install -r requirements.txt"
   ]
  },
  {
   "cell_type": "code",
   "execution_count": 2,
   "id": "2291249e-b823-4551-b1e4-24bef60c7d6a",
   "metadata": {},
   "outputs": [],
   "source": [
    "import fooddatacentral as fdc\n",
    "from matplotlib import pyplot as plt"
   ]
  },
  {
   "cell_type": "code",
   "execution_count": 3,
   "id": "de876336-01ba-4a12-9308-a4a7efbcd21a",
   "metadata": {},
   "outputs": [],
   "source": [
    "import pandas as pd\n",
    "from eep153_tools.sheets import read_sheets\n",
    "\n",
    "apikey = \"Dsfa8UjD5QX9KPxm7jukDcXyC4etFnZtXL1u7ujA\" "
   ]
  },
  {
   "cell_type": "code",
   "execution_count": 4,
   "id": "10a1628b-06ac-47c9-8196-cb6e94f7856b",
   "metadata": {
    "scrolled": true
   },
   "outputs": [
    {
     "name": "stdout",
     "output_type": "stream",
     "text": [
      "Key available for students@eep153.iam.gserviceaccount.com.\n"
     ]
    },
    {
     "data": {
      "text/html": [
       "<div>\n",
       "<style scoped>\n",
       "    .dataframe tbody tr th:only-of-type {\n",
       "        vertical-align: middle;\n",
       "    }\n",
       "\n",
       "    .dataframe tbody tr th {\n",
       "        vertical-align: top;\n",
       "    }\n",
       "\n",
       "    .dataframe thead th {\n",
       "        text-align: right;\n",
       "    }\n",
       "</style>\n",
       "<table border=\"1\" class=\"dataframe\">\n",
       "  <thead>\n",
       "    <tr style=\"text-align: right;\">\n",
       "      <th></th>\n",
       "      <th>C 1-3</th>\n",
       "      <th>F 4-8</th>\n",
       "      <th>M 4-8</th>\n",
       "      <th>F 9-13</th>\n",
       "      <th>M 9-13</th>\n",
       "      <th>F 14-18</th>\n",
       "      <th>M 14-18</th>\n",
       "      <th>F 19-30</th>\n",
       "      <th>M 19-30</th>\n",
       "      <th>F 31-50</th>\n",
       "      <th>M 31-50</th>\n",
       "      <th>F 51+</th>\n",
       "      <th>M 51+</th>\n",
       "    </tr>\n",
       "    <tr>\n",
       "      <th>Nutrition</th>\n",
       "      <th></th>\n",
       "      <th></th>\n",
       "      <th></th>\n",
       "      <th></th>\n",
       "      <th></th>\n",
       "      <th></th>\n",
       "      <th></th>\n",
       "      <th></th>\n",
       "      <th></th>\n",
       "      <th></th>\n",
       "      <th></th>\n",
       "      <th></th>\n",
       "      <th></th>\n",
       "    </tr>\n",
       "  </thead>\n",
       "  <tbody>\n",
       "    <tr>\n",
       "      <th>Energy</th>\n",
       "      <td>1000.0</td>\n",
       "      <td>1200.0</td>\n",
       "      <td>1400.0</td>\n",
       "      <td>1600.0</td>\n",
       "      <td>1800.0</td>\n",
       "      <td>1800.0</td>\n",
       "      <td>2200.0</td>\n",
       "      <td>2000.0</td>\n",
       "      <td>2400.0</td>\n",
       "      <td>1800.0</td>\n",
       "      <td>2200.0</td>\n",
       "      <td>1600.0</td>\n",
       "      <td>2000.0</td>\n",
       "    </tr>\n",
       "    <tr>\n",
       "      <th>Protein</th>\n",
       "      <td>13.0</td>\n",
       "      <td>19.0</td>\n",
       "      <td>19.0</td>\n",
       "      <td>34.0</td>\n",
       "      <td>34.0</td>\n",
       "      <td>46.0</td>\n",
       "      <td>52.0</td>\n",
       "      <td>46.0</td>\n",
       "      <td>56.0</td>\n",
       "      <td>46.0</td>\n",
       "      <td>56.0</td>\n",
       "      <td>46.0</td>\n",
       "      <td>56.0</td>\n",
       "    </tr>\n",
       "    <tr>\n",
       "      <th>Fiber, total dietary</th>\n",
       "      <td>14.0</td>\n",
       "      <td>16.8</td>\n",
       "      <td>19.6</td>\n",
       "      <td>22.4</td>\n",
       "      <td>25.2</td>\n",
       "      <td>25.2</td>\n",
       "      <td>30.8</td>\n",
       "      <td>28.0</td>\n",
       "      <td>33.6</td>\n",
       "      <td>25.2</td>\n",
       "      <td>30.8</td>\n",
       "      <td>22.4</td>\n",
       "      <td>28.0</td>\n",
       "    </tr>\n",
       "    <tr>\n",
       "      <th>Folate, DFE</th>\n",
       "      <td>150.0</td>\n",
       "      <td>200.0</td>\n",
       "      <td>200.0</td>\n",
       "      <td>300.0</td>\n",
       "      <td>300.0</td>\n",
       "      <td>400.0</td>\n",
       "      <td>400.0</td>\n",
       "      <td>400.0</td>\n",
       "      <td>400.0</td>\n",
       "      <td>400.0</td>\n",
       "      <td>400.0</td>\n",
       "      <td>400.0</td>\n",
       "      <td>400.0</td>\n",
       "    </tr>\n",
       "    <tr>\n",
       "      <th>Calcium, Ca</th>\n",
       "      <td>700.0</td>\n",
       "      <td>1000.0</td>\n",
       "      <td>1000.0</td>\n",
       "      <td>1300.0</td>\n",
       "      <td>1300.0</td>\n",
       "      <td>1300.0</td>\n",
       "      <td>1300.0</td>\n",
       "      <td>1000.0</td>\n",
       "      <td>1000.0</td>\n",
       "      <td>1000.0</td>\n",
       "      <td>1000.0</td>\n",
       "      <td>1200.0</td>\n",
       "      <td>1000.0</td>\n",
       "    </tr>\n",
       "    <tr>\n",
       "      <th>Carbohydrate, by difference</th>\n",
       "      <td>130.0</td>\n",
       "      <td>130.0</td>\n",
       "      <td>130.0</td>\n",
       "      <td>130.0</td>\n",
       "      <td>130.0</td>\n",
       "      <td>130.0</td>\n",
       "      <td>130.0</td>\n",
       "      <td>130.0</td>\n",
       "      <td>130.0</td>\n",
       "      <td>130.0</td>\n",
       "      <td>130.0</td>\n",
       "      <td>130.0</td>\n",
       "      <td>130.0</td>\n",
       "    </tr>\n",
       "    <tr>\n",
       "      <th>Iron, Fe</th>\n",
       "      <td>7.0</td>\n",
       "      <td>10.0</td>\n",
       "      <td>10.0</td>\n",
       "      <td>8.0</td>\n",
       "      <td>8.0</td>\n",
       "      <td>15.0</td>\n",
       "      <td>11.0</td>\n",
       "      <td>18.0</td>\n",
       "      <td>8.0</td>\n",
       "      <td>18.0</td>\n",
       "      <td>8.0</td>\n",
       "      <td>8.0</td>\n",
       "      <td>8.0</td>\n",
       "    </tr>\n",
       "    <tr>\n",
       "      <th>Magnesium, Mg</th>\n",
       "      <td>80.0</td>\n",
       "      <td>130.0</td>\n",
       "      <td>130.0</td>\n",
       "      <td>240.0</td>\n",
       "      <td>240.0</td>\n",
       "      <td>360.0</td>\n",
       "      <td>410.0</td>\n",
       "      <td>310.0</td>\n",
       "      <td>400.0</td>\n",
       "      <td>320.0</td>\n",
       "      <td>420.0</td>\n",
       "      <td>320.0</td>\n",
       "      <td>420.0</td>\n",
       "    </tr>\n",
       "    <tr>\n",
       "      <th>Niacin</th>\n",
       "      <td>6.0</td>\n",
       "      <td>8.0</td>\n",
       "      <td>8.0</td>\n",
       "      <td>12.0</td>\n",
       "      <td>12.0</td>\n",
       "      <td>14.0</td>\n",
       "      <td>16.0</td>\n",
       "      <td>14.0</td>\n",
       "      <td>16.0</td>\n",
       "      <td>14.0</td>\n",
       "      <td>16.0</td>\n",
       "      <td>14.0</td>\n",
       "      <td>16.0</td>\n",
       "    </tr>\n",
       "    <tr>\n",
       "      <th>Phosphorus, P</th>\n",
       "      <td>460.0</td>\n",
       "      <td>500.0</td>\n",
       "      <td>500.0</td>\n",
       "      <td>1250.0</td>\n",
       "      <td>1250.0</td>\n",
       "      <td>1250.0</td>\n",
       "      <td>1250.0</td>\n",
       "      <td>700.0</td>\n",
       "      <td>700.0</td>\n",
       "      <td>700.0</td>\n",
       "      <td>700.0</td>\n",
       "      <td>700.0</td>\n",
       "      <td>700.0</td>\n",
       "    </tr>\n",
       "    <tr>\n",
       "      <th>Potassium, K</th>\n",
       "      <td>3000.0</td>\n",
       "      <td>3800.0</td>\n",
       "      <td>3800.0</td>\n",
       "      <td>4500.0</td>\n",
       "      <td>4500.0</td>\n",
       "      <td>4700.0</td>\n",
       "      <td>4700.0</td>\n",
       "      <td>4700.0</td>\n",
       "      <td>4700.0</td>\n",
       "      <td>4700.0</td>\n",
       "      <td>4700.0</td>\n",
       "      <td>4700.0</td>\n",
       "      <td>4700.0</td>\n",
       "    </tr>\n",
       "    <tr>\n",
       "      <th>Riboflavin</th>\n",
       "      <td>0.5</td>\n",
       "      <td>0.6</td>\n",
       "      <td>0.6</td>\n",
       "      <td>0.9</td>\n",
       "      <td>0.9</td>\n",
       "      <td>1.0</td>\n",
       "      <td>1.3</td>\n",
       "      <td>1.1</td>\n",
       "      <td>1.3</td>\n",
       "      <td>1.1</td>\n",
       "      <td>1.3</td>\n",
       "      <td>1.1</td>\n",
       "      <td>1.3</td>\n",
       "    </tr>\n",
       "    <tr>\n",
       "      <th>Thiamin</th>\n",
       "      <td>0.5</td>\n",
       "      <td>0.6</td>\n",
       "      <td>0.6</td>\n",
       "      <td>0.9</td>\n",
       "      <td>0.9</td>\n",
       "      <td>1.0</td>\n",
       "      <td>1.2</td>\n",
       "      <td>1.1</td>\n",
       "      <td>1.2</td>\n",
       "      <td>1.1</td>\n",
       "      <td>1.2</td>\n",
       "      <td>1.1</td>\n",
       "      <td>1.2</td>\n",
       "    </tr>\n",
       "    <tr>\n",
       "      <th>Vitamin A, RAE</th>\n",
       "      <td>300.0</td>\n",
       "      <td>400.0</td>\n",
       "      <td>400.0</td>\n",
       "      <td>600.0</td>\n",
       "      <td>600.0</td>\n",
       "      <td>700.0</td>\n",
       "      <td>900.0</td>\n",
       "      <td>700.0</td>\n",
       "      <td>900.0</td>\n",
       "      <td>700.0</td>\n",
       "      <td>900.0</td>\n",
       "      <td>700.0</td>\n",
       "      <td>900.0</td>\n",
       "    </tr>\n",
       "    <tr>\n",
       "      <th>Vitamin B-12</th>\n",
       "      <td>0.9</td>\n",
       "      <td>1.2</td>\n",
       "      <td>1.2</td>\n",
       "      <td>1.8</td>\n",
       "      <td>1.8</td>\n",
       "      <td>2.4</td>\n",
       "      <td>2.4</td>\n",
       "      <td>2.4</td>\n",
       "      <td>2.4</td>\n",
       "      <td>2.4</td>\n",
       "      <td>2.4</td>\n",
       "      <td>2.4</td>\n",
       "      <td>2.4</td>\n",
       "    </tr>\n",
       "    <tr>\n",
       "      <th>Vitamin B-6</th>\n",
       "      <td>0.5</td>\n",
       "      <td>0.6</td>\n",
       "      <td>0.6</td>\n",
       "      <td>1.0</td>\n",
       "      <td>1.0</td>\n",
       "      <td>1.2</td>\n",
       "      <td>1.3</td>\n",
       "      <td>1.3</td>\n",
       "      <td>1.3</td>\n",
       "      <td>1.3</td>\n",
       "      <td>1.3</td>\n",
       "      <td>1.5</td>\n",
       "      <td>1.7</td>\n",
       "    </tr>\n",
       "    <tr>\n",
       "      <th>Vitamin C, total ascorbic acid</th>\n",
       "      <td>15.0</td>\n",
       "      <td>25.0</td>\n",
       "      <td>25.0</td>\n",
       "      <td>45.0</td>\n",
       "      <td>45.0</td>\n",
       "      <td>65.0</td>\n",
       "      <td>75.0</td>\n",
       "      <td>75.0</td>\n",
       "      <td>90.0</td>\n",
       "      <td>75.0</td>\n",
       "      <td>90.0</td>\n",
       "      <td>75.0</td>\n",
       "      <td>90.0</td>\n",
       "    </tr>\n",
       "    <tr>\n",
       "      <th>Vitamin E (alpha-tocopherol)</th>\n",
       "      <td>6.0</td>\n",
       "      <td>7.0</td>\n",
       "      <td>7.0</td>\n",
       "      <td>11.0</td>\n",
       "      <td>11.0</td>\n",
       "      <td>15.0</td>\n",
       "      <td>15.0</td>\n",
       "      <td>15.0</td>\n",
       "      <td>15.0</td>\n",
       "      <td>15.0</td>\n",
       "      <td>15.0</td>\n",
       "      <td>15.0</td>\n",
       "      <td>15.0</td>\n",
       "    </tr>\n",
       "    <tr>\n",
       "      <th>Vitamin K (phylloquinone)</th>\n",
       "      <td>30.0</td>\n",
       "      <td>55.0</td>\n",
       "      <td>55.0</td>\n",
       "      <td>60.0</td>\n",
       "      <td>60.0</td>\n",
       "      <td>75.0</td>\n",
       "      <td>75.0</td>\n",
       "      <td>90.0</td>\n",
       "      <td>120.0</td>\n",
       "      <td>90.0</td>\n",
       "      <td>120.0</td>\n",
       "      <td>90.0</td>\n",
       "      <td>120.0</td>\n",
       "    </tr>\n",
       "    <tr>\n",
       "      <th>Zinc, Zn</th>\n",
       "      <td>3.0</td>\n",
       "      <td>5.0</td>\n",
       "      <td>5.0</td>\n",
       "      <td>8.0</td>\n",
       "      <td>8.0</td>\n",
       "      <td>9.0</td>\n",
       "      <td>11.0</td>\n",
       "      <td>8.0</td>\n",
       "      <td>11.0</td>\n",
       "      <td>8.0</td>\n",
       "      <td>11.0</td>\n",
       "      <td>8.0</td>\n",
       "      <td>11.0</td>\n",
       "    </tr>\n",
       "  </tbody>\n",
       "</table>\n",
       "</div>"
      ],
      "text/plain": [
       "                                 C 1-3   F 4-8   M 4-8  F 9-13  M 9-13  \\\n",
       "Nutrition                                                                \n",
       "Energy                          1000.0  1200.0  1400.0  1600.0  1800.0   \n",
       "Protein                           13.0    19.0    19.0    34.0    34.0   \n",
       "Fiber, total dietary              14.0    16.8    19.6    22.4    25.2   \n",
       "Folate, DFE                      150.0   200.0   200.0   300.0   300.0   \n",
       "Calcium, Ca                      700.0  1000.0  1000.0  1300.0  1300.0   \n",
       "Carbohydrate, by difference      130.0   130.0   130.0   130.0   130.0   \n",
       "Iron, Fe                           7.0    10.0    10.0     8.0     8.0   \n",
       "Magnesium, Mg                     80.0   130.0   130.0   240.0   240.0   \n",
       "Niacin                             6.0     8.0     8.0    12.0    12.0   \n",
       "Phosphorus, P                    460.0   500.0   500.0  1250.0  1250.0   \n",
       "Potassium, K                    3000.0  3800.0  3800.0  4500.0  4500.0   \n",
       "Riboflavin                         0.5     0.6     0.6     0.9     0.9   \n",
       "Thiamin                            0.5     0.6     0.6     0.9     0.9   \n",
       "Vitamin A, RAE                   300.0   400.0   400.0   600.0   600.0   \n",
       "Vitamin B-12                       0.9     1.2     1.2     1.8     1.8   \n",
       "Vitamin B-6                        0.5     0.6     0.6     1.0     1.0   \n",
       "Vitamin C, total ascorbic acid    15.0    25.0    25.0    45.0    45.0   \n",
       "Vitamin E (alpha-tocopherol)       6.0     7.0     7.0    11.0    11.0   \n",
       "Vitamin K (phylloquinone)         30.0    55.0    55.0    60.0    60.0   \n",
       "Zinc, Zn                           3.0     5.0     5.0     8.0     8.0   \n",
       "\n",
       "                                F 14-18  M 14-18  F 19-30  M 19-30  F 31-50  \\\n",
       "Nutrition                                                                     \n",
       "Energy                           1800.0   2200.0   2000.0   2400.0   1800.0   \n",
       "Protein                            46.0     52.0     46.0     56.0     46.0   \n",
       "Fiber, total dietary               25.2     30.8     28.0     33.6     25.2   \n",
       "Folate, DFE                       400.0    400.0    400.0    400.0    400.0   \n",
       "Calcium, Ca                      1300.0   1300.0   1000.0   1000.0   1000.0   \n",
       "Carbohydrate, by difference       130.0    130.0    130.0    130.0    130.0   \n",
       "Iron, Fe                           15.0     11.0     18.0      8.0     18.0   \n",
       "Magnesium, Mg                     360.0    410.0    310.0    400.0    320.0   \n",
       "Niacin                             14.0     16.0     14.0     16.0     14.0   \n",
       "Phosphorus, P                    1250.0   1250.0    700.0    700.0    700.0   \n",
       "Potassium, K                     4700.0   4700.0   4700.0   4700.0   4700.0   \n",
       "Riboflavin                          1.0      1.3      1.1      1.3      1.1   \n",
       "Thiamin                             1.0      1.2      1.1      1.2      1.1   \n",
       "Vitamin A, RAE                    700.0    900.0    700.0    900.0    700.0   \n",
       "Vitamin B-12                        2.4      2.4      2.4      2.4      2.4   \n",
       "Vitamin B-6                         1.2      1.3      1.3      1.3      1.3   \n",
       "Vitamin C, total ascorbic acid     65.0     75.0     75.0     90.0     75.0   \n",
       "Vitamin E (alpha-tocopherol)       15.0     15.0     15.0     15.0     15.0   \n",
       "Vitamin K (phylloquinone)          75.0     75.0     90.0    120.0     90.0   \n",
       "Zinc, Zn                            9.0     11.0      8.0     11.0      8.0   \n",
       "\n",
       "                                M 31-50   F 51+   M 51+  \n",
       "Nutrition                                                \n",
       "Energy                           2200.0  1600.0  2000.0  \n",
       "Protein                            56.0    46.0    56.0  \n",
       "Fiber, total dietary               30.8    22.4    28.0  \n",
       "Folate, DFE                       400.0   400.0   400.0  \n",
       "Calcium, Ca                      1000.0  1200.0  1000.0  \n",
       "Carbohydrate, by difference       130.0   130.0   130.0  \n",
       "Iron, Fe                            8.0     8.0     8.0  \n",
       "Magnesium, Mg                     420.0   320.0   420.0  \n",
       "Niacin                             16.0    14.0    16.0  \n",
       "Phosphorus, P                     700.0   700.0   700.0  \n",
       "Potassium, K                     4700.0  4700.0  4700.0  \n",
       "Riboflavin                          1.3     1.1     1.3  \n",
       "Thiamin                             1.2     1.1     1.2  \n",
       "Vitamin A, RAE                    900.0   700.0   900.0  \n",
       "Vitamin B-12                        2.4     2.4     2.4  \n",
       "Vitamin B-6                         1.3     1.5     1.7  \n",
       "Vitamin C, total ascorbic acid     90.0    75.0    90.0  \n",
       "Vitamin E (alpha-tocopherol)       15.0    15.0    15.0  \n",
       "Vitamin K (phylloquinone)         120.0    90.0   120.0  \n",
       "Zinc, Zn                           11.0     8.0    11.0  "
      ]
     },
     "execution_count": 4,
     "metadata": {},
     "output_type": "execute_result"
    }
   ],
   "source": [
    "RDIs = read_sheets('https://docs.google.com/spreadsheets/d/1y95IsQ4HKspPW3HHDtH7QMtlDA66IUsCHJLutVL-MMc/')\n",
    "\n",
    "bmin = RDIs['diet_minimums'].set_index('Nutrition')\n",
    "\n",
    "# Drop string describing source\n",
    "bmin = bmin.drop('Source',axis=1)\n",
    "bmin"
   ]
  },
  {
   "cell_type": "markdown",
   "id": "a823055d",
   "metadata": {},
   "source": [
    "### RDI Finder Function"
   ]
  },
  {
   "cell_type": "code",
   "execution_count": 5,
   "id": "277701bc-4549-4b4b-8725-83c13743a99a",
   "metadata": {},
   "outputs": [],
   "source": [
    "# inputs: age as a integer, sex as \"F\" for female or \"M\" for male \n",
    "\n",
    "def rdi_finder(age, sex): \n",
    "    if age < 4: \n",
    "        bmin.iloc[:, 0]\n",
    "    if sex == \"F\": \n",
    "        if age >= 4 and age <= 8:\n",
    "            return bmin.iloc[:, 1]\n",
    "        if age >= 9 and age <= 13:\n",
    "            return bmin.iloc[:, 3]\n",
    "        if age >= 14 and age <= 18: \n",
    "            return bmin.iloc[:, 5]\n",
    "        if age >= 19 and age <= 30: \n",
    "            return bmin.iloc[:, 7]\n",
    "        if age >= 31 and age <= 50: \n",
    "            return bmin.iloc[:, 9]\n",
    "        else: \n",
    "            return bmin.iloc[:,11]\n",
    "    else: \n",
    "        if age >= 4 and age <= 8:\n",
    "            return bmin.iloc[:, 2]\n",
    "        if age >= 9 and age <= 13:\n",
    "            return bmin.iloc[:, 4]\n",
    "        if age >= 14 and age <= 18: \n",
    "            return bmin.iloc[:, 6]\n",
    "        if age >= 19 and age <= 30: \n",
    "            return bmin.iloc[:, 8]\n",
    "        if age >= 31 and age <= 50: \n",
    "            return bmin.iloc[:, 10]\n",
    "        else: \n",
    "            return bmin.iloc[:,12]\n",
    "normal_male_21 = rdi_finder(21, \"M\")    "
   ]
  },
  {
   "cell_type": "code",
   "execution_count": 6,
   "id": "14cff5e7-3b62-4154-a13b-57f23eee205c",
   "metadata": {},
   "outputs": [
    {
     "data": {
      "text/html": [
       "<div>\n",
       "<style scoped>\n",
       "    .dataframe tbody tr th:only-of-type {\n",
       "        vertical-align: middle;\n",
       "    }\n",
       "\n",
       "    .dataframe tbody tr th {\n",
       "        vertical-align: top;\n",
       "    }\n",
       "\n",
       "    .dataframe thead th {\n",
       "        text-align: right;\n",
       "    }\n",
       "</style>\n",
       "<table border=\"1\" class=\"dataframe\">\n",
       "  <thead>\n",
       "    <tr style=\"text-align: right;\">\n",
       "      <th></th>\n",
       "      <th>Male Student</th>\n",
       "      <th>Football Athlete</th>\n",
       "    </tr>\n",
       "    <tr>\n",
       "      <th>Nutrition</th>\n",
       "      <th></th>\n",
       "      <th></th>\n",
       "    </tr>\n",
       "  </thead>\n",
       "  <tbody>\n",
       "    <tr>\n",
       "      <th>Energy</th>\n",
       "      <td>2400.0</td>\n",
       "      <td>4000.0</td>\n",
       "    </tr>\n",
       "    <tr>\n",
       "      <th>Protein</th>\n",
       "      <td>56.0</td>\n",
       "      <td>192.0</td>\n",
       "    </tr>\n",
       "    <tr>\n",
       "      <th>Fiber, total dietary</th>\n",
       "      <td>33.6</td>\n",
       "      <td>35.0</td>\n",
       "    </tr>\n",
       "    <tr>\n",
       "      <th>Folate, DFE</th>\n",
       "      <td>400.0</td>\n",
       "      <td>400.0</td>\n",
       "    </tr>\n",
       "    <tr>\n",
       "      <th>Calcium, Ca</th>\n",
       "      <td>1000.0</td>\n",
       "      <td>1300.0</td>\n",
       "    </tr>\n",
       "    <tr>\n",
       "      <th>Carbohydrate, by difference</th>\n",
       "      <td>130.0</td>\n",
       "      <td>680.0</td>\n",
       "    </tr>\n",
       "    <tr>\n",
       "      <th>Iron, Fe</th>\n",
       "      <td>8.0</td>\n",
       "      <td>15.0</td>\n",
       "    </tr>\n",
       "    <tr>\n",
       "      <th>Magnesium, Mg</th>\n",
       "      <td>400.0</td>\n",
       "      <td>400.0</td>\n",
       "    </tr>\n",
       "    <tr>\n",
       "      <th>Niacin</th>\n",
       "      <td>16.0</td>\n",
       "      <td>20.0</td>\n",
       "    </tr>\n",
       "    <tr>\n",
       "      <th>Phosphorus, P</th>\n",
       "      <td>700.0</td>\n",
       "      <td>1250.0</td>\n",
       "    </tr>\n",
       "    <tr>\n",
       "      <th>Potassium, K</th>\n",
       "      <td>4700.0</td>\n",
       "      <td>4700.0</td>\n",
       "    </tr>\n",
       "    <tr>\n",
       "      <th>Riboflavin</th>\n",
       "      <td>1.3</td>\n",
       "      <td>1.7</td>\n",
       "    </tr>\n",
       "    <tr>\n",
       "      <th>Thiamin</th>\n",
       "      <td>1.2</td>\n",
       "      <td>1.2</td>\n",
       "    </tr>\n",
       "    <tr>\n",
       "      <th>Vitamin A, RAE</th>\n",
       "      <td>900.0</td>\n",
       "      <td>1200.0</td>\n",
       "    </tr>\n",
       "    <tr>\n",
       "      <th>Vitamin B-12</th>\n",
       "      <td>2.4</td>\n",
       "      <td>2.5</td>\n",
       "    </tr>\n",
       "    <tr>\n",
       "      <th>Vitamin B-6</th>\n",
       "      <td>1.3</td>\n",
       "      <td>1.6</td>\n",
       "    </tr>\n",
       "    <tr>\n",
       "      <th>Vitamin C, total ascorbic acid</th>\n",
       "      <td>90.0</td>\n",
       "      <td>200.0</td>\n",
       "    </tr>\n",
       "    <tr>\n",
       "      <th>Vitamin E (alpha-tocopherol)</th>\n",
       "      <td>15.0</td>\n",
       "      <td>15.0</td>\n",
       "    </tr>\n",
       "    <tr>\n",
       "      <th>Vitamin K (phylloquinone)</th>\n",
       "      <td>120.0</td>\n",
       "      <td>120.0</td>\n",
       "    </tr>\n",
       "    <tr>\n",
       "      <th>Zinc, Zn</th>\n",
       "      <td>11.0</td>\n",
       "      <td>15.0</td>\n",
       "    </tr>\n",
       "  </tbody>\n",
       "</table>\n",
       "</div>"
      ],
      "text/plain": [
       "                                Male Student  Football Athlete\n",
       "Nutrition                                                     \n",
       "Energy                                2400.0            4000.0\n",
       "Protein                                 56.0             192.0\n",
       "Fiber, total dietary                    33.6              35.0\n",
       "Folate, DFE                            400.0             400.0\n",
       "Calcium, Ca                           1000.0            1300.0\n",
       "Carbohydrate, by difference            130.0             680.0\n",
       "Iron, Fe                                 8.0              15.0\n",
       "Magnesium, Mg                          400.0             400.0\n",
       "Niacin                                  16.0              20.0\n",
       "Phosphorus, P                          700.0            1250.0\n",
       "Potassium, K                          4700.0            4700.0\n",
       "Riboflavin                               1.3               1.7\n",
       "Thiamin                                  1.2               1.2\n",
       "Vitamin A, RAE                         900.0            1200.0\n",
       "Vitamin B-12                             2.4               2.5\n",
       "Vitamin B-6                              1.3               1.6\n",
       "Vitamin C, total ascorbic acid          90.0             200.0\n",
       "Vitamin E (alpha-tocopherol)            15.0              15.0\n",
       "Vitamin K (phylloquinone)              120.0             120.0\n",
       "Zinc, Zn                                11.0              15.0"
      ]
     },
     "execution_count": 6,
     "metadata": {},
     "output_type": "execute_result"
    }
   ],
   "source": [
    "df_comparison = pd.DataFrame(normal_male_21)\n",
    "df_comparison.rename(columns = {\"M 19-30\": \"Male Student\"}, inplace = True)\n",
    "# Adding football athlete requirements \n",
    "football = [4000, 192, 35, 400, 1300, 680, 15, 400, 20, 1250, 4700, 1.7, 1.2, 1200, 2.5, 1.6, 200, 15, 120, 15]\n",
    "df_comparison[\"Football Athlete\"] = football\n",
    "df_comparison"
   ]
  },
  {
   "cell_type": "code",
   "execution_count": 7,
   "id": "f34fc9ee-482e-4111-ba83-98105bc5476a",
   "metadata": {},
   "outputs": [
    {
     "data": {
      "text/html": [
       "<div>\n",
       "<style scoped>\n",
       "    .dataframe tbody tr th:only-of-type {\n",
       "        vertical-align: middle;\n",
       "    }\n",
       "\n",
       "    .dataframe tbody tr th {\n",
       "        vertical-align: top;\n",
       "    }\n",
       "\n",
       "    .dataframe thead th {\n",
       "        text-align: right;\n",
       "    }\n",
       "</style>\n",
       "<table border=\"1\" class=\"dataframe\">\n",
       "  <thead>\n",
       "    <tr style=\"text-align: right;\">\n",
       "      <th></th>\n",
       "      <th>Male Student</th>\n",
       "      <th>Football Athlete</th>\n",
       "    </tr>\n",
       "    <tr>\n",
       "      <th>Nutrition</th>\n",
       "      <th></th>\n",
       "      <th></th>\n",
       "    </tr>\n",
       "  </thead>\n",
       "  <tbody>\n",
       "    <tr>\n",
       "      <th>Sodium, Na</th>\n",
       "      <td>2300</td>\n",
       "      <td>5000</td>\n",
       "    </tr>\n",
       "    <tr>\n",
       "      <th>Energy</th>\n",
       "      <td>3100</td>\n",
       "      <td>7000</td>\n",
       "    </tr>\n",
       "  </tbody>\n",
       "</table>\n",
       "</div>"
      ],
      "text/plain": [
       "            Male Student  Football Athlete\n",
       "Nutrition                                 \n",
       "Sodium, Na          2300              5000\n",
       "Energy              3100              7000"
      ]
     },
     "execution_count": 7,
     "metadata": {},
     "output_type": "execute_result"
    }
   ],
   "source": [
    "bmax_normal = RDIs['diet_maximums'].set_index('Nutrition')\n",
    "\n",
    "# Drop string describing source\n",
    "bmax = bmax_normal.drop('Source',axis=1)\n",
    "bmax = pd.DataFrame(bmax_normal.iloc[:,9])\n",
    "bmax.rename(columns = {\"M 19-30\": \"Male Student\"}, inplace = True)\n",
    "bmax[\"Football Athlete\"] = [5000, 7000]\n",
    "bmax"
   ]
  },
  {
   "cell_type": "code",
   "execution_count": 8,
   "id": "82830b3a-4529-4bf5-8c95-a00717c26758",
   "metadata": {},
   "outputs": [
    {
     "name": "stdout",
     "output_type": "stream",
     "text": [
      "Key available for students@eep153.iam.gserviceaccount.com.\n"
     ]
    },
    {
     "data": {
      "text/html": [
       "<div>\n",
       "<style scoped>\n",
       "    .dataframe tbody tr th:only-of-type {\n",
       "        vertical-align: middle;\n",
       "    }\n",
       "\n",
       "    .dataframe tbody tr th {\n",
       "        vertical-align: top;\n",
       "    }\n",
       "\n",
       "    .dataframe thead th {\n",
       "        text-align: right;\n",
       "    }\n",
       "</style>\n",
       "<table border=\"1\" class=\"dataframe\">\n",
       "  <thead>\n",
       "    <tr style=\"text-align: right;\">\n",
       "      <th></th>\n",
       "      <th>Links</th>\n",
       "      <th>Food Type</th>\n",
       "      <th>Price</th>\n",
       "      <th>Quantity</th>\n",
       "      <th>Units</th>\n",
       "      <th>Unit Price</th>\n",
       "      <th>FDC</th>\n",
       "      <th>https://fdc.nal.usda.gov/fdc-app.html#/food-details/2258586/nutrients</th>\n",
       "    </tr>\n",
       "    <tr>\n",
       "      <th>Food</th>\n",
       "      <th></th>\n",
       "      <th></th>\n",
       "      <th></th>\n",
       "      <th></th>\n",
       "      <th></th>\n",
       "      <th></th>\n",
       "      <th></th>\n",
       "      <th></th>\n",
       "    </tr>\n",
       "  </thead>\n",
       "  <tbody>\n",
       "    <tr>\n",
       "      <th>Salt</th>\n",
       "      <td>https://www.traderjoes.com/home/products/pdp/s...</td>\n",
       "      <td>Condiment</td>\n",
       "      <td>1.99</td>\n",
       "      <td>3.880</td>\n",
       "      <td>oz</td>\n",
       "      <td>0.790000</td>\n",
       "      <td>746775</td>\n",
       "      <td>NaN</td>\n",
       "    </tr>\n",
       "    <tr>\n",
       "      <th>Yogurt</th>\n",
       "      <td>https://www.traderjoes.com/home/products/pdp/n...</td>\n",
       "      <td>Dairy</td>\n",
       "      <td>0.99</td>\n",
       "      <td>5.300</td>\n",
       "      <td>oz</td>\n",
       "      <td>0.186792</td>\n",
       "      <td>330137</td>\n",
       "      <td>NaN</td>\n",
       "    </tr>\n",
       "    <tr>\n",
       "      <th>String Cheese</th>\n",
       "      <td></td>\n",
       "      <td>Dairy</td>\n",
       "      <td>2.99</td>\n",
       "      <td>12.000</td>\n",
       "      <td>oz</td>\n",
       "      <td>0.249167</td>\n",
       "      <td>2341127</td>\n",
       "      <td>NaN</td>\n",
       "    </tr>\n",
       "    <tr>\n",
       "      <th>Butter</th>\n",
       "      <td></td>\n",
       "      <td>Dairy</td>\n",
       "      <td>4.69</td>\n",
       "      <td>1.000</td>\n",
       "      <td>lbs</td>\n",
       "      <td>4.690000</td>\n",
       "      <td>789828</td>\n",
       "      <td>NaN</td>\n",
       "    </tr>\n",
       "    <tr>\n",
       "      <th>Lentils</th>\n",
       "      <td>https://www.traderjoes.com/home/products/pdp/s...</td>\n",
       "      <td>Dairy</td>\n",
       "      <td>3.29</td>\n",
       "      <td>17.360</td>\n",
       "      <td>oz</td>\n",
       "      <td>0.189516</td>\n",
       "      <td>172420</td>\n",
       "      <td>NaN</td>\n",
       "    </tr>\n",
       "    <tr>\n",
       "      <th>Olive oil</th>\n",
       "      <td></td>\n",
       "      <td>Fat</td>\n",
       "      <td>6.99</td>\n",
       "      <td>0.265</td>\n",
       "      <td>gallon</td>\n",
       "      <td>26.377358</td>\n",
       "      <td>748608</td>\n",
       "      <td>NaN</td>\n",
       "    </tr>\n",
       "    <tr>\n",
       "      <th>Apple</th>\n",
       "      <td>https://www.traderjoes.com/home/products/pdp/h...</td>\n",
       "      <td>Fruit</td>\n",
       "      <td>1.29</td>\n",
       "      <td>6.000</td>\n",
       "      <td>oz</td>\n",
       "      <td>0.215000</td>\n",
       "      <td>1750340</td>\n",
       "      <td>NaN</td>\n",
       "    </tr>\n",
       "    <tr>\n",
       "      <th>Bananas</th>\n",
       "      <td></td>\n",
       "      <td>Fruit</td>\n",
       "      <td>0.25</td>\n",
       "      <td>4.000</td>\n",
       "      <td>oz</td>\n",
       "      <td>0.062500</td>\n",
       "      <td>1105314</td>\n",
       "      <td>NaN</td>\n",
       "    </tr>\n",
       "    <tr>\n",
       "      <th>Strawberries</th>\n",
       "      <td>https://www.traderjoes.com/home/products/pdp/s...</td>\n",
       "      <td>Fruit</td>\n",
       "      <td>7.99</td>\n",
       "      <td>2.000</td>\n",
       "      <td>lbs</td>\n",
       "      <td>3.995000</td>\n",
       "      <td>2346409</td>\n",
       "      <td>NaN</td>\n",
       "    </tr>\n",
       "    <tr>\n",
       "      <th>Rice</th>\n",
       "      <td>https://www.traderjoes.com/home/products/pdp/j...</td>\n",
       "      <td>Grain</td>\n",
       "      <td>2.99</td>\n",
       "      <td>3.000</td>\n",
       "      <td>lbs</td>\n",
       "      <td>0.996667</td>\n",
       "      <td>1104867</td>\n",
       "      <td>NaN</td>\n",
       "    </tr>\n",
       "    <tr>\n",
       "      <th>Pasta</th>\n",
       "      <td>https://www.traderjoes.com/home/search?q=pasta...</td>\n",
       "      <td>Grain</td>\n",
       "      <td>1.00</td>\n",
       "      <td>1.000</td>\n",
       "      <td>lbs</td>\n",
       "      <td>1.000000</td>\n",
       "      <td>2003586</td>\n",
       "      <td>NaN</td>\n",
       "    </tr>\n",
       "    <tr>\n",
       "      <th>Oatmeal</th>\n",
       "      <td>https://www.traderjoes.com/home/products/pdp/c...</td>\n",
       "      <td>Grain</td>\n",
       "      <td>2.99</td>\n",
       "      <td>14.800</td>\n",
       "      <td>oz</td>\n",
       "      <td>0.202027</td>\n",
       "      <td>2343882</td>\n",
       "      <td>NaN</td>\n",
       "    </tr>\n",
       "    <tr>\n",
       "      <th>Whole-Grain Bread</th>\n",
       "      <td>https://www.traderjoes.com/home/products/pdp/w...</td>\n",
       "      <td>Grain</td>\n",
       "      <td>1.99</td>\n",
       "      <td>22.000</td>\n",
       "      <td>oz</td>\n",
       "      <td>0.090455</td>\n",
       "      <td>168013</td>\n",
       "      <td>NaN</td>\n",
       "    </tr>\n",
       "    <tr>\n",
       "      <th>Quinoa</th>\n",
       "      <td>https://www.traderjoes.com/home/products/pdp/o...</td>\n",
       "      <td>Grain</td>\n",
       "      <td>3.99</td>\n",
       "      <td>16.000</td>\n",
       "      <td>oz</td>\n",
       "      <td>0.249375</td>\n",
       "      <td>168874</td>\n",
       "      <td>NaN</td>\n",
       "    </tr>\n",
       "    <tr>\n",
       "      <th>Chicken Breast</th>\n",
       "      <td>https://www.traderjoes.com/home/products/pdp/o...</td>\n",
       "      <td>Protein</td>\n",
       "      <td>6.99</td>\n",
       "      <td>1.000</td>\n",
       "      <td>lbs</td>\n",
       "      <td>6.990000</td>\n",
       "      <td>331960</td>\n",
       "      <td>NaN</td>\n",
       "    </tr>\n",
       "    <tr>\n",
       "      <th>Eggs</th>\n",
       "      <td>https://www.traderjoes.com/home/products/pdp/p...</td>\n",
       "      <td>Protein</td>\n",
       "      <td>4.99</td>\n",
       "      <td>12.000</td>\n",
       "      <td>xl_egg</td>\n",
       "      <td>0.415833</td>\n",
       "      <td>747997</td>\n",
       "      <td>NaN</td>\n",
       "    </tr>\n",
       "    <tr>\n",
       "      <th>Ground Beef</th>\n",
       "      <td>https://www.traderjoes.com/home/products/pdp/c...</td>\n",
       "      <td>Protein</td>\n",
       "      <td>4.99</td>\n",
       "      <td>1.000</td>\n",
       "      <td>lbs</td>\n",
       "      <td>4.990000</td>\n",
       "      <td>746758</td>\n",
       "      <td>NaN</td>\n",
       "    </tr>\n",
       "    <tr>\n",
       "      <th>Broccoli</th>\n",
       "      <td></td>\n",
       "      <td>Vegetable</td>\n",
       "      <td>2.99</td>\n",
       "      <td>12.000</td>\n",
       "      <td>oz</td>\n",
       "      <td>0.249167</td>\n",
       "      <td>747447</td>\n",
       "      <td>NaN</td>\n",
       "    </tr>\n",
       "    <tr>\n",
       "      <th>Carrots</th>\n",
       "      <td>https://www.traderjoes.com/home/products/pdp/o...</td>\n",
       "      <td>Vegetable</td>\n",
       "      <td>1.99</td>\n",
       "      <td>2.000</td>\n",
       "      <td>lbs</td>\n",
       "      <td>0.995000</td>\n",
       "      <td>2258586</td>\n",
       "      <td>NaN</td>\n",
       "    </tr>\n",
       "    <tr>\n",
       "      <th>Red Bell Pepper</th>\n",
       "      <td>https://www.traderjoes.com/home/products/pdp/o...</td>\n",
       "      <td>Vegetable</td>\n",
       "      <td>3.49</td>\n",
       "      <td>12.000</td>\n",
       "      <td>oz</td>\n",
       "      <td>0.290833</td>\n",
       "      <td>2258590</td>\n",
       "      <td>NaN</td>\n",
       "    </tr>\n",
       "    <tr>\n",
       "      <th>Potatoes</th>\n",
       "      <td>https://www.traderjoes.com/home/products/pdp/r...</td>\n",
       "      <td>Vegetable</td>\n",
       "      <td>0.79</td>\n",
       "      <td>6.000</td>\n",
       "      <td>oz</td>\n",
       "      <td>0.790000</td>\n",
       "      <td>2346401</td>\n",
       "      <td>NaN</td>\n",
       "    </tr>\n",
       "    <tr>\n",
       "      <th>Black Beans</th>\n",
       "      <td>https://www.traderjoes.com/home/products/pdp/o...</td>\n",
       "      <td>Protein</td>\n",
       "      <td>1.09</td>\n",
       "      <td>15.500</td>\n",
       "      <td>oz</td>\n",
       "      <td>0.070323</td>\n",
       "      <td>747444</td>\n",
       "      <td>NaN</td>\n",
       "    </tr>\n",
       "    <tr>\n",
       "      <th>Peanut Butter</th>\n",
       "      <td>https://www.traderjoes.com/home/products/pdp/c...</td>\n",
       "      <td>Protein</td>\n",
       "      <td>2.29</td>\n",
       "      <td>16.000</td>\n",
       "      <td>oz</td>\n",
       "      <td>0.143125</td>\n",
       "      <td>2262072</td>\n",
       "      <td>NaN</td>\n",
       "    </tr>\n",
       "    <tr>\n",
       "      <th>Spinach</th>\n",
       "      <td></td>\n",
       "      <td>Vegetable</td>\n",
       "      <td>2.69</td>\n",
       "      <td>9.000</td>\n",
       "      <td>oz</td>\n",
       "      <td>0.298889</td>\n",
       "      <td>1999632</td>\n",
       "      <td>NaN</td>\n",
       "    </tr>\n",
       "  </tbody>\n",
       "</table>\n",
       "</div>"
      ],
      "text/plain": [
       "                                                               Links  \\\n",
       "Food                                                                   \n",
       "Salt               https://www.traderjoes.com/home/products/pdp/s...   \n",
       "Yogurt             https://www.traderjoes.com/home/products/pdp/n...   \n",
       "String Cheese                                                          \n",
       "Butter                                                                 \n",
       "Lentils            https://www.traderjoes.com/home/products/pdp/s...   \n",
       "Olive oil                                                              \n",
       "Apple              https://www.traderjoes.com/home/products/pdp/h...   \n",
       "Bananas                                                                \n",
       "Strawberries       https://www.traderjoes.com/home/products/pdp/s...   \n",
       "Rice               https://www.traderjoes.com/home/products/pdp/j...   \n",
       "Pasta              https://www.traderjoes.com/home/search?q=pasta...   \n",
       "Oatmeal            https://www.traderjoes.com/home/products/pdp/c...   \n",
       "Whole-Grain Bread  https://www.traderjoes.com/home/products/pdp/w...   \n",
       "Quinoa             https://www.traderjoes.com/home/products/pdp/o...   \n",
       "Chicken Breast     https://www.traderjoes.com/home/products/pdp/o...   \n",
       "Eggs               https://www.traderjoes.com/home/products/pdp/p...   \n",
       "Ground Beef        https://www.traderjoes.com/home/products/pdp/c...   \n",
       "Broccoli                                                               \n",
       "Carrots            https://www.traderjoes.com/home/products/pdp/o...   \n",
       "Red Bell Pepper    https://www.traderjoes.com/home/products/pdp/o...   \n",
       "Potatoes           https://www.traderjoes.com/home/products/pdp/r...   \n",
       "Black Beans        https://www.traderjoes.com/home/products/pdp/o...   \n",
       "Peanut Butter      https://www.traderjoes.com/home/products/pdp/c...   \n",
       "Spinach                                                                \n",
       "\n",
       "                    Food Type  Price  Quantity    Units  Unit Price      FDC  \\\n",
       "Food                                                                           \n",
       "Salt               Condiment    1.99     3.880       oz    0.790000   746775   \n",
       "Yogurt                  Dairy   0.99     5.300       oz    0.186792   330137   \n",
       "String Cheese           Dairy   2.99    12.000       oz    0.249167  2341127   \n",
       "Butter                  Dairy   4.69     1.000     lbs     4.690000   789828   \n",
       "Lentils                 Dairy   3.29    17.360       oz    0.189516   172420   \n",
       "Olive oil                 Fat   6.99     0.265  gallon    26.377358   748608   \n",
       "Apple                   Fruit   1.29     6.000       oz    0.215000  1750340   \n",
       "Bananas                 Fruit   0.25     4.000      oz     0.062500  1105314   \n",
       "Strawberries           Fruit    7.99     2.000      lbs    3.995000  2346409   \n",
       "Rice                    Grain   2.99     3.000      lbs    0.996667  1104867   \n",
       "Pasta                   Grain   1.00     1.000      lbs    1.000000  2003586   \n",
       "Oatmeal                Grain    2.99    14.800       oz    0.202027  2343882   \n",
       "Whole-Grain Bread      Grain    1.99    22.000       oz    0.090455   168013   \n",
       "Quinoa                 Grain    3.99    16.000       oz    0.249375   168874   \n",
       "Chicken Breast        Protein   6.99     1.000      lbs    6.990000   331960   \n",
       "Eggs                 Protein    4.99    12.000   xl_egg    0.415833   747997   \n",
       "Ground Beef          Protein    4.99     1.000      lbs    4.990000   746758   \n",
       "Broccoli            Vegetable   2.99    12.000       oz    0.249167   747447   \n",
       "Carrots            Vegetable    1.99     2.000      lbs    0.995000  2258586   \n",
       "Red Bell Pepper    Vegetable    3.49    12.000       oz    0.290833  2258590   \n",
       "Potatoes           Vegetable    0.79     6.000      oz     0.790000  2346401   \n",
       "Black Beans          Protein    1.09    15.500       oz    0.070323   747444   \n",
       "Peanut Butter        Protein    2.29    16.000       oz    0.143125  2262072   \n",
       "Spinach             Vegetable   2.69     9.000       oz    0.298889  1999632   \n",
       "\n",
       "                   https://fdc.nal.usda.gov/fdc-app.html#/food-details/2258586/nutrients  \n",
       "Food                                                                                      \n",
       "Salt                                                             NaN                      \n",
       "Yogurt                                                           NaN                      \n",
       "String Cheese                                                    NaN                      \n",
       "Butter                                                           NaN                      \n",
       "Lentils                                                          NaN                      \n",
       "Olive oil                                                        NaN                      \n",
       "Apple                                                            NaN                      \n",
       "Bananas                                                          NaN                      \n",
       "Strawberries                                                     NaN                      \n",
       "Rice                                                             NaN                      \n",
       "Pasta                                                            NaN                      \n",
       "Oatmeal                                                          NaN                      \n",
       "Whole-Grain Bread                                                NaN                      \n",
       "Quinoa                                                           NaN                      \n",
       "Chicken Breast                                                   NaN                      \n",
       "Eggs                                                             NaN                      \n",
       "Ground Beef                                                      NaN                      \n",
       "Broccoli                                                         NaN                      \n",
       "Carrots                                                          NaN                      \n",
       "Red Bell Pepper                                                  NaN                      \n",
       "Potatoes                                                         NaN                      \n",
       "Black Beans                                                      NaN                      \n",
       "Peanut Butter                                                    NaN                      \n",
       "Spinach                                                          NaN                      "
      ]
     },
     "execution_count": 8,
     "metadata": {},
     "output_type": "execute_result"
    }
   ],
   "source": [
    "#Our Grocery List \n",
    "df_grocery = read_sheets(\"https://docs.google.com/spreadsheets/d/1IAsnG9HXwOc3vbsPXCbWgJp1WFO3Zn72p0e1l6t8BCc/edit#gid=1147509308\", sheet = \"Normal\")\n",
    "\n",
    "df_grocery = df_grocery.set_index('Food')\n",
    "\n",
    "df_grocery"
   ]
  },
  {
   "cell_type": "code",
   "execution_count": 9,
   "id": "8813d133-856e-412c-8993-37f8b8522244",
   "metadata": {},
   "outputs": [
    {
     "name": "stderr",
     "output_type": "stream",
     "text": [
      "/opt/conda/lib/python3.9/site-packages/pandas/core/dtypes/cast.py:1990: UnitStrippedWarning: The unit of the quantity is stripped when downcasting to ndarray.\n",
      "  result[:] = values\n"
     ]
    },
    {
     "data": {
      "text/html": [
       "<div>\n",
       "<style scoped>\n",
       "    .dataframe tbody tr th:only-of-type {\n",
       "        vertical-align: middle;\n",
       "    }\n",
       "\n",
       "    .dataframe tbody tr th {\n",
       "        vertical-align: top;\n",
       "    }\n",
       "\n",
       "    .dataframe thead th {\n",
       "        text-align: right;\n",
       "    }\n",
       "</style>\n",
       "<table border=\"1\" class=\"dataframe\">\n",
       "  <thead>\n",
       "    <tr style=\"text-align: right;\">\n",
       "      <th></th>\n",
       "      <th>Links</th>\n",
       "      <th>Food Type</th>\n",
       "      <th>Price</th>\n",
       "      <th>Quantity</th>\n",
       "      <th>Units</th>\n",
       "      <th>Unit Price</th>\n",
       "      <th>FDC</th>\n",
       "      <th>https://fdc.nal.usda.gov/fdc-app.html#/food-details/2258586/nutrients</th>\n",
       "      <th>FDC Quantity</th>\n",
       "      <th>FDC Price</th>\n",
       "    </tr>\n",
       "    <tr>\n",
       "      <th>Food</th>\n",
       "      <th></th>\n",
       "      <th></th>\n",
       "      <th></th>\n",
       "      <th></th>\n",
       "      <th></th>\n",
       "      <th></th>\n",
       "      <th></th>\n",
       "      <th></th>\n",
       "      <th></th>\n",
       "      <th></th>\n",
       "    </tr>\n",
       "  </thead>\n",
       "  <tbody>\n",
       "    <tr>\n",
       "      <th>Salt</th>\n",
       "      <td>https://www.traderjoes.com/home/products/pdp/s...</td>\n",
       "      <td>Condiment</td>\n",
       "      <td>1.99</td>\n",
       "      <td>3.880</td>\n",
       "      <td>oz</td>\n",
       "      <td>0.790000</td>\n",
       "      <td>746775</td>\n",
       "      <td>NaN</td>\n",
       "      <td>1.09996149725 hectogram</td>\n",
       "      <td>1.809154234011985 / hectogram</td>\n",
       "    </tr>\n",
       "    <tr>\n",
       "      <th>Yogurt</th>\n",
       "      <td>https://www.traderjoes.com/home/products/pdp/n...</td>\n",
       "      <td>Dairy</td>\n",
       "      <td>0.99</td>\n",
       "      <td>5.300</td>\n",
       "      <td>oz</td>\n",
       "      <td>0.186792</td>\n",
       "      <td>330137</td>\n",
       "      <td>NaN</td>\n",
       "      <td>1.502524725625 hectogram</td>\n",
       "      <td>0.6588909873600869 / hectogram</td>\n",
       "    </tr>\n",
       "    <tr>\n",
       "      <th>String Cheese</th>\n",
       "      <td></td>\n",
       "      <td>Dairy</td>\n",
       "      <td>2.99</td>\n",
       "      <td>12.000</td>\n",
       "      <td>oz</td>\n",
       "      <td>0.249167</td>\n",
       "      <td>2341127</td>\n",
       "      <td>NaN</td>\n",
       "      <td>3.401942775 hectogram</td>\n",
       "      <td>0.8789095519103787 / hectogram</td>\n",
       "    </tr>\n",
       "    <tr>\n",
       "      <th>Butter</th>\n",
       "      <td></td>\n",
       "      <td>Dairy</td>\n",
       "      <td>4.69</td>\n",
       "      <td>1.000</td>\n",
       "      <td>lbs</td>\n",
       "      <td>4.690000</td>\n",
       "      <td>789828</td>\n",
       "      <td>NaN</td>\n",
       "      <td>4.535923700000001 hectogram</td>\n",
       "      <td>1.0339680096470758 / hectogram</td>\n",
       "    </tr>\n",
       "    <tr>\n",
       "      <th>Lentils</th>\n",
       "      <td>https://www.traderjoes.com/home/products/pdp/s...</td>\n",
       "      <td>Dairy</td>\n",
       "      <td>3.29</td>\n",
       "      <td>17.360</td>\n",
       "      <td>oz</td>\n",
       "      <td>0.189516</td>\n",
       "      <td>172420</td>\n",
       "      <td>NaN</td>\n",
       "      <td>4.9214772145 hectogram</td>\n",
       "      <td>0.6684984724315642 / hectogram</td>\n",
       "    </tr>\n",
       "    <tr>\n",
       "      <th>Olive oil</th>\n",
       "      <td></td>\n",
       "      <td>Fat</td>\n",
       "      <td>6.99</td>\n",
       "      <td>0.265</td>\n",
       "      <td>gallon</td>\n",
       "      <td>26.377358</td>\n",
       "      <td>748608</td>\n",
       "      <td>NaN</td>\n",
       "      <td>10.031341227599997 deciliter</td>\n",
       "      <td>0.6968160928239464 / deciliter</td>\n",
       "    </tr>\n",
       "    <tr>\n",
       "      <th>Apple</th>\n",
       "      <td>https://www.traderjoes.com/home/products/pdp/h...</td>\n",
       "      <td>Fruit</td>\n",
       "      <td>1.29</td>\n",
       "      <td>6.000</td>\n",
       "      <td>oz</td>\n",
       "      <td>0.215000</td>\n",
       "      <td>1750340</td>\n",
       "      <td>NaN</td>\n",
       "      <td>1.7009713875 hectogram</td>\n",
       "      <td>0.7583901819159788 / hectogram</td>\n",
       "    </tr>\n",
       "    <tr>\n",
       "      <th>Bananas</th>\n",
       "      <td></td>\n",
       "      <td>Fruit</td>\n",
       "      <td>0.25</td>\n",
       "      <td>4.000</td>\n",
       "      <td>oz</td>\n",
       "      <td>0.062500</td>\n",
       "      <td>1105314</td>\n",
       "      <td>NaN</td>\n",
       "      <td>1.1339809250000001 hectogram</td>\n",
       "      <td>0.22046226218487755 / hectogram</td>\n",
       "    </tr>\n",
       "    <tr>\n",
       "      <th>Strawberries</th>\n",
       "      <td>https://www.traderjoes.com/home/products/pdp/s...</td>\n",
       "      <td>Fruit</td>\n",
       "      <td>7.99</td>\n",
       "      <td>2.000</td>\n",
       "      <td>lbs</td>\n",
       "      <td>3.995000</td>\n",
       "      <td>2346409</td>\n",
       "      <td>NaN</td>\n",
       "      <td>9.071847400000001 hectogram</td>\n",
       "      <td>0.8807467374285859 / hectogram</td>\n",
       "    </tr>\n",
       "    <tr>\n",
       "      <th>Rice</th>\n",
       "      <td>https://www.traderjoes.com/home/products/pdp/j...</td>\n",
       "      <td>Grain</td>\n",
       "      <td>2.99</td>\n",
       "      <td>3.000</td>\n",
       "      <td>lbs</td>\n",
       "      <td>0.996667</td>\n",
       "      <td>1104867</td>\n",
       "      <td>NaN</td>\n",
       "      <td>13.6077711 hectogram</td>\n",
       "      <td>0.21972738797759467 / hectogram</td>\n",
       "    </tr>\n",
       "    <tr>\n",
       "      <th>Pasta</th>\n",
       "      <td>https://www.traderjoes.com/home/search?q=pasta...</td>\n",
       "      <td>Grain</td>\n",
       "      <td>1.00</td>\n",
       "      <td>1.000</td>\n",
       "      <td>lbs</td>\n",
       "      <td>1.000000</td>\n",
       "      <td>2003586</td>\n",
       "      <td>NaN</td>\n",
       "      <td>4.535923700000001 hectogram</td>\n",
       "      <td>0.22046226218487755 / hectogram</td>\n",
       "    </tr>\n",
       "    <tr>\n",
       "      <th>Oatmeal</th>\n",
       "      <td>https://www.traderjoes.com/home/products/pdp/c...</td>\n",
       "      <td>Grain</td>\n",
       "      <td>2.99</td>\n",
       "      <td>14.800</td>\n",
       "      <td>oz</td>\n",
       "      <td>0.202027</td>\n",
       "      <td>2343882</td>\n",
       "      <td>NaN</td>\n",
       "      <td>4.1957294225 hectogram</td>\n",
       "      <td>0.7126293664138205 / hectogram</td>\n",
       "    </tr>\n",
       "    <tr>\n",
       "      <th>Whole-Grain Bread</th>\n",
       "      <td>https://www.traderjoes.com/home/products/pdp/w...</td>\n",
       "      <td>Grain</td>\n",
       "      <td>1.99</td>\n",
       "      <td>22.000</td>\n",
       "      <td>oz</td>\n",
       "      <td>0.090455</td>\n",
       "      <td>168013</td>\n",
       "      <td>NaN</td>\n",
       "      <td>6.236895087500001 hectogram</td>\n",
       "      <td>0.3190690194530228 / hectogram</td>\n",
       "    </tr>\n",
       "    <tr>\n",
       "      <th>Quinoa</th>\n",
       "      <td>https://www.traderjoes.com/home/products/pdp/o...</td>\n",
       "      <td>Grain</td>\n",
       "      <td>3.99</td>\n",
       "      <td>16.000</td>\n",
       "      <td>oz</td>\n",
       "      <td>0.249375</td>\n",
       "      <td>168874</td>\n",
       "      <td>NaN</td>\n",
       "      <td>4.535923700000001 hectogram</td>\n",
       "      <td>0.8796444261176615 / hectogram</td>\n",
       "    </tr>\n",
       "    <tr>\n",
       "      <th>Chicken Breast</th>\n",
       "      <td>https://www.traderjoes.com/home/products/pdp/o...</td>\n",
       "      <td>Protein</td>\n",
       "      <td>6.99</td>\n",
       "      <td>1.000</td>\n",
       "      <td>lbs</td>\n",
       "      <td>6.990000</td>\n",
       "      <td>331960</td>\n",
       "      <td>NaN</td>\n",
       "      <td>4.535923700000001 hectogram</td>\n",
       "      <td>1.541031212672294 / hectogram</td>\n",
       "    </tr>\n",
       "    <tr>\n",
       "      <th>Eggs</th>\n",
       "      <td>https://www.traderjoes.com/home/products/pdp/p...</td>\n",
       "      <td>Protein</td>\n",
       "      <td>4.99</td>\n",
       "      <td>12.000</td>\n",
       "      <td>xl_egg</td>\n",
       "      <td>0.415833</td>\n",
       "      <td>747997</td>\n",
       "      <td>NaN</td>\n",
       "      <td>6.720000000000001 hectogram</td>\n",
       "      <td>0.7425595238095237 / hectogram</td>\n",
       "    </tr>\n",
       "    <tr>\n",
       "      <th>Ground Beef</th>\n",
       "      <td>https://www.traderjoes.com/home/products/pdp/c...</td>\n",
       "      <td>Protein</td>\n",
       "      <td>4.99</td>\n",
       "      <td>1.000</td>\n",
       "      <td>lbs</td>\n",
       "      <td>4.990000</td>\n",
       "      <td>746758</td>\n",
       "      <td>NaN</td>\n",
       "      <td>4.535923700000001 hectogram</td>\n",
       "      <td>1.100106688302539 / hectogram</td>\n",
       "    </tr>\n",
       "    <tr>\n",
       "      <th>Broccoli</th>\n",
       "      <td></td>\n",
       "      <td>Vegetable</td>\n",
       "      <td>2.99</td>\n",
       "      <td>12.000</td>\n",
       "      <td>oz</td>\n",
       "      <td>0.249167</td>\n",
       "      <td>747447</td>\n",
       "      <td>NaN</td>\n",
       "      <td>3.401942775 hectogram</td>\n",
       "      <td>0.8789095519103787 / hectogram</td>\n",
       "    </tr>\n",
       "    <tr>\n",
       "      <th>Carrots</th>\n",
       "      <td>https://www.traderjoes.com/home/products/pdp/o...</td>\n",
       "      <td>Vegetable</td>\n",
       "      <td>1.99</td>\n",
       "      <td>2.000</td>\n",
       "      <td>lbs</td>\n",
       "      <td>0.995000</td>\n",
       "      <td>2258586</td>\n",
       "      <td>NaN</td>\n",
       "      <td>9.071847400000001 hectogram</td>\n",
       "      <td>0.21935995087395316 / hectogram</td>\n",
       "    </tr>\n",
       "    <tr>\n",
       "      <th>Red Bell Pepper</th>\n",
       "      <td>https://www.traderjoes.com/home/products/pdp/o...</td>\n",
       "      <td>Vegetable</td>\n",
       "      <td>3.49</td>\n",
       "      <td>12.000</td>\n",
       "      <td>oz</td>\n",
       "      <td>0.290833</td>\n",
       "      <td>2258590</td>\n",
       "      <td>NaN</td>\n",
       "      <td>3.401942775 hectogram</td>\n",
       "      <td>1.0258843933669637 / hectogram</td>\n",
       "    </tr>\n",
       "    <tr>\n",
       "      <th>Potatoes</th>\n",
       "      <td>https://www.traderjoes.com/home/products/pdp/r...</td>\n",
       "      <td>Vegetable</td>\n",
       "      <td>0.79</td>\n",
       "      <td>6.000</td>\n",
       "      <td>oz</td>\n",
       "      <td>0.790000</td>\n",
       "      <td>2346401</td>\n",
       "      <td>NaN</td>\n",
       "      <td>1.7009713875 hectogram</td>\n",
       "      <td>0.46444049900280876 / hectogram</td>\n",
       "    </tr>\n",
       "    <tr>\n",
       "      <th>Black Beans</th>\n",
       "      <td>https://www.traderjoes.com/home/products/pdp/o...</td>\n",
       "      <td>Protein</td>\n",
       "      <td>1.09</td>\n",
       "      <td>15.500</td>\n",
       "      <td>oz</td>\n",
       "      <td>0.070323</td>\n",
       "      <td>747444</td>\n",
       "      <td>NaN</td>\n",
       "      <td>4.394176084375 hectogram</td>\n",
       "      <td>0.24805560338737195 / hectogram</td>\n",
       "    </tr>\n",
       "    <tr>\n",
       "      <th>Peanut Butter</th>\n",
       "      <td>https://www.traderjoes.com/home/products/pdp/c...</td>\n",
       "      <td>Protein</td>\n",
       "      <td>2.29</td>\n",
       "      <td>16.000</td>\n",
       "      <td>oz</td>\n",
       "      <td>0.143125</td>\n",
       "      <td>2262072</td>\n",
       "      <td>NaN</td>\n",
       "      <td>4.535923700000001 hectogram</td>\n",
       "      <td>0.5048585804033696 / hectogram</td>\n",
       "    </tr>\n",
       "    <tr>\n",
       "      <th>Spinach</th>\n",
       "      <td></td>\n",
       "      <td>Vegetable</td>\n",
       "      <td>2.69</td>\n",
       "      <td>9.000</td>\n",
       "      <td>oz</td>\n",
       "      <td>0.298889</td>\n",
       "      <td>1999632</td>\n",
       "      <td>NaN</td>\n",
       "      <td>2.55145708125 hectogram</td>\n",
       "      <td>1.0542995293819033 / hectogram</td>\n",
       "    </tr>\n",
       "  </tbody>\n",
       "</table>\n",
       "</div>"
      ],
      "text/plain": [
       "                                                               Links  \\\n",
       "Food                                                                   \n",
       "Salt               https://www.traderjoes.com/home/products/pdp/s...   \n",
       "Yogurt             https://www.traderjoes.com/home/products/pdp/n...   \n",
       "String Cheese                                                          \n",
       "Butter                                                                 \n",
       "Lentils            https://www.traderjoes.com/home/products/pdp/s...   \n",
       "Olive oil                                                              \n",
       "Apple              https://www.traderjoes.com/home/products/pdp/h...   \n",
       "Bananas                                                                \n",
       "Strawberries       https://www.traderjoes.com/home/products/pdp/s...   \n",
       "Rice               https://www.traderjoes.com/home/products/pdp/j...   \n",
       "Pasta              https://www.traderjoes.com/home/search?q=pasta...   \n",
       "Oatmeal            https://www.traderjoes.com/home/products/pdp/c...   \n",
       "Whole-Grain Bread  https://www.traderjoes.com/home/products/pdp/w...   \n",
       "Quinoa             https://www.traderjoes.com/home/products/pdp/o...   \n",
       "Chicken Breast     https://www.traderjoes.com/home/products/pdp/o...   \n",
       "Eggs               https://www.traderjoes.com/home/products/pdp/p...   \n",
       "Ground Beef        https://www.traderjoes.com/home/products/pdp/c...   \n",
       "Broccoli                                                               \n",
       "Carrots            https://www.traderjoes.com/home/products/pdp/o...   \n",
       "Red Bell Pepper    https://www.traderjoes.com/home/products/pdp/o...   \n",
       "Potatoes           https://www.traderjoes.com/home/products/pdp/r...   \n",
       "Black Beans        https://www.traderjoes.com/home/products/pdp/o...   \n",
       "Peanut Butter      https://www.traderjoes.com/home/products/pdp/c...   \n",
       "Spinach                                                                \n",
       "\n",
       "                    Food Type  Price  Quantity    Units  Unit Price      FDC  \\\n",
       "Food                                                                           \n",
       "Salt               Condiment    1.99     3.880       oz    0.790000   746775   \n",
       "Yogurt                  Dairy   0.99     5.300       oz    0.186792   330137   \n",
       "String Cheese           Dairy   2.99    12.000       oz    0.249167  2341127   \n",
       "Butter                  Dairy   4.69     1.000     lbs     4.690000   789828   \n",
       "Lentils                 Dairy   3.29    17.360       oz    0.189516   172420   \n",
       "Olive oil                 Fat   6.99     0.265  gallon    26.377358   748608   \n",
       "Apple                   Fruit   1.29     6.000       oz    0.215000  1750340   \n",
       "Bananas                 Fruit   0.25     4.000      oz     0.062500  1105314   \n",
       "Strawberries           Fruit    7.99     2.000      lbs    3.995000  2346409   \n",
       "Rice                    Grain   2.99     3.000      lbs    0.996667  1104867   \n",
       "Pasta                   Grain   1.00     1.000      lbs    1.000000  2003586   \n",
       "Oatmeal                Grain    2.99    14.800       oz    0.202027  2343882   \n",
       "Whole-Grain Bread      Grain    1.99    22.000       oz    0.090455   168013   \n",
       "Quinoa                 Grain    3.99    16.000       oz    0.249375   168874   \n",
       "Chicken Breast        Protein   6.99     1.000      lbs    6.990000   331960   \n",
       "Eggs                 Protein    4.99    12.000   xl_egg    0.415833   747997   \n",
       "Ground Beef          Protein    4.99     1.000      lbs    4.990000   746758   \n",
       "Broccoli            Vegetable   2.99    12.000       oz    0.249167   747447   \n",
       "Carrots            Vegetable    1.99     2.000      lbs    0.995000  2258586   \n",
       "Red Bell Pepper    Vegetable    3.49    12.000       oz    0.290833  2258590   \n",
       "Potatoes           Vegetable    0.79     6.000      oz     0.790000  2346401   \n",
       "Black Beans          Protein    1.09    15.500       oz    0.070323   747444   \n",
       "Peanut Butter        Protein    2.29    16.000       oz    0.143125  2262072   \n",
       "Spinach             Vegetable   2.69     9.000       oz    0.298889  1999632   \n",
       "\n",
       "                   https://fdc.nal.usda.gov/fdc-app.html#/food-details/2258586/nutrients  \\\n",
       "Food                                                                                       \n",
       "Salt                                                             NaN                       \n",
       "Yogurt                                                           NaN                       \n",
       "String Cheese                                                    NaN                       \n",
       "Butter                                                           NaN                       \n",
       "Lentils                                                          NaN                       \n",
       "Olive oil                                                        NaN                       \n",
       "Apple                                                            NaN                       \n",
       "Bananas                                                          NaN                       \n",
       "Strawberries                                                     NaN                       \n",
       "Rice                                                             NaN                       \n",
       "Pasta                                                            NaN                       \n",
       "Oatmeal                                                          NaN                       \n",
       "Whole-Grain Bread                                                NaN                       \n",
       "Quinoa                                                           NaN                       \n",
       "Chicken Breast                                                   NaN                       \n",
       "Eggs                                                             NaN                       \n",
       "Ground Beef                                                      NaN                       \n",
       "Broccoli                                                         NaN                       \n",
       "Carrots                                                          NaN                       \n",
       "Red Bell Pepper                                                  NaN                       \n",
       "Potatoes                                                         NaN                       \n",
       "Black Beans                                                      NaN                       \n",
       "Peanut Butter                                                    NaN                       \n",
       "Spinach                                                          NaN                       \n",
       "\n",
       "                                   FDC Quantity  \\\n",
       "Food                                              \n",
       "Salt                    1.09996149725 hectogram   \n",
       "Yogurt                 1.502524725625 hectogram   \n",
       "String Cheese             3.401942775 hectogram   \n",
       "Butter              4.535923700000001 hectogram   \n",
       "Lentils                  4.9214772145 hectogram   \n",
       "Olive oil          10.031341227599997 deciliter   \n",
       "Apple                    1.7009713875 hectogram   \n",
       "Bananas            1.1339809250000001 hectogram   \n",
       "Strawberries        9.071847400000001 hectogram   \n",
       "Rice                       13.6077711 hectogram   \n",
       "Pasta               4.535923700000001 hectogram   \n",
       "Oatmeal                  4.1957294225 hectogram   \n",
       "Whole-Grain Bread   6.236895087500001 hectogram   \n",
       "Quinoa              4.535923700000001 hectogram   \n",
       "Chicken Breast      4.535923700000001 hectogram   \n",
       "Eggs                6.720000000000001 hectogram   \n",
       "Ground Beef         4.535923700000001 hectogram   \n",
       "Broccoli                  3.401942775 hectogram   \n",
       "Carrots             9.071847400000001 hectogram   \n",
       "Red Bell Pepper           3.401942775 hectogram   \n",
       "Potatoes                 1.7009713875 hectogram   \n",
       "Black Beans            4.394176084375 hectogram   \n",
       "Peanut Butter       4.535923700000001 hectogram   \n",
       "Spinach                 2.55145708125 hectogram   \n",
       "\n",
       "                                         FDC Price  \n",
       "Food                                                \n",
       "Salt                 1.809154234011985 / hectogram  \n",
       "Yogurt              0.6588909873600869 / hectogram  \n",
       "String Cheese       0.8789095519103787 / hectogram  \n",
       "Butter              1.0339680096470758 / hectogram  \n",
       "Lentils             0.6684984724315642 / hectogram  \n",
       "Olive oil           0.6968160928239464 / deciliter  \n",
       "Apple               0.7583901819159788 / hectogram  \n",
       "Bananas            0.22046226218487755 / hectogram  \n",
       "Strawberries        0.8807467374285859 / hectogram  \n",
       "Rice               0.21972738797759467 / hectogram  \n",
       "Pasta              0.22046226218487755 / hectogram  \n",
       "Oatmeal             0.7126293664138205 / hectogram  \n",
       "Whole-Grain Bread   0.3190690194530228 / hectogram  \n",
       "Quinoa              0.8796444261176615 / hectogram  \n",
       "Chicken Breast       1.541031212672294 / hectogram  \n",
       "Eggs                0.7425595238095237 / hectogram  \n",
       "Ground Beef          1.100106688302539 / hectogram  \n",
       "Broccoli            0.8789095519103787 / hectogram  \n",
       "Carrots            0.21935995087395316 / hectogram  \n",
       "Red Bell Pepper     1.0258843933669637 / hectogram  \n",
       "Potatoes           0.46444049900280876 / hectogram  \n",
       "Black Beans        0.24805560338737195 / hectogram  \n",
       "Peanut Butter       0.5048585804033696 / hectogram  \n",
       "Spinach             1.0542995293819033 / hectogram  "
      ]
     },
     "execution_count": 9,
     "metadata": {},
     "output_type": "execute_result"
    }
   ],
   "source": [
    "#Changing the units to hectograms and deciliter:\n",
    "df_grocery['FDC Quantity'] = df_grocery[['Quantity','Units']].T.apply(lambda x : fdc.units(x['Quantity'],x['Units']))\n",
    "df_grocery['FDC Price'] = df_grocery['Price']/df_grocery['FDC Quantity']\n",
    "df_grocery.dropna(how='any') # Drop food with any missing data\n",
    "df_grocery"
   ]
  },
  {
   "cell_type": "code",
   "execution_count": 10,
   "id": "08bbbf27",
   "metadata": {},
   "outputs": [
    {
     "name": "stdout",
     "output_type": "stream",
     "text": [
      "Salt\n",
      "Yogurt\n",
      "String Cheese\n",
      "Butter \n",
      "Lentils\n",
      "Olive oil \n",
      "Apple\n",
      "Bananas\n",
      "Strawberries\n",
      "Rice\n",
      "Pasta\n",
      "Oatmeal\n",
      "Whole-Grain Bread\n",
      "Quinoa\n",
      "Chicken Breast\n",
      "Eggs\n",
      "Ground Beef\n",
      "Broccoli\n",
      "Carrots\n",
      "Red Bell Pepper\n",
      "Potatoes\n",
      "Black Beans\n",
      "Peanut Butter\n",
      "Spinach\n"
     ]
    },
    {
     "data": {
      "text/html": [
       "<div>\n",
       "<style scoped>\n",
       "    .dataframe tbody tr th:only-of-type {\n",
       "        vertical-align: middle;\n",
       "    }\n",
       "\n",
       "    .dataframe tbody tr th {\n",
       "        vertical-align: top;\n",
       "    }\n",
       "\n",
       "    .dataframe thead th {\n",
       "        text-align: right;\n",
       "    }\n",
       "</style>\n",
       "<table border=\"1\" class=\"dataframe\">\n",
       "  <thead>\n",
       "    <tr style=\"text-align: right;\">\n",
       "      <th></th>\n",
       "      <th>Salt</th>\n",
       "      <th>Yogurt</th>\n",
       "      <th>String Cheese</th>\n",
       "      <th>Butter</th>\n",
       "      <th>Lentils</th>\n",
       "      <th>Olive oil</th>\n",
       "      <th>Apple</th>\n",
       "      <th>Bananas</th>\n",
       "      <th>Strawberries</th>\n",
       "      <th>Rice</th>\n",
       "      <th>...</th>\n",
       "      <th>Chicken Breast</th>\n",
       "      <th>Eggs</th>\n",
       "      <th>Ground Beef</th>\n",
       "      <th>Broccoli</th>\n",
       "      <th>Carrots</th>\n",
       "      <th>Red Bell Pepper</th>\n",
       "      <th>Potatoes</th>\n",
       "      <th>Black Beans</th>\n",
       "      <th>Peanut Butter</th>\n",
       "      <th>Spinach</th>\n",
       "    </tr>\n",
       "  </thead>\n",
       "  <tbody>\n",
       "    <tr>\n",
       "      <th>Alanine</th>\n",
       "      <td>NaN</td>\n",
       "      <td>0.350</td>\n",
       "      <td>NaN</td>\n",
       "      <td>NaN</td>\n",
       "      <td>1.029</td>\n",
       "      <td>NaN</td>\n",
       "      <td>NaN</td>\n",
       "      <td>NaN</td>\n",
       "      <td>NaN</td>\n",
       "      <td>NaN</td>\n",
       "      <td>...</td>\n",
       "      <td>NaN</td>\n",
       "      <td>0.714</td>\n",
       "      <td>NaN</td>\n",
       "      <td>0.104</td>\n",
       "      <td>NaN</td>\n",
       "      <td>NaN</td>\n",
       "      <td>NaN</td>\n",
       "      <td>NaN</td>\n",
       "      <td>1.160</td>\n",
       "      <td>NaN</td>\n",
       "    </tr>\n",
       "    <tr>\n",
       "      <th>Alcohol, ethyl</th>\n",
       "      <td>NaN</td>\n",
       "      <td>NaN</td>\n",
       "      <td>0.0</td>\n",
       "      <td>NaN</td>\n",
       "      <td>0.000</td>\n",
       "      <td>NaN</td>\n",
       "      <td>NaN</td>\n",
       "      <td>NaN</td>\n",
       "      <td>NaN</td>\n",
       "      <td>NaN</td>\n",
       "      <td>...</td>\n",
       "      <td>NaN</td>\n",
       "      <td>NaN</td>\n",
       "      <td>NaN</td>\n",
       "      <td>NaN</td>\n",
       "      <td>NaN</td>\n",
       "      <td>NaN</td>\n",
       "      <td>NaN</td>\n",
       "      <td>NaN</td>\n",
       "      <td>NaN</td>\n",
       "      <td>NaN</td>\n",
       "    </tr>\n",
       "    <tr>\n",
       "      <th>Amino acids</th>\n",
       "      <td>NaN</td>\n",
       "      <td>0.000</td>\n",
       "      <td>NaN</td>\n",
       "      <td>NaN</td>\n",
       "      <td>0.000</td>\n",
       "      <td>NaN</td>\n",
       "      <td>NaN</td>\n",
       "      <td>NaN</td>\n",
       "      <td>NaN</td>\n",
       "      <td>NaN</td>\n",
       "      <td>...</td>\n",
       "      <td>NaN</td>\n",
       "      <td>0.000</td>\n",
       "      <td>NaN</td>\n",
       "      <td>0.000</td>\n",
       "      <td>NaN</td>\n",
       "      <td>NaN</td>\n",
       "      <td>NaN</td>\n",
       "      <td>NaN</td>\n",
       "      <td>0.000</td>\n",
       "      <td>NaN</td>\n",
       "    </tr>\n",
       "    <tr>\n",
       "      <th>Arginine</th>\n",
       "      <td>NaN</td>\n",
       "      <td>0.363</td>\n",
       "      <td>NaN</td>\n",
       "      <td>NaN</td>\n",
       "      <td>1.903</td>\n",
       "      <td>NaN</td>\n",
       "      <td>NaN</td>\n",
       "      <td>NaN</td>\n",
       "      <td>NaN</td>\n",
       "      <td>NaN</td>\n",
       "      <td>...</td>\n",
       "      <td>NaN</td>\n",
       "      <td>0.691</td>\n",
       "      <td>NaN</td>\n",
       "      <td>0.191</td>\n",
       "      <td>NaN</td>\n",
       "      <td>NaN</td>\n",
       "      <td>NaN</td>\n",
       "      <td>NaN</td>\n",
       "      <td>3.323</td>\n",
       "      <td>NaN</td>\n",
       "    </tr>\n",
       "    <tr>\n",
       "      <th>Ash</th>\n",
       "      <td>99.0</td>\n",
       "      <td>0.720</td>\n",
       "      <td>NaN</td>\n",
       "      <td>NaN</td>\n",
       "      <td>2.710</td>\n",
       "      <td>NaN</td>\n",
       "      <td>0.4279</td>\n",
       "      <td>0.7</td>\n",
       "      <td>0.345</td>\n",
       "      <td>0.22</td>\n",
       "      <td>...</td>\n",
       "      <td>1.19</td>\n",
       "      <td>0.650</td>\n",
       "      <td>1.22</td>\n",
       "      <td>0.830</td>\n",
       "      <td>0.7206</td>\n",
       "      <td>0.3956</td>\n",
       "      <td>0.985</td>\n",
       "      <td>NaN</td>\n",
       "      <td>2.771</td>\n",
       "      <td>1.603</td>\n",
       "    </tr>\n",
       "    <tr>\n",
       "      <th>...</th>\n",
       "      <td>...</td>\n",
       "      <td>...</td>\n",
       "      <td>...</td>\n",
       "      <td>...</td>\n",
       "      <td>...</td>\n",
       "      <td>...</td>\n",
       "      <td>...</td>\n",
       "      <td>...</td>\n",
       "      <td>...</td>\n",
       "      <td>...</td>\n",
       "      <td>...</td>\n",
       "      <td>...</td>\n",
       "      <td>...</td>\n",
       "      <td>...</td>\n",
       "      <td>...</td>\n",
       "      <td>...</td>\n",
       "      <td>...</td>\n",
       "      <td>...</td>\n",
       "      <td>...</td>\n",
       "      <td>...</td>\n",
       "      <td>...</td>\n",
       "    </tr>\n",
       "    <tr>\n",
       "      <th>cis-Lutein/Zeaxanthin</th>\n",
       "      <td>NaN</td>\n",
       "      <td>NaN</td>\n",
       "      <td>NaN</td>\n",
       "      <td>NaN</td>\n",
       "      <td>NaN</td>\n",
       "      <td>NaN</td>\n",
       "      <td>NaN</td>\n",
       "      <td>0.0</td>\n",
       "      <td>NaN</td>\n",
       "      <td>NaN</td>\n",
       "      <td>...</td>\n",
       "      <td>NaN</td>\n",
       "      <td>NaN</td>\n",
       "      <td>NaN</td>\n",
       "      <td>NaN</td>\n",
       "      <td>NaN</td>\n",
       "      <td>NaN</td>\n",
       "      <td>NaN</td>\n",
       "      <td>NaN</td>\n",
       "      <td>NaN</td>\n",
       "      <td>0.000</td>\n",
       "    </tr>\n",
       "    <tr>\n",
       "      <th>cis-Lycopene</th>\n",
       "      <td>NaN</td>\n",
       "      <td>NaN</td>\n",
       "      <td>NaN</td>\n",
       "      <td>NaN</td>\n",
       "      <td>NaN</td>\n",
       "      <td>NaN</td>\n",
       "      <td>NaN</td>\n",
       "      <td>0.0</td>\n",
       "      <td>NaN</td>\n",
       "      <td>NaN</td>\n",
       "      <td>...</td>\n",
       "      <td>NaN</td>\n",
       "      <td>NaN</td>\n",
       "      <td>NaN</td>\n",
       "      <td>NaN</td>\n",
       "      <td>NaN</td>\n",
       "      <td>NaN</td>\n",
       "      <td>NaN</td>\n",
       "      <td>NaN</td>\n",
       "      <td>NaN</td>\n",
       "      <td>NaN</td>\n",
       "    </tr>\n",
       "    <tr>\n",
       "      <th>cis-beta-Carotene</th>\n",
       "      <td>NaN</td>\n",
       "      <td>NaN</td>\n",
       "      <td>NaN</td>\n",
       "      <td>NaN</td>\n",
       "      <td>NaN</td>\n",
       "      <td>NaN</td>\n",
       "      <td>NaN</td>\n",
       "      <td>1.0</td>\n",
       "      <td>NaN</td>\n",
       "      <td>NaN</td>\n",
       "      <td>...</td>\n",
       "      <td>NaN</td>\n",
       "      <td>NaN</td>\n",
       "      <td>NaN</td>\n",
       "      <td>NaN</td>\n",
       "      <td>NaN</td>\n",
       "      <td>NaN</td>\n",
       "      <td>NaN</td>\n",
       "      <td>NaN</td>\n",
       "      <td>NaN</td>\n",
       "      <td>NaN</td>\n",
       "    </tr>\n",
       "    <tr>\n",
       "      <th>trans-Lycopene</th>\n",
       "      <td>NaN</td>\n",
       "      <td>NaN</td>\n",
       "      <td>NaN</td>\n",
       "      <td>NaN</td>\n",
       "      <td>NaN</td>\n",
       "      <td>NaN</td>\n",
       "      <td>NaN</td>\n",
       "      <td>0.0</td>\n",
       "      <td>NaN</td>\n",
       "      <td>NaN</td>\n",
       "      <td>...</td>\n",
       "      <td>NaN</td>\n",
       "      <td>NaN</td>\n",
       "      <td>NaN</td>\n",
       "      <td>NaN</td>\n",
       "      <td>NaN</td>\n",
       "      <td>NaN</td>\n",
       "      <td>NaN</td>\n",
       "      <td>NaN</td>\n",
       "      <td>NaN</td>\n",
       "      <td>NaN</td>\n",
       "    </tr>\n",
       "    <tr>\n",
       "      <th>trans-beta-Carotene</th>\n",
       "      <td>NaN</td>\n",
       "      <td>NaN</td>\n",
       "      <td>NaN</td>\n",
       "      <td>NaN</td>\n",
       "      <td>NaN</td>\n",
       "      <td>NaN</td>\n",
       "      <td>NaN</td>\n",
       "      <td>7.0</td>\n",
       "      <td>NaN</td>\n",
       "      <td>NaN</td>\n",
       "      <td>...</td>\n",
       "      <td>NaN</td>\n",
       "      <td>NaN</td>\n",
       "      <td>NaN</td>\n",
       "      <td>NaN</td>\n",
       "      <td>NaN</td>\n",
       "      <td>NaN</td>\n",
       "      <td>NaN</td>\n",
       "      <td>NaN</td>\n",
       "      <td>NaN</td>\n",
       "      <td>NaN</td>\n",
       "    </tr>\n",
       "  </tbody>\n",
       "</table>\n",
       "<p>216 rows × 24 columns</p>\n",
       "</div>"
      ],
      "text/plain": [
       "                       Salt  Yogurt  String Cheese  Butter   Lentils  \\\n",
       "Alanine                 NaN   0.350            NaN      NaN    1.029   \n",
       "Alcohol, ethyl          NaN     NaN            0.0      NaN    0.000   \n",
       "Amino acids             NaN   0.000            NaN      NaN    0.000   \n",
       "Arginine                NaN   0.363            NaN      NaN    1.903   \n",
       "Ash                    99.0   0.720            NaN      NaN    2.710   \n",
       "...                     ...     ...            ...      ...      ...   \n",
       "cis-Lutein/Zeaxanthin   NaN     NaN            NaN      NaN      NaN   \n",
       "cis-Lycopene            NaN     NaN            NaN      NaN      NaN   \n",
       "cis-beta-Carotene       NaN     NaN            NaN      NaN      NaN   \n",
       "trans-Lycopene          NaN     NaN            NaN      NaN      NaN   \n",
       "trans-beta-Carotene     NaN     NaN            NaN      NaN      NaN   \n",
       "\n",
       "                       Olive oil    Apple  Bananas  Strawberries  Rice  ...  \\\n",
       "Alanine                       NaN     NaN      NaN           NaN   NaN  ...   \n",
       "Alcohol, ethyl                NaN     NaN      NaN           NaN   NaN  ...   \n",
       "Amino acids                   NaN     NaN      NaN           NaN   NaN  ...   \n",
       "Arginine                      NaN     NaN      NaN           NaN   NaN  ...   \n",
       "Ash                           NaN  0.4279      0.7         0.345  0.22  ...   \n",
       "...                           ...     ...      ...           ...   ...  ...   \n",
       "cis-Lutein/Zeaxanthin         NaN     NaN      0.0           NaN   NaN  ...   \n",
       "cis-Lycopene                  NaN     NaN      0.0           NaN   NaN  ...   \n",
       "cis-beta-Carotene             NaN     NaN      1.0           NaN   NaN  ...   \n",
       "trans-Lycopene                NaN     NaN      0.0           NaN   NaN  ...   \n",
       "trans-beta-Carotene           NaN     NaN      7.0           NaN   NaN  ...   \n",
       "\n",
       "                       Chicken Breast   Eggs  Ground Beef  Broccoli  Carrots  \\\n",
       "Alanine                           NaN  0.714          NaN     0.104      NaN   \n",
       "Alcohol, ethyl                    NaN    NaN          NaN       NaN      NaN   \n",
       "Amino acids                       NaN  0.000          NaN     0.000      NaN   \n",
       "Arginine                          NaN  0.691          NaN     0.191      NaN   \n",
       "Ash                              1.19  0.650         1.22     0.830   0.7206   \n",
       "...                               ...    ...          ...       ...      ...   \n",
       "cis-Lutein/Zeaxanthin             NaN    NaN          NaN       NaN      NaN   \n",
       "cis-Lycopene                      NaN    NaN          NaN       NaN      NaN   \n",
       "cis-beta-Carotene                 NaN    NaN          NaN       NaN      NaN   \n",
       "trans-Lycopene                    NaN    NaN          NaN       NaN      NaN   \n",
       "trans-beta-Carotene               NaN    NaN          NaN       NaN      NaN   \n",
       "\n",
       "                       Red Bell Pepper  Potatoes  Black Beans  Peanut Butter  \\\n",
       "Alanine                            NaN       NaN          NaN          1.160   \n",
       "Alcohol, ethyl                     NaN       NaN          NaN            NaN   \n",
       "Amino acids                        NaN       NaN          NaN          0.000   \n",
       "Arginine                           NaN       NaN          NaN          3.323   \n",
       "Ash                             0.3956     0.985          NaN          2.771   \n",
       "...                                ...       ...          ...            ...   \n",
       "cis-Lutein/Zeaxanthin              NaN       NaN          NaN            NaN   \n",
       "cis-Lycopene                       NaN       NaN          NaN            NaN   \n",
       "cis-beta-Carotene                  NaN       NaN          NaN            NaN   \n",
       "trans-Lycopene                     NaN       NaN          NaN            NaN   \n",
       "trans-beta-Carotene                NaN       NaN          NaN            NaN   \n",
       "\n",
       "                       Spinach  \n",
       "Alanine                    NaN  \n",
       "Alcohol, ethyl             NaN  \n",
       "Amino acids                NaN  \n",
       "Arginine                   NaN  \n",
       "Ash                      1.603  \n",
       "...                        ...  \n",
       "cis-Lutein/Zeaxanthin    0.000  \n",
       "cis-Lycopene               NaN  \n",
       "cis-beta-Carotene          NaN  \n",
       "trans-Lycopene             NaN  \n",
       "trans-beta-Carotene        NaN  \n",
       "\n",
       "[216 rows x 24 columns]"
      ]
     },
     "execution_count": 10,
     "metadata": {},
     "output_type": "execute_result"
    }
   ],
   "source": [
    "import warnings\n",
    "\n",
    "D = {}\n",
    "count = 0\n",
    "for food in  df_grocery.index:\n",
    "    try:\n",
    "        FDC = df_grocery.loc[df_grocery.index==food,:].FDC.values[0]\n",
    "        count+=1\n",
    "        D[food] = fdc.nutrients(apikey,FDC).Quantity\n",
    "        print(food)\n",
    "    except AttributeError:\n",
    "        warnings.warn(f\"Couldn't find FDC Code {FDC} for food {food}.\" % (food,FDC))\n",
    "\n",
    "D = pd.DataFrame(D,dtype=float)\n",
    "\n",
    "D"
   ]
  },
  {
   "cell_type": "code",
   "execution_count": 11,
   "id": "02a532e1",
   "metadata": {},
   "outputs": [
    {
     "data": {
      "text/plain": [
       "Apple                0.758390\n",
       "Bananas              0.220462\n",
       "Black Beans          0.248056\n",
       "Broccoli             0.878910\n",
       "Butter               1.033968\n",
       "Carrots              0.219360\n",
       "Chicken Breast       1.541031\n",
       "Eggs                 0.742560\n",
       "Ground Beef          1.100107\n",
       "Lentils              0.668498\n",
       "Oatmeal              0.712629\n",
       "Olive oil            0.696816\n",
       "Pasta                0.220462\n",
       "Peanut Butter        0.504859\n",
       "Potatoes             0.464440\n",
       "Quinoa               0.879644\n",
       "Red Bell Pepper      1.025884\n",
       "Rice                 0.219727\n",
       "Salt                 1.809154\n",
       "Spinach              1.054300\n",
       "Strawberries         0.880747\n",
       "String Cheese        0.878910\n",
       "Whole-Grain Bread    0.319069\n",
       "Yogurt               0.658891\n",
       "Name: FDC Price, dtype: float64"
      ]
     },
     "execution_count": 11,
     "metadata": {},
     "output_type": "execute_result"
    }
   ],
   "source": [
    "#Find minimum prices: \n",
    "# To use minimum price observed\n",
    "Prices = df_grocery.groupby('Food')['FDC Price'].min()\n",
    "\n",
    "Prices\n",
    "#df_grocery.head()\n",
    "\n",
    "p = Prices.apply(lambda x:x.magnitude).dropna()\n",
    "\n",
    "# Compile list that we have both prices and nutritional info for; drop if either missing\n",
    "use = p.index.intersection(D.columns)\n",
    "p = p[use]\n",
    "\n",
    "p"
   ]
  },
  {
   "cell_type": "code",
   "execution_count": 12,
   "id": "b7efacd9",
   "metadata": {},
   "outputs": [],
   "source": [
    "# Drop nutritional information for foods we don't know the price of,\n",
    "# and replace missing nutrients with zeros.\n",
    "Aall = D[p.index].fillna(0)"
   ]
  },
  {
   "cell_type": "code",
   "execution_count": 13,
   "id": "88ec214f",
   "metadata": {},
   "outputs": [],
   "source": [
    "#For the Regular Male \n",
    "bmin_reg = df_comparison.drop(\"Football Athlete\", axis =1)\n",
    "bmax_reg = bmax.drop(\"Football Athlete\", axis =1)\n",
    "\n",
    "bmin_fb = df_comparison.drop(\"Male Student\", axis =1)\n",
    "bmax_fb = bmax.drop(\"Male Student\", axis =1)"
   ]
  },
  {
   "cell_type": "code",
   "execution_count": 14,
   "id": "c24ab184",
   "metadata": {},
   "outputs": [
    {
     "data": {
      "text/html": [
       "<div>\n",
       "<style scoped>\n",
       "    .dataframe tbody tr th:only-of-type {\n",
       "        vertical-align: middle;\n",
       "    }\n",
       "\n",
       "    .dataframe tbody tr th {\n",
       "        vertical-align: top;\n",
       "    }\n",
       "\n",
       "    .dataframe thead th {\n",
       "        text-align: right;\n",
       "    }\n",
       "</style>\n",
       "<table border=\"1\" class=\"dataframe\">\n",
       "  <thead>\n",
       "    <tr style=\"text-align: right;\">\n",
       "      <th></th>\n",
       "      <th>Apple</th>\n",
       "      <th>Bananas</th>\n",
       "      <th>Black Beans</th>\n",
       "      <th>Broccoli</th>\n",
       "      <th>Butter</th>\n",
       "      <th>Carrots</th>\n",
       "      <th>Chicken Breast</th>\n",
       "      <th>Eggs</th>\n",
       "      <th>Ground Beef</th>\n",
       "      <th>Lentils</th>\n",
       "      <th>...</th>\n",
       "      <th>Potatoes</th>\n",
       "      <th>Quinoa</th>\n",
       "      <th>Red Bell Pepper</th>\n",
       "      <th>Rice</th>\n",
       "      <th>Salt</th>\n",
       "      <th>Spinach</th>\n",
       "      <th>Strawberries</th>\n",
       "      <th>String Cheese</th>\n",
       "      <th>Whole-Grain Bread</th>\n",
       "      <th>Yogurt</th>\n",
       "    </tr>\n",
       "    <tr>\n",
       "      <th>Nutrition</th>\n",
       "      <th></th>\n",
       "      <th></th>\n",
       "      <th></th>\n",
       "      <th></th>\n",
       "      <th></th>\n",
       "      <th></th>\n",
       "      <th></th>\n",
       "      <th></th>\n",
       "      <th></th>\n",
       "      <th></th>\n",
       "      <th></th>\n",
       "      <th></th>\n",
       "      <th></th>\n",
       "      <th></th>\n",
       "      <th></th>\n",
       "      <th></th>\n",
       "      <th></th>\n",
       "      <th></th>\n",
       "      <th></th>\n",
       "      <th></th>\n",
       "      <th></th>\n",
       "    </tr>\n",
       "  </thead>\n",
       "  <tbody>\n",
       "    <tr>\n",
       "      <th>Energy</th>\n",
       "      <td>0.000000</td>\n",
       "      <td>408.000</td>\n",
       "      <td>0.00</td>\n",
       "      <td>132.000</td>\n",
       "      <td>0.00</td>\n",
       "      <td>0.00000</td>\n",
       "      <td>695.000</td>\n",
       "      <td>231.000</td>\n",
       "      <td>735.00</td>\n",
       "      <td>1473.000</td>\n",
       "      <td>...</td>\n",
       "      <td>0.00000</td>\n",
       "      <td>1539.000</td>\n",
       "      <td>0.000000</td>\n",
       "      <td>1500.000</td>\n",
       "      <td>0.0</td>\n",
       "      <td>0.000000</td>\n",
       "      <td>0.000000</td>\n",
       "      <td>280.00</td>\n",
       "      <td>1108.000</td>\n",
       "      <td>256.000</td>\n",
       "    </tr>\n",
       "    <tr>\n",
       "      <th>Protein</th>\n",
       "      <td>0.148438</td>\n",
       "      <td>0.740</td>\n",
       "      <td>24.40</td>\n",
       "      <td>2.570</td>\n",
       "      <td>0.00</td>\n",
       "      <td>0.94125</td>\n",
       "      <td>32.100</td>\n",
       "      <td>10.700</td>\n",
       "      <td>27.70</td>\n",
       "      <td>24.630</td>\n",
       "      <td>...</td>\n",
       "      <td>2.27375</td>\n",
       "      <td>14.120</td>\n",
       "      <td>0.895625</td>\n",
       "      <td>6.690</td>\n",
       "      <td>0.0</td>\n",
       "      <td>2.851875</td>\n",
       "      <td>0.640625</td>\n",
       "      <td>27.50</td>\n",
       "      <td>13.360</td>\n",
       "      <td>10.300</td>\n",
       "    </tr>\n",
       "    <tr>\n",
       "      <th>Fiber, total dietary</th>\n",
       "      <td>2.075000</td>\n",
       "      <td>1.700</td>\n",
       "      <td>4.20</td>\n",
       "      <td>2.400</td>\n",
       "      <td>0.00</td>\n",
       "      <td>3.09500</td>\n",
       "      <td>0.000</td>\n",
       "      <td>0.000</td>\n",
       "      <td>0.00</td>\n",
       "      <td>10.700</td>\n",
       "      <td>...</td>\n",
       "      <td>0.00000</td>\n",
       "      <td>7.000</td>\n",
       "      <td>1.158000</td>\n",
       "      <td>0.000</td>\n",
       "      <td>0.0</td>\n",
       "      <td>1.558000</td>\n",
       "      <td>0.000000</td>\n",
       "      <td>0.00</td>\n",
       "      <td>7.400</td>\n",
       "      <td>0.000</td>\n",
       "    </tr>\n",
       "    <tr>\n",
       "      <th>Folate, DFE</th>\n",
       "      <td>0.000000</td>\n",
       "      <td>0.000</td>\n",
       "      <td>0.00</td>\n",
       "      <td>0.000</td>\n",
       "      <td>0.00</td>\n",
       "      <td>0.00000</td>\n",
       "      <td>0.000</td>\n",
       "      <td>0.000</td>\n",
       "      <td>0.00</td>\n",
       "      <td>479.000</td>\n",
       "      <td>...</td>\n",
       "      <td>0.00000</td>\n",
       "      <td>184.000</td>\n",
       "      <td>0.000000</td>\n",
       "      <td>0.000</td>\n",
       "      <td>0.0</td>\n",
       "      <td>0.000000</td>\n",
       "      <td>0.000000</td>\n",
       "      <td>9.00</td>\n",
       "      <td>75.000</td>\n",
       "      <td>0.000</td>\n",
       "    </tr>\n",
       "    <tr>\n",
       "      <th>Calcium, Ca</th>\n",
       "      <td>5.975000</td>\n",
       "      <td>5.000</td>\n",
       "      <td>191.00</td>\n",
       "      <td>46.000</td>\n",
       "      <td>14.00</td>\n",
       "      <td>30.48000</td>\n",
       "      <td>6.000</td>\n",
       "      <td>0.000</td>\n",
       "      <td>13.00</td>\n",
       "      <td>35.000</td>\n",
       "      <td>...</td>\n",
       "      <td>7.80100</td>\n",
       "      <td>47.000</td>\n",
       "      <td>6.361000</td>\n",
       "      <td>10.000</td>\n",
       "      <td>50.0</td>\n",
       "      <td>68.350000</td>\n",
       "      <td>16.900000</td>\n",
       "      <td>731.00</td>\n",
       "      <td>103.000</td>\n",
       "      <td>111.000</td>\n",
       "    </tr>\n",
       "    <tr>\n",
       "      <th>Carbohydrate, by difference</th>\n",
       "      <td>15.651162</td>\n",
       "      <td>23.000</td>\n",
       "      <td>0.00</td>\n",
       "      <td>6.270</td>\n",
       "      <td>0.00</td>\n",
       "      <td>10.26755</td>\n",
       "      <td>0.000</td>\n",
       "      <td>2.360</td>\n",
       "      <td>0.00</td>\n",
       "      <td>63.350</td>\n",
       "      <td>...</td>\n",
       "      <td>17.77125</td>\n",
       "      <td>64.160</td>\n",
       "      <td>6.653175</td>\n",
       "      <td>80.100</td>\n",
       "      <td>0.0</td>\n",
       "      <td>2.406325</td>\n",
       "      <td>7.964375</td>\n",
       "      <td>3.10</td>\n",
       "      <td>43.340</td>\n",
       "      <td>3.640</td>\n",
       "    </tr>\n",
       "    <tr>\n",
       "      <th>Iron, Fe</th>\n",
       "      <td>0.015000</td>\n",
       "      <td>0.000</td>\n",
       "      <td>5.34</td>\n",
       "      <td>0.690</td>\n",
       "      <td>0.03</td>\n",
       "      <td>0.15040</td>\n",
       "      <td>0.490</td>\n",
       "      <td>0.000</td>\n",
       "      <td>3.04</td>\n",
       "      <td>6.510</td>\n",
       "      <td>...</td>\n",
       "      <td>0.38350</td>\n",
       "      <td>4.570</td>\n",
       "      <td>0.353300</td>\n",
       "      <td>0.340</td>\n",
       "      <td>0.0</td>\n",
       "      <td>1.261000</td>\n",
       "      <td>0.255000</td>\n",
       "      <td>0.25</td>\n",
       "      <td>2.500</td>\n",
       "      <td>0.070</td>\n",
       "    </tr>\n",
       "    <tr>\n",
       "      <th>Magnesium, Mg</th>\n",
       "      <td>4.670000</td>\n",
       "      <td>28.000</td>\n",
       "      <td>180.00</td>\n",
       "      <td>21.000</td>\n",
       "      <td>1.60</td>\n",
       "      <td>12.45000</td>\n",
       "      <td>32.000</td>\n",
       "      <td>0.000</td>\n",
       "      <td>13.70</td>\n",
       "      <td>47.000</td>\n",
       "      <td>...</td>\n",
       "      <td>25.64000</td>\n",
       "      <td>197.000</td>\n",
       "      <td>10.980000</td>\n",
       "      <td>21.200</td>\n",
       "      <td>0.0</td>\n",
       "      <td>92.860000</td>\n",
       "      <td>12.520000</td>\n",
       "      <td>26.00</td>\n",
       "      <td>78.000</td>\n",
       "      <td>10.700</td>\n",
       "    </tr>\n",
       "    <tr>\n",
       "      <th>Niacin</th>\n",
       "      <td>0.090630</td>\n",
       "      <td>0.662</td>\n",
       "      <td>0.00</td>\n",
       "      <td>0.639</td>\n",
       "      <td>0.00</td>\n",
       "      <td>1.40600</td>\n",
       "      <td>9.450</td>\n",
       "      <td>0.000</td>\n",
       "      <td>5.76</td>\n",
       "      <td>2.605</td>\n",
       "      <td>...</td>\n",
       "      <td>1.50100</td>\n",
       "      <td>1.520</td>\n",
       "      <td>1.024000</td>\n",
       "      <td>1.120</td>\n",
       "      <td>0.0</td>\n",
       "      <td>0.550600</td>\n",
       "      <td>0.000000</td>\n",
       "      <td>0.12</td>\n",
       "      <td>4.042</td>\n",
       "      <td>0.211</td>\n",
       "    </tr>\n",
       "    <tr>\n",
       "      <th>Phosphorus, P</th>\n",
       "      <td>9.780000</td>\n",
       "      <td>22.000</td>\n",
       "      <td>522.00</td>\n",
       "      <td>67.000</td>\n",
       "      <td>19.00</td>\n",
       "      <td>39.81000</td>\n",
       "      <td>241.000</td>\n",
       "      <td>0.000</td>\n",
       "      <td>259.00</td>\n",
       "      <td>281.000</td>\n",
       "      <td>...</td>\n",
       "      <td>55.19000</td>\n",
       "      <td>457.000</td>\n",
       "      <td>26.590000</td>\n",
       "      <td>63.000</td>\n",
       "      <td>0.0</td>\n",
       "      <td>39.050000</td>\n",
       "      <td>22.980000</td>\n",
       "      <td>524.00</td>\n",
       "      <td>228.000</td>\n",
       "      <td>136.000</td>\n",
       "    </tr>\n",
       "    <tr>\n",
       "      <th>Potassium, K</th>\n",
       "      <td>103.800000</td>\n",
       "      <td>326.000</td>\n",
       "      <td>1540.00</td>\n",
       "      <td>303.000</td>\n",
       "      <td>19.00</td>\n",
       "      <td>279.60000</td>\n",
       "      <td>343.000</td>\n",
       "      <td>0.000</td>\n",
       "      <td>352.00</td>\n",
       "      <td>677.000</td>\n",
       "      <td>...</td>\n",
       "      <td>450.10000</td>\n",
       "      <td>563.000</td>\n",
       "      <td>212.700000</td>\n",
       "      <td>80.000</td>\n",
       "      <td>2.0</td>\n",
       "      <td>581.800000</td>\n",
       "      <td>160.700000</td>\n",
       "      <td>95.00</td>\n",
       "      <td>230.000</td>\n",
       "      <td>141.000</td>\n",
       "    </tr>\n",
       "    <tr>\n",
       "      <th>Riboflavin</th>\n",
       "      <td>0.067500</td>\n",
       "      <td>0.000</td>\n",
       "      <td>0.00</td>\n",
       "      <td>0.114</td>\n",
       "      <td>0.00</td>\n",
       "      <td>0.09500</td>\n",
       "      <td>0.187</td>\n",
       "      <td>0.391</td>\n",
       "      <td>0.40</td>\n",
       "      <td>0.211</td>\n",
       "      <td>...</td>\n",
       "      <td>0.00000</td>\n",
       "      <td>0.318</td>\n",
       "      <td>0.142200</td>\n",
       "      <td>0.000</td>\n",
       "      <td>0.0</td>\n",
       "      <td>0.193500</td>\n",
       "      <td>0.000000</td>\n",
       "      <td>0.34</td>\n",
       "      <td>0.131</td>\n",
       "      <td>0.281</td>\n",
       "    </tr>\n",
       "    <tr>\n",
       "      <th>Thiamin</th>\n",
       "      <td>0.006250</td>\n",
       "      <td>0.056</td>\n",
       "      <td>0.00</td>\n",
       "      <td>0.077</td>\n",
       "      <td>0.00</td>\n",
       "      <td>0.06500</td>\n",
       "      <td>0.098</td>\n",
       "      <td>0.000</td>\n",
       "      <td>0.00</td>\n",
       "      <td>0.873</td>\n",
       "      <td>...</td>\n",
       "      <td>0.07375</td>\n",
       "      <td>0.360</td>\n",
       "      <td>0.054940</td>\n",
       "      <td>0.053</td>\n",
       "      <td>0.0</td>\n",
       "      <td>0.076880</td>\n",
       "      <td>0.000000</td>\n",
       "      <td>0.02</td>\n",
       "      <td>0.279</td>\n",
       "      <td>0.022</td>\n",
       "    </tr>\n",
       "    <tr>\n",
       "      <th>Vitamin A, RAE</th>\n",
       "      <td>0.000000</td>\n",
       "      <td>1.000</td>\n",
       "      <td>0.00</td>\n",
       "      <td>8.000</td>\n",
       "      <td>0.00</td>\n",
       "      <td>0.00000</td>\n",
       "      <td>0.000</td>\n",
       "      <td>0.000</td>\n",
       "      <td>0.00</td>\n",
       "      <td>2.000</td>\n",
       "      <td>...</td>\n",
       "      <td>0.00000</td>\n",
       "      <td>1.000</td>\n",
       "      <td>0.000000</td>\n",
       "      <td>0.000</td>\n",
       "      <td>0.0</td>\n",
       "      <td>283.000000</td>\n",
       "      <td>0.000000</td>\n",
       "      <td>137.00</td>\n",
       "      <td>0.000</td>\n",
       "      <td>1.000</td>\n",
       "    </tr>\n",
       "    <tr>\n",
       "      <th>Vitamin B-12</th>\n",
       "      <td>0.000000</td>\n",
       "      <td>0.000</td>\n",
       "      <td>0.00</td>\n",
       "      <td>0.000</td>\n",
       "      <td>0.00</td>\n",
       "      <td>0.00000</td>\n",
       "      <td>0.200</td>\n",
       "      <td>0.000</td>\n",
       "      <td>4.21</td>\n",
       "      <td>0.000</td>\n",
       "      <td>...</td>\n",
       "      <td>0.00000</td>\n",
       "      <td>0.000</td>\n",
       "      <td>0.000000</td>\n",
       "      <td>0.000</td>\n",
       "      <td>0.0</td>\n",
       "      <td>0.000000</td>\n",
       "      <td>0.000000</td>\n",
       "      <td>0.92</td>\n",
       "      <td>0.000</td>\n",
       "      <td>0.700</td>\n",
       "    </tr>\n",
       "    <tr>\n",
       "      <th>Vitamin B-6</th>\n",
       "      <td>0.035440</td>\n",
       "      <td>0.209</td>\n",
       "      <td>0.00</td>\n",
       "      <td>0.191</td>\n",
       "      <td>0.00</td>\n",
       "      <td>0.14560</td>\n",
       "      <td>0.921</td>\n",
       "      <td>0.000</td>\n",
       "      <td>0.67</td>\n",
       "      <td>0.540</td>\n",
       "      <td>...</td>\n",
       "      <td>0.15730</td>\n",
       "      <td>0.487</td>\n",
       "      <td>0.302700</td>\n",
       "      <td>0.044</td>\n",
       "      <td>0.0</td>\n",
       "      <td>0.194600</td>\n",
       "      <td>0.000000</td>\n",
       "      <td>0.08</td>\n",
       "      <td>0.263</td>\n",
       "      <td>0.064</td>\n",
       "    </tr>\n",
       "    <tr>\n",
       "      <th>Vitamin C, total ascorbic acid</th>\n",
       "      <td>0.000000</td>\n",
       "      <td>12.300</td>\n",
       "      <td>0.00</td>\n",
       "      <td>91.300</td>\n",
       "      <td>0.00</td>\n",
       "      <td>0.00000</td>\n",
       "      <td>0.000</td>\n",
       "      <td>0.000</td>\n",
       "      <td>0.00</td>\n",
       "      <td>4.500</td>\n",
       "      <td>...</td>\n",
       "      <td>10.90000</td>\n",
       "      <td>0.000</td>\n",
       "      <td>141.700000</td>\n",
       "      <td>0.000</td>\n",
       "      <td>0.0</td>\n",
       "      <td>26.520000</td>\n",
       "      <td>59.620000</td>\n",
       "      <td>0.00</td>\n",
       "      <td>0.100</td>\n",
       "      <td>0.000</td>\n",
       "    </tr>\n",
       "    <tr>\n",
       "      <th>Vitamin E (alpha-tocopherol)</th>\n",
       "      <td>0.000000</td>\n",
       "      <td>0.000</td>\n",
       "      <td>0.00</td>\n",
       "      <td>0.150</td>\n",
       "      <td>0.00</td>\n",
       "      <td>0.00000</td>\n",
       "      <td>0.330</td>\n",
       "      <td>0.000</td>\n",
       "      <td>0.00</td>\n",
       "      <td>0.490</td>\n",
       "      <td>...</td>\n",
       "      <td>0.00000</td>\n",
       "      <td>2.440</td>\n",
       "      <td>0.000000</td>\n",
       "      <td>0.000</td>\n",
       "      <td>0.0</td>\n",
       "      <td>0.000000</td>\n",
       "      <td>0.000000</td>\n",
       "      <td>0.15</td>\n",
       "      <td>0.370</td>\n",
       "      <td>0.010</td>\n",
       "    </tr>\n",
       "    <tr>\n",
       "      <th>Vitamin K (phylloquinone)</th>\n",
       "      <td>0.000000</td>\n",
       "      <td>0.100</td>\n",
       "      <td>0.00</td>\n",
       "      <td>102.000</td>\n",
       "      <td>0.00</td>\n",
       "      <td>0.00000</td>\n",
       "      <td>0.000</td>\n",
       "      <td>0.000</td>\n",
       "      <td>0.00</td>\n",
       "      <td>5.000</td>\n",
       "      <td>...</td>\n",
       "      <td>0.00000</td>\n",
       "      <td>0.000</td>\n",
       "      <td>0.000000</td>\n",
       "      <td>0.000</td>\n",
       "      <td>0.0</td>\n",
       "      <td>0.000000</td>\n",
       "      <td>0.000000</td>\n",
       "      <td>1.80</td>\n",
       "      <td>1.400</td>\n",
       "      <td>0.000</td>\n",
       "    </tr>\n",
       "    <tr>\n",
       "      <th>Zinc, Zn</th>\n",
       "      <td>0.016760</td>\n",
       "      <td>0.160</td>\n",
       "      <td>3.37</td>\n",
       "      <td>0.420</td>\n",
       "      <td>0.07</td>\n",
       "      <td>0.23640</td>\n",
       "      <td>0.960</td>\n",
       "      <td>0.000</td>\n",
       "      <td>3.70</td>\n",
       "      <td>3.270</td>\n",
       "      <td>...</td>\n",
       "      <td>0.37810</td>\n",
       "      <td>3.100</td>\n",
       "      <td>0.202300</td>\n",
       "      <td>1.340</td>\n",
       "      <td>0.0</td>\n",
       "      <td>0.447100</td>\n",
       "      <td>0.114000</td>\n",
       "      <td>3.13</td>\n",
       "      <td>1.700</td>\n",
       "      <td>0.530</td>\n",
       "    </tr>\n",
       "    <tr>\n",
       "      <th>Sodium, Na</th>\n",
       "      <td>-1.013000</td>\n",
       "      <td>-0.000</td>\n",
       "      <td>-0.00</td>\n",
       "      <td>-36.000</td>\n",
       "      <td>-10.00</td>\n",
       "      <td>-86.65000</td>\n",
       "      <td>-47.000</td>\n",
       "      <td>-0.000</td>\n",
       "      <td>-54.00</td>\n",
       "      <td>-6.000</td>\n",
       "      <td>...</td>\n",
       "      <td>-2.74300</td>\n",
       "      <td>-5.000</td>\n",
       "      <td>-0.000000</td>\n",
       "      <td>-6.000</td>\n",
       "      <td>-38700.0</td>\n",
       "      <td>-111.400000</td>\n",
       "      <td>-0.000000</td>\n",
       "      <td>-16.00</td>\n",
       "      <td>-381.000</td>\n",
       "      <td>-36.000</td>\n",
       "    </tr>\n",
       "    <tr>\n",
       "      <th>Energy</th>\n",
       "      <td>-0.000000</td>\n",
       "      <td>-408.000</td>\n",
       "      <td>-0.00</td>\n",
       "      <td>-132.000</td>\n",
       "      <td>-0.00</td>\n",
       "      <td>-0.00000</td>\n",
       "      <td>-695.000</td>\n",
       "      <td>-231.000</td>\n",
       "      <td>-735.00</td>\n",
       "      <td>-1473.000</td>\n",
       "      <td>...</td>\n",
       "      <td>-0.00000</td>\n",
       "      <td>-1539.000</td>\n",
       "      <td>-0.000000</td>\n",
       "      <td>-1500.000</td>\n",
       "      <td>-0.0</td>\n",
       "      <td>-0.000000</td>\n",
       "      <td>-0.000000</td>\n",
       "      <td>-280.00</td>\n",
       "      <td>-1108.000</td>\n",
       "      <td>-256.000</td>\n",
       "    </tr>\n",
       "  </tbody>\n",
       "</table>\n",
       "<p>22 rows × 24 columns</p>\n",
       "</div>"
      ],
      "text/plain": [
       "                                     Apple  Bananas  Black Beans  Broccoli  \\\n",
       "Nutrition                                                                    \n",
       "Energy                            0.000000  408.000         0.00   132.000   \n",
       "Protein                           0.148438    0.740        24.40     2.570   \n",
       "Fiber, total dietary              2.075000    1.700         4.20     2.400   \n",
       "Folate, DFE                       0.000000    0.000         0.00     0.000   \n",
       "Calcium, Ca                       5.975000    5.000       191.00    46.000   \n",
       "Carbohydrate, by difference      15.651162   23.000         0.00     6.270   \n",
       "Iron, Fe                          0.015000    0.000         5.34     0.690   \n",
       "Magnesium, Mg                     4.670000   28.000       180.00    21.000   \n",
       "Niacin                            0.090630    0.662         0.00     0.639   \n",
       "Phosphorus, P                     9.780000   22.000       522.00    67.000   \n",
       "Potassium, K                    103.800000  326.000      1540.00   303.000   \n",
       "Riboflavin                        0.067500    0.000         0.00     0.114   \n",
       "Thiamin                           0.006250    0.056         0.00     0.077   \n",
       "Vitamin A, RAE                    0.000000    1.000         0.00     8.000   \n",
       "Vitamin B-12                      0.000000    0.000         0.00     0.000   \n",
       "Vitamin B-6                       0.035440    0.209         0.00     0.191   \n",
       "Vitamin C, total ascorbic acid    0.000000   12.300         0.00    91.300   \n",
       "Vitamin E (alpha-tocopherol)      0.000000    0.000         0.00     0.150   \n",
       "Vitamin K (phylloquinone)         0.000000    0.100         0.00   102.000   \n",
       "Zinc, Zn                          0.016760    0.160         3.37     0.420   \n",
       "Sodium, Na                       -1.013000   -0.000        -0.00   -36.000   \n",
       "Energy                           -0.000000 -408.000        -0.00  -132.000   \n",
       "\n",
       "                                Butter     Carrots  Chicken Breast     Eggs  \\\n",
       "Nutrition                                                                     \n",
       "Energy                             0.00    0.00000         695.000  231.000   \n",
       "Protein                            0.00    0.94125          32.100   10.700   \n",
       "Fiber, total dietary               0.00    3.09500           0.000    0.000   \n",
       "Folate, DFE                        0.00    0.00000           0.000    0.000   \n",
       "Calcium, Ca                       14.00   30.48000           6.000    0.000   \n",
       "Carbohydrate, by difference        0.00   10.26755           0.000    2.360   \n",
       "Iron, Fe                           0.03    0.15040           0.490    0.000   \n",
       "Magnesium, Mg                      1.60   12.45000          32.000    0.000   \n",
       "Niacin                             0.00    1.40600           9.450    0.000   \n",
       "Phosphorus, P                     19.00   39.81000         241.000    0.000   \n",
       "Potassium, K                      19.00  279.60000         343.000    0.000   \n",
       "Riboflavin                         0.00    0.09500           0.187    0.391   \n",
       "Thiamin                            0.00    0.06500           0.098    0.000   \n",
       "Vitamin A, RAE                     0.00    0.00000           0.000    0.000   \n",
       "Vitamin B-12                       0.00    0.00000           0.200    0.000   \n",
       "Vitamin B-6                        0.00    0.14560           0.921    0.000   \n",
       "Vitamin C, total ascorbic acid     0.00    0.00000           0.000    0.000   \n",
       "Vitamin E (alpha-tocopherol)       0.00    0.00000           0.330    0.000   \n",
       "Vitamin K (phylloquinone)          0.00    0.00000           0.000    0.000   \n",
       "Zinc, Zn                           0.07    0.23640           0.960    0.000   \n",
       "Sodium, Na                       -10.00  -86.65000         -47.000   -0.000   \n",
       "Energy                            -0.00   -0.00000        -695.000 -231.000   \n",
       "\n",
       "                                Ground Beef   Lentils  ...   Potatoes  \\\n",
       "Nutrition                                              ...              \n",
       "Energy                               735.00  1473.000  ...    0.00000   \n",
       "Protein                               27.70    24.630  ...    2.27375   \n",
       "Fiber, total dietary                   0.00    10.700  ...    0.00000   \n",
       "Folate, DFE                            0.00   479.000  ...    0.00000   \n",
       "Calcium, Ca                           13.00    35.000  ...    7.80100   \n",
       "Carbohydrate, by difference            0.00    63.350  ...   17.77125   \n",
       "Iron, Fe                               3.04     6.510  ...    0.38350   \n",
       "Magnesium, Mg                         13.70    47.000  ...   25.64000   \n",
       "Niacin                                 5.76     2.605  ...    1.50100   \n",
       "Phosphorus, P                        259.00   281.000  ...   55.19000   \n",
       "Potassium, K                         352.00   677.000  ...  450.10000   \n",
       "Riboflavin                             0.40     0.211  ...    0.00000   \n",
       "Thiamin                                0.00     0.873  ...    0.07375   \n",
       "Vitamin A, RAE                         0.00     2.000  ...    0.00000   \n",
       "Vitamin B-12                           4.21     0.000  ...    0.00000   \n",
       "Vitamin B-6                            0.67     0.540  ...    0.15730   \n",
       "Vitamin C, total ascorbic acid         0.00     4.500  ...   10.90000   \n",
       "Vitamin E (alpha-tocopherol)           0.00     0.490  ...    0.00000   \n",
       "Vitamin K (phylloquinone)              0.00     5.000  ...    0.00000   \n",
       "Zinc, Zn                               3.70     3.270  ...    0.37810   \n",
       "Sodium, Na                           -54.00    -6.000  ...   -2.74300   \n",
       "Energy                              -735.00 -1473.000  ...   -0.00000   \n",
       "\n",
       "                                  Quinoa  Red Bell Pepper      Rice     Salt  \\\n",
       "Nutrition                                                                      \n",
       "Energy                          1539.000         0.000000  1500.000      0.0   \n",
       "Protein                           14.120         0.895625     6.690      0.0   \n",
       "Fiber, total dietary               7.000         1.158000     0.000      0.0   \n",
       "Folate, DFE                      184.000         0.000000     0.000      0.0   \n",
       "Calcium, Ca                       47.000         6.361000    10.000     50.0   \n",
       "Carbohydrate, by difference       64.160         6.653175    80.100      0.0   \n",
       "Iron, Fe                           4.570         0.353300     0.340      0.0   \n",
       "Magnesium, Mg                    197.000        10.980000    21.200      0.0   \n",
       "Niacin                             1.520         1.024000     1.120      0.0   \n",
       "Phosphorus, P                    457.000        26.590000    63.000      0.0   \n",
       "Potassium, K                     563.000       212.700000    80.000      2.0   \n",
       "Riboflavin                         0.318         0.142200     0.000      0.0   \n",
       "Thiamin                            0.360         0.054940     0.053      0.0   \n",
       "Vitamin A, RAE                     1.000         0.000000     0.000      0.0   \n",
       "Vitamin B-12                       0.000         0.000000     0.000      0.0   \n",
       "Vitamin B-6                        0.487         0.302700     0.044      0.0   \n",
       "Vitamin C, total ascorbic acid     0.000       141.700000     0.000      0.0   \n",
       "Vitamin E (alpha-tocopherol)       2.440         0.000000     0.000      0.0   \n",
       "Vitamin K (phylloquinone)          0.000         0.000000     0.000      0.0   \n",
       "Zinc, Zn                           3.100         0.202300     1.340      0.0   \n",
       "Sodium, Na                        -5.000        -0.000000    -6.000 -38700.0   \n",
       "Energy                         -1539.000        -0.000000 -1500.000     -0.0   \n",
       "\n",
       "                                   Spinach  Strawberries  String Cheese  \\\n",
       "Nutrition                                                                 \n",
       "Energy                            0.000000      0.000000         280.00   \n",
       "Protein                           2.851875      0.640625          27.50   \n",
       "Fiber, total dietary              1.558000      0.000000           0.00   \n",
       "Folate, DFE                       0.000000      0.000000           9.00   \n",
       "Calcium, Ca                      68.350000     16.900000         731.00   \n",
       "Carbohydrate, by difference       2.406325      7.964375           3.10   \n",
       "Iron, Fe                          1.261000      0.255000           0.25   \n",
       "Magnesium, Mg                    92.860000     12.520000          26.00   \n",
       "Niacin                            0.550600      0.000000           0.12   \n",
       "Phosphorus, P                    39.050000     22.980000         524.00   \n",
       "Potassium, K                    581.800000    160.700000          95.00   \n",
       "Riboflavin                        0.193500      0.000000           0.34   \n",
       "Thiamin                           0.076880      0.000000           0.02   \n",
       "Vitamin A, RAE                  283.000000      0.000000         137.00   \n",
       "Vitamin B-12                      0.000000      0.000000           0.92   \n",
       "Vitamin B-6                       0.194600      0.000000           0.08   \n",
       "Vitamin C, total ascorbic acid   26.520000     59.620000           0.00   \n",
       "Vitamin E (alpha-tocopherol)      0.000000      0.000000           0.15   \n",
       "Vitamin K (phylloquinone)         0.000000      0.000000           1.80   \n",
       "Zinc, Zn                          0.447100      0.114000           3.13   \n",
       "Sodium, Na                     -111.400000     -0.000000         -16.00   \n",
       "Energy                           -0.000000     -0.000000        -280.00   \n",
       "\n",
       "                                Whole-Grain Bread   Yogurt  \n",
       "Nutrition                                                   \n",
       "Energy                                   1108.000  256.000  \n",
       "Protein                                    13.360   10.300  \n",
       "Fiber, total dietary                        7.400    0.000  \n",
       "Folate, DFE                                75.000    0.000  \n",
       "Calcium, Ca                               103.000  111.000  \n",
       "Carbohydrate, by difference                43.340    3.640  \n",
       "Iron, Fe                                    2.500    0.070  \n",
       "Magnesium, Mg                              78.000   10.700  \n",
       "Niacin                                      4.042    0.211  \n",
       "Phosphorus, P                             228.000  136.000  \n",
       "Potassium, K                              230.000  141.000  \n",
       "Riboflavin                                  0.131    0.281  \n",
       "Thiamin                                     0.279    0.022  \n",
       "Vitamin A, RAE                              0.000    1.000  \n",
       "Vitamin B-12                                0.000    0.700  \n",
       "Vitamin B-6                                 0.263    0.064  \n",
       "Vitamin C, total ascorbic acid              0.100    0.000  \n",
       "Vitamin E (alpha-tocopherol)                0.370    0.010  \n",
       "Vitamin K (phylloquinone)                   1.400    0.000  \n",
       "Zinc, Zn                                    1.700    0.530  \n",
       "Sodium, Na                               -381.000  -36.000  \n",
       "Energy                                  -1108.000 -256.000  \n",
       "\n",
       "[22 rows x 24 columns]"
      ]
     },
     "execution_count": 14,
     "metadata": {},
     "output_type": "execute_result"
    }
   ],
   "source": [
    "# Drop rows of A that we don't have constraints for.\n",
    "Amin_reg = Aall.loc[bmin_reg.index]\n",
    "Amax_reg = Aall.loc[bmax_reg.index]\n",
    "\n",
    "Amin_fb = Aall.loc[bmin_fb.index]\n",
    "Amax_fb = Aall.loc[bmax_fb.index]\n",
    "\n",
    "# Maximum requirements involve multiplying constraint by -1 to make <=.\n",
    "A_reg = pd.concat([Amin_reg,-Amax_reg])\n",
    "A_fb = pd.concat([Amin_fb,-Amax_fb])\n",
    "\n",
    "A_reg"
   ]
  },
  {
   "cell_type": "code",
   "execution_count": 15,
   "id": "517757c5",
   "metadata": {
    "scrolled": false
   },
   "outputs": [
    {
     "data": {
      "text/html": [
       "<div>\n",
       "<style scoped>\n",
       "    .dataframe tbody tr th:only-of-type {\n",
       "        vertical-align: middle;\n",
       "    }\n",
       "\n",
       "    .dataframe tbody tr th {\n",
       "        vertical-align: top;\n",
       "    }\n",
       "\n",
       "    .dataframe thead th {\n",
       "        text-align: right;\n",
       "    }\n",
       "</style>\n",
       "<table border=\"1\" class=\"dataframe\">\n",
       "  <thead>\n",
       "    <tr style=\"text-align: right;\">\n",
       "      <th></th>\n",
       "      <th>Male Student</th>\n",
       "    </tr>\n",
       "    <tr>\n",
       "      <th>Nutrition</th>\n",
       "      <th></th>\n",
       "    </tr>\n",
       "  </thead>\n",
       "  <tbody>\n",
       "    <tr>\n",
       "      <th>Energy</th>\n",
       "      <td>2400.0</td>\n",
       "    </tr>\n",
       "    <tr>\n",
       "      <th>Protein</th>\n",
       "      <td>56.0</td>\n",
       "    </tr>\n",
       "    <tr>\n",
       "      <th>Fiber, total dietary</th>\n",
       "      <td>33.6</td>\n",
       "    </tr>\n",
       "    <tr>\n",
       "      <th>Folate, DFE</th>\n",
       "      <td>400.0</td>\n",
       "    </tr>\n",
       "    <tr>\n",
       "      <th>Calcium, Ca</th>\n",
       "      <td>1000.0</td>\n",
       "    </tr>\n",
       "    <tr>\n",
       "      <th>Carbohydrate, by difference</th>\n",
       "      <td>130.0</td>\n",
       "    </tr>\n",
       "    <tr>\n",
       "      <th>Iron, Fe</th>\n",
       "      <td>8.0</td>\n",
       "    </tr>\n",
       "    <tr>\n",
       "      <th>Magnesium, Mg</th>\n",
       "      <td>400.0</td>\n",
       "    </tr>\n",
       "    <tr>\n",
       "      <th>Niacin</th>\n",
       "      <td>16.0</td>\n",
       "    </tr>\n",
       "    <tr>\n",
       "      <th>Phosphorus, P</th>\n",
       "      <td>700.0</td>\n",
       "    </tr>\n",
       "    <tr>\n",
       "      <th>Potassium, K</th>\n",
       "      <td>4700.0</td>\n",
       "    </tr>\n",
       "    <tr>\n",
       "      <th>Riboflavin</th>\n",
       "      <td>1.3</td>\n",
       "    </tr>\n",
       "    <tr>\n",
       "      <th>Thiamin</th>\n",
       "      <td>1.2</td>\n",
       "    </tr>\n",
       "    <tr>\n",
       "      <th>Vitamin A, RAE</th>\n",
       "      <td>900.0</td>\n",
       "    </tr>\n",
       "    <tr>\n",
       "      <th>Vitamin B-12</th>\n",
       "      <td>2.4</td>\n",
       "    </tr>\n",
       "    <tr>\n",
       "      <th>Vitamin B-6</th>\n",
       "      <td>1.3</td>\n",
       "    </tr>\n",
       "    <tr>\n",
       "      <th>Vitamin C, total ascorbic acid</th>\n",
       "      <td>90.0</td>\n",
       "    </tr>\n",
       "    <tr>\n",
       "      <th>Vitamin E (alpha-tocopherol)</th>\n",
       "      <td>15.0</td>\n",
       "    </tr>\n",
       "    <tr>\n",
       "      <th>Vitamin K (phylloquinone)</th>\n",
       "      <td>120.0</td>\n",
       "    </tr>\n",
       "    <tr>\n",
       "      <th>Zinc, Zn</th>\n",
       "      <td>11.0</td>\n",
       "    </tr>\n",
       "    <tr>\n",
       "      <th>Sodium, Na</th>\n",
       "      <td>-2300.0</td>\n",
       "    </tr>\n",
       "    <tr>\n",
       "      <th>Energy</th>\n",
       "      <td>-3100.0</td>\n",
       "    </tr>\n",
       "  </tbody>\n",
       "</table>\n",
       "</div>"
      ],
      "text/plain": [
       "                                Male Student\n",
       "Nutrition                                   \n",
       "Energy                                2400.0\n",
       "Protein                                 56.0\n",
       "Fiber, total dietary                    33.6\n",
       "Folate, DFE                            400.0\n",
       "Calcium, Ca                           1000.0\n",
       "Carbohydrate, by difference            130.0\n",
       "Iron, Fe                                 8.0\n",
       "Magnesium, Mg                          400.0\n",
       "Niacin                                  16.0\n",
       "Phosphorus, P                          700.0\n",
       "Potassium, K                          4700.0\n",
       "Riboflavin                               1.3\n",
       "Thiamin                                  1.2\n",
       "Vitamin A, RAE                         900.0\n",
       "Vitamin B-12                             2.4\n",
       "Vitamin B-6                              1.3\n",
       "Vitamin C, total ascorbic acid          90.0\n",
       "Vitamin E (alpha-tocopherol)            15.0\n",
       "Vitamin K (phylloquinone)              120.0\n",
       "Zinc, Zn                                11.0\n",
       "Sodium, Na                           -2300.0\n",
       "Energy                               -3100.0"
      ]
     },
     "execution_count": 15,
     "metadata": {},
     "output_type": "execute_result"
    }
   ],
   "source": [
    "b_reg = pd.concat([bmin_reg,-bmax_reg]) # Note sign change for max constraints\n",
    "b_fb = pd.concat([bmin_fb,-bmax_fb])\n",
    "\n",
    "b_reg"
   ]
  },
  {
   "cell_type": "markdown",
   "id": "f59ac88c",
   "metadata": {},
   "source": [
    "## Berkeley Male Student Minimum Cost Diet: "
   ]
  },
  {
   "cell_type": "code",
   "execution_count": 16,
   "id": "18fc958c",
   "metadata": {},
   "outputs": [
    {
     "data": {
      "text/plain": [
       "     con: array([], dtype=float64)\n",
       "     fun: 7.03997047392426\n",
       " message: 'Optimization terminated successfully.'\n",
       "     nit: 14\n",
       "   slack: array([4.15161594e-08, 7.70781507e+01, 2.19373258e+00, 6.72368401e-08,\n",
       "       2.78038533e-06, 1.93910170e+01, 9.34412988e+00, 5.08915716e+02,\n",
       "       3.78199263e+01, 1.38370496e+03, 2.72367288e-07, 2.24886776e-12,\n",
       "       2.24195730e-01, 6.32712727e-09, 1.34201539e-10, 1.32658853e+00,\n",
       "       8.99293880e+01, 1.16104459e-10, 3.27925420e-09, 6.27047287e+00,\n",
       "       1.13845786e+03, 7.00000000e+02])\n",
       "  status: 0\n",
       " success: True\n",
       "       x: array([8.64930227e-12, 1.80819280e-10, 1.18120788e-01, 1.12057677e+00,\n",
       "       2.06293194e-11, 1.94747938e-10, 1.05287144e-11, 4.59896690e-11,\n",
       "       4.14649854e-01, 7.42441859e-01, 1.17242572e-11, 0.00000000e+00,\n",
       "       5.93261903e-11, 2.61853283e+00, 3.43085402e-11, 8.92175480e-11,\n",
       "       1.52494922e-11, 6.24155588e-02, 2.45256969e-10, 2.79898624e+00,\n",
       "       1.78077301e-11, 7.11221864e-01, 5.06258037e-01, 7.56028091e-11])"
      ]
     },
     "execution_count": 16,
     "metadata": {},
     "output_type": "execute_result"
    }
   ],
   "source": [
    "from  scipy.optimize import linprog as lp\n",
    "import numpy as np\n",
    "\n",
    "tol = 1e-6 # Numbers in solution smaller than this (in absolute value) treated as zeros\n",
    "\n",
    "# Now solve problem!  (Note that the linear program solver we'll use assumes\n",
    "# \"less-than-or-equal\" constraints.  We can switch back and forth by\n",
    "# multiplying $A$ and $b$ by $-1$.)\n",
    "\n",
    "result = lp(p, -A_reg, -b_reg, method='interior-point')\n",
    "\n",
    "result"
   ]
  },
  {
   "cell_type": "code",
   "execution_count": 17,
   "id": "bb235987",
   "metadata": {},
   "outputs": [
    {
     "name": "stdout",
     "output_type": "stream",
     "text": [
      "Cost of diet for Regular Male is $7.04 per day.\n"
     ]
    }
   ],
   "source": [
    "print(f\"Cost of diet for Regular Male is ${result.fun:.2f} per day.\")"
   ]
  },
  {
   "cell_type": "code",
   "execution_count": 18,
   "id": "44a4875f",
   "metadata": {},
   "outputs": [
    {
     "name": "stdout",
     "output_type": "stream",
     "text": [
      "\n",
      "You'll be eating (in 100s of grams or milliliters):\n",
      "Black Beans          0.118121\n",
      "Broccoli             1.120577\n",
      "Ground Beef          0.414650\n",
      "Lentils              0.742442\n",
      "Peanut Butter        2.618533\n",
      "Rice                 0.062416\n",
      "Spinach              2.798986\n",
      "String Cheese        0.711222\n",
      "Whole-Grain Bread    0.506258\n",
      "dtype: float64\n"
     ]
    }
   ],
   "source": [
    "diet = pd.Series(result.x,index=p.index)\n",
    "\n",
    "print(\"\\nYou'll be eating (in 100s of grams or milliliters):\")\n",
    "print(diet[diet >= tol])"
   ]
  },
  {
   "cell_type": "code",
   "execution_count": 19,
   "id": "74a5c4ee",
   "metadata": {},
   "outputs": [
    {
     "name": "stdout",
     "output_type": "stream",
     "text": [
      "\n",
      "With the following nutritional outcomes of interest:\n"
     ]
    },
    {
     "data": {
      "text/html": [
       "<div>\n",
       "<style scoped>\n",
       "    .dataframe tbody tr th:only-of-type {\n",
       "        vertical-align: middle;\n",
       "    }\n",
       "\n",
       "    .dataframe tbody tr th {\n",
       "        vertical-align: top;\n",
       "    }\n",
       "\n",
       "    .dataframe thead th {\n",
       "        text-align: right;\n",
       "    }\n",
       "</style>\n",
       "<table border=\"1\" class=\"dataframe\">\n",
       "  <thead>\n",
       "    <tr style=\"text-align: right;\">\n",
       "      <th></th>\n",
       "      <th>Outcome</th>\n",
       "      <th>Recommendation</th>\n",
       "    </tr>\n",
       "    <tr>\n",
       "      <th>Nutrition</th>\n",
       "      <th></th>\n",
       "      <th></th>\n",
       "    </tr>\n",
       "  </thead>\n",
       "  <tbody>\n",
       "    <tr>\n",
       "      <th>Energy</th>\n",
       "      <td>2400.000000</td>\n",
       "      <td>2400.0</td>\n",
       "    </tr>\n",
       "    <tr>\n",
       "      <th>Protein</th>\n",
       "      <td>133.078151</td>\n",
       "      <td>56.0</td>\n",
       "    </tr>\n",
       "    <tr>\n",
       "      <th>Fiber, total dietary</th>\n",
       "      <td>35.793733</td>\n",
       "      <td>33.6</td>\n",
       "    </tr>\n",
       "    <tr>\n",
       "      <th>Folate, DFE</th>\n",
       "      <td>400.000000</td>\n",
       "      <td>400.0</td>\n",
       "    </tr>\n",
       "    <tr>\n",
       "      <th>Calcium, Ca</th>\n",
       "      <td>1000.000003</td>\n",
       "      <td>1000.0</td>\n",
       "    </tr>\n",
       "    <tr>\n",
       "      <th>Carbohydrate, by difference</th>\n",
       "      <td>149.391017</td>\n",
       "      <td>130.0</td>\n",
       "    </tr>\n",
       "    <tr>\n",
       "      <th>Iron, Fe</th>\n",
       "      <td>17.344130</td>\n",
       "      <td>8.0</td>\n",
       "    </tr>\n",
       "    <tr>\n",
       "      <th>Magnesium, Mg</th>\n",
       "      <td>908.915716</td>\n",
       "      <td>400.0</td>\n",
       "    </tr>\n",
       "    <tr>\n",
       "      <th>Niacin</th>\n",
       "      <td>53.819926</td>\n",
       "      <td>16.0</td>\n",
       "    </tr>\n",
       "    <tr>\n",
       "      <th>Phosphorus, P</th>\n",
       "      <td>2083.704962</td>\n",
       "      <td>700.0</td>\n",
       "    </tr>\n",
       "    <tr>\n",
       "      <th>Potassium, K</th>\n",
       "      <td>4700.000000</td>\n",
       "      <td>4700.0</td>\n",
       "    </tr>\n",
       "    <tr>\n",
       "      <th>Riboflavin</th>\n",
       "      <td>1.300000</td>\n",
       "      <td>1.3</td>\n",
       "    </tr>\n",
       "    <tr>\n",
       "      <th>Thiamin</th>\n",
       "      <td>1.424196</td>\n",
       "      <td>1.2</td>\n",
       "    </tr>\n",
       "    <tr>\n",
       "      <th>Vitamin A, RAE</th>\n",
       "      <td>900.000000</td>\n",
       "      <td>900.0</td>\n",
       "    </tr>\n",
       "    <tr>\n",
       "      <th>Vitamin B-12</th>\n",
       "      <td>2.400000</td>\n",
       "      <td>2.4</td>\n",
       "    </tr>\n",
       "    <tr>\n",
       "      <th>Vitamin B-6</th>\n",
       "      <td>2.626589</td>\n",
       "      <td>1.3</td>\n",
       "    </tr>\n",
       "    <tr>\n",
       "      <th>Vitamin C, total ascorbic acid</th>\n",
       "      <td>179.929388</td>\n",
       "      <td>90.0</td>\n",
       "    </tr>\n",
       "    <tr>\n",
       "      <th>Vitamin E (alpha-tocopherol)</th>\n",
       "      <td>15.000000</td>\n",
       "      <td>15.0</td>\n",
       "    </tr>\n",
       "    <tr>\n",
       "      <th>Vitamin K (phylloquinone)</th>\n",
       "      <td>120.000000</td>\n",
       "      <td>120.0</td>\n",
       "    </tr>\n",
       "    <tr>\n",
       "      <th>Zinc, Zn</th>\n",
       "      <td>17.270473</td>\n",
       "      <td>11.0</td>\n",
       "    </tr>\n",
       "    <tr>\n",
       "      <th>Sodium, Na</th>\n",
       "      <td>1161.542135</td>\n",
       "      <td>2300.0</td>\n",
       "    </tr>\n",
       "    <tr>\n",
       "      <th>Energy</th>\n",
       "      <td>2400.000000</td>\n",
       "      <td>3100.0</td>\n",
       "    </tr>\n",
       "  </tbody>\n",
       "</table>\n",
       "</div>"
      ],
      "text/plain": [
       "                                    Outcome  Recommendation\n",
       "Nutrition                                                  \n",
       "Energy                          2400.000000          2400.0\n",
       "Protein                          133.078151            56.0\n",
       "Fiber, total dietary              35.793733            33.6\n",
       "Folate, DFE                      400.000000           400.0\n",
       "Calcium, Ca                     1000.000003          1000.0\n",
       "Carbohydrate, by difference      149.391017           130.0\n",
       "Iron, Fe                          17.344130             8.0\n",
       "Magnesium, Mg                    908.915716           400.0\n",
       "Niacin                            53.819926            16.0\n",
       "Phosphorus, P                   2083.704962           700.0\n",
       "Potassium, K                    4700.000000          4700.0\n",
       "Riboflavin                         1.300000             1.3\n",
       "Thiamin                            1.424196             1.2\n",
       "Vitamin A, RAE                   900.000000           900.0\n",
       "Vitamin B-12                       2.400000             2.4\n",
       "Vitamin B-6                        2.626589             1.3\n",
       "Vitamin C, total ascorbic acid   179.929388            90.0\n",
       "Vitamin E (alpha-tocopherol)      15.000000            15.0\n",
       "Vitamin K (phylloquinone)        120.000000           120.0\n",
       "Zinc, Zn                          17.270473            11.0\n",
       "Sodium, Na                      1161.542135          2300.0\n",
       "Energy                          2400.000000          3100.0"
      ]
     },
     "execution_count": 19,
     "metadata": {},
     "output_type": "execute_result"
    }
   ],
   "source": [
    "tab = pd.DataFrame({\"Outcome\":np.abs(A_reg).dot(diet),\"Recommendation\":np.abs(b_reg.iloc[:,0])})\n",
    "print(\"\\nWith the following nutritional outcomes of interest:\")\n",
    "tab"
   ]
  },
  {
   "cell_type": "markdown",
   "id": "93ae1fde",
   "metadata": {},
   "source": [
    "## Berkeley Football Athlete Minimum Cost Diet: "
   ]
  },
  {
   "cell_type": "code",
   "execution_count": 20,
   "id": "5769cbe8",
   "metadata": {
    "scrolled": true
   },
   "outputs": [
    {
     "data": {
      "text/plain": [
       "     con: array([], dtype=float64)\n",
       "     fun: 9.640295797409216\n",
       " message: 'Optimization terminated successfully.'\n",
       "     nit: 14\n",
       "   slack: array([3.00000000e+03, 7.82125454e+00, 8.79689547e+00, 7.88829539e-07,\n",
       "       1.99850656e-05, 3.14205181e-07, 6.89250789e+00, 7.14805879e+02,\n",
       "       4.14510506e+01, 1.46449882e+03, 1.08648111e+03, 1.48187850e-01,\n",
       "       8.68705154e-01, 1.88910008e-07, 3.22976579e-09, 1.46969549e+00,\n",
       "       4.55036581e+00, 8.21145463e-09, 7.81655700e-08, 9.88216617e+00,\n",
       "       3.90117272e+03, 2.91200195e-07])\n",
       "  status: 0\n",
       " success: True\n",
       "       x: array([1.01639163e-09, 3.10900620e-09, 3.80508292e-10, 1.11893420e+00,\n",
       "       7.09813972e-10, 4.69740094e-09, 4.75161336e-10, 8.71264212e-10,\n",
       "       3.76924710e-01, 8.16423883e-01, 1.19067712e-09, 0.00000000e+00,\n",
       "       3.72432138e+00, 2.63869010e+00, 1.60695299e-09, 1.89918671e-09,\n",
       "       6.07115813e-10, 3.39650288e+00, 6.52887763e-09, 3.72238934e+00,\n",
       "       7.78216799e-10, 9.92551056e-01, 1.54114970e-08, 1.93559901e-09])"
      ]
     },
     "execution_count": 20,
     "metadata": {},
     "output_type": "execute_result"
    }
   ],
   "source": [
    "tol = 1e-6 # Numbers in solution smaller than this (in absolute value) treated as zeros\n",
    "\n",
    "# Now solve problem!  (Note that the linear program solver we'll use assumes\n",
    "# \"less-than-or-equal\" constraints.  We can switch back and forth by\n",
    "# multiplying $A$ and $b$ by $-1$.)\n",
    "\n",
    "result = lp(p, -A_fb, -b_fb, method='interior-point')\n",
    "\n",
    "result"
   ]
  },
  {
   "cell_type": "code",
   "execution_count": 21,
   "id": "31994235",
   "metadata": {},
   "outputs": [
    {
     "name": "stdout",
     "output_type": "stream",
     "text": [
      "Cost of diet for Football Athlete is $9.64 per day.\n"
     ]
    }
   ],
   "source": [
    "print(f\"Cost of diet for Football Athlete is ${result.fun:.2f} per day.\")"
   ]
  },
  {
   "cell_type": "code",
   "execution_count": 22,
   "id": "1388f834",
   "metadata": {},
   "outputs": [
    {
     "name": "stdout",
     "output_type": "stream",
     "text": [
      "\n",
      "You'll be eating (in 100s of grams or milliliters):\n",
      "Broccoli         1.118934\n",
      "Ground Beef      0.376925\n",
      "Lentils          0.816424\n",
      "Pasta            3.724321\n",
      "Peanut Butter    2.638690\n",
      "Rice             3.396503\n",
      "Spinach          3.722389\n",
      "String Cheese    0.992551\n",
      "dtype: float64\n"
     ]
    }
   ],
   "source": [
    "diet = pd.Series(result.x,index=p.index)\n",
    "\n",
    "print(\"\\nYou'll be eating (in 100s of grams or milliliters):\")\n",
    "print(diet[diet >= tol])"
   ]
  },
  {
   "cell_type": "code",
   "execution_count": 29,
   "id": "a7cc4399",
   "metadata": {},
   "outputs": [
    {
     "name": "stdout",
     "output_type": "stream",
     "text": [
      "\n",
      "With the following nutritional outcomes of interest:\n"
     ]
    },
    {
     "data": {
      "text/html": [
       "<div>\n",
       "<style scoped>\n",
       "    .dataframe tbody tr th:only-of-type {\n",
       "        vertical-align: middle;\n",
       "    }\n",
       "\n",
       "    .dataframe tbody tr th {\n",
       "        vertical-align: top;\n",
       "    }\n",
       "\n",
       "    .dataframe thead th {\n",
       "        text-align: right;\n",
       "    }\n",
       "</style>\n",
       "<table border=\"1\" class=\"dataframe\">\n",
       "  <thead>\n",
       "    <tr style=\"text-align: right;\">\n",
       "      <th></th>\n",
       "      <th>Outcome</th>\n",
       "      <th>Recommendation</th>\n",
       "    </tr>\n",
       "    <tr>\n",
       "      <th>Nutrition</th>\n",
       "      <th></th>\n",
       "      <th></th>\n",
       "    </tr>\n",
       "  </thead>\n",
       "  <tbody>\n",
       "    <tr>\n",
       "      <th>Energy</th>\n",
       "      <td>7000.000000</td>\n",
       "      <td>4000.0</td>\n",
       "    </tr>\n",
       "    <tr>\n",
       "      <th>Protein</th>\n",
       "      <td>199.821255</td>\n",
       "      <td>192.0</td>\n",
       "    </tr>\n",
       "    <tr>\n",
       "      <th>Fiber, total dietary</th>\n",
       "      <td>43.796895</td>\n",
       "      <td>35.0</td>\n",
       "    </tr>\n",
       "    <tr>\n",
       "      <th>Folate, DFE</th>\n",
       "      <td>400.000001</td>\n",
       "      <td>400.0</td>\n",
       "    </tr>\n",
       "    <tr>\n",
       "      <th>Calcium, Ca</th>\n",
       "      <td>1300.000020</td>\n",
       "      <td>1300.0</td>\n",
       "    </tr>\n",
       "    <tr>\n",
       "      <th>Carbohydrate, by difference</th>\n",
       "      <td>680.000000</td>\n",
       "      <td>680.0</td>\n",
       "    </tr>\n",
       "    <tr>\n",
       "      <th>Iron, Fe</th>\n",
       "      <td>21.892508</td>\n",
       "      <td>15.0</td>\n",
       "    </tr>\n",
       "    <tr>\n",
       "      <th>Magnesium, Mg</th>\n",
       "      <td>1114.805879</td>\n",
       "      <td>400.0</td>\n",
       "    </tr>\n",
       "    <tr>\n",
       "      <th>Niacin</th>\n",
       "      <td>61.451051</td>\n",
       "      <td>20.0</td>\n",
       "    </tr>\n",
       "    <tr>\n",
       "      <th>Phosphorus, P</th>\n",
       "      <td>2714.498824</td>\n",
       "      <td>1250.0</td>\n",
       "    </tr>\n",
       "    <tr>\n",
       "      <th>Potassium, K</th>\n",
       "      <td>5786.481112</td>\n",
       "      <td>4700.0</td>\n",
       "    </tr>\n",
       "    <tr>\n",
       "      <th>Riboflavin</th>\n",
       "      <td>1.848188</td>\n",
       "      <td>1.7</td>\n",
       "    </tr>\n",
       "    <tr>\n",
       "      <th>Thiamin</th>\n",
       "      <td>2.068705</td>\n",
       "      <td>1.2</td>\n",
       "    </tr>\n",
       "    <tr>\n",
       "      <th>Vitamin A, RAE</th>\n",
       "      <td>1200.000000</td>\n",
       "      <td>1200.0</td>\n",
       "    </tr>\n",
       "    <tr>\n",
       "      <th>Vitamin B-12</th>\n",
       "      <td>2.500000</td>\n",
       "      <td>2.5</td>\n",
       "    </tr>\n",
       "    <tr>\n",
       "      <th>Vitamin B-6</th>\n",
       "      <td>3.069695</td>\n",
       "      <td>1.6</td>\n",
       "    </tr>\n",
       "    <tr>\n",
       "      <th>Vitamin C, total ascorbic acid</th>\n",
       "      <td>204.550366</td>\n",
       "      <td>200.0</td>\n",
       "    </tr>\n",
       "    <tr>\n",
       "      <th>Vitamin E (alpha-tocopherol)</th>\n",
       "      <td>15.000000</td>\n",
       "      <td>15.0</td>\n",
       "    </tr>\n",
       "    <tr>\n",
       "      <th>Vitamin K (phylloquinone)</th>\n",
       "      <td>120.000000</td>\n",
       "      <td>120.0</td>\n",
       "    </tr>\n",
       "    <tr>\n",
       "      <th>Zinc, Zn</th>\n",
       "      <td>24.882166</td>\n",
       "      <td>15.0</td>\n",
       "    </tr>\n",
       "    <tr>\n",
       "      <th>Sodium, Na</th>\n",
       "      <td>1098.827280</td>\n",
       "      <td>5000.0</td>\n",
       "    </tr>\n",
       "    <tr>\n",
       "      <th>Energy</th>\n",
       "      <td>7000.000000</td>\n",
       "      <td>7000.0</td>\n",
       "    </tr>\n",
       "  </tbody>\n",
       "</table>\n",
       "</div>"
      ],
      "text/plain": [
       "                                    Outcome  Recommendation\n",
       "Nutrition                                                  \n",
       "Energy                          7000.000000          4000.0\n",
       "Protein                          199.821255           192.0\n",
       "Fiber, total dietary              43.796895            35.0\n",
       "Folate, DFE                      400.000001           400.0\n",
       "Calcium, Ca                     1300.000020          1300.0\n",
       "Carbohydrate, by difference      680.000000           680.0\n",
       "Iron, Fe                          21.892508            15.0\n",
       "Magnesium, Mg                   1114.805879           400.0\n",
       "Niacin                            61.451051            20.0\n",
       "Phosphorus, P                   2714.498824          1250.0\n",
       "Potassium, K                    5786.481112          4700.0\n",
       "Riboflavin                         1.848188             1.7\n",
       "Thiamin                            2.068705             1.2\n",
       "Vitamin A, RAE                  1200.000000          1200.0\n",
       "Vitamin B-12                       2.500000             2.5\n",
       "Vitamin B-6                        3.069695             1.6\n",
       "Vitamin C, total ascorbic acid   204.550366           200.0\n",
       "Vitamin E (alpha-tocopherol)      15.000000            15.0\n",
       "Vitamin K (phylloquinone)        120.000000           120.0\n",
       "Zinc, Zn                          24.882166            15.0\n",
       "Sodium, Na                      1098.827280          5000.0\n",
       "Energy                          7000.000000          7000.0"
      ]
     },
     "execution_count": 29,
     "metadata": {},
     "output_type": "execute_result"
    }
   ],
   "source": [
    "tab = pd.DataFrame({\"Outcome\":np.abs(A_fb).dot(diet),\"Recommendation\":np.abs(b_fb.iloc[:,0])})\n",
    "print(\"\\nWith the following nutritional outcomes of interest:\")\n",
    "tab"
   ]
  },
  {
   "cell_type": "code",
   "execution_count": 24,
   "id": "c6c65524",
   "metadata": {},
   "outputs": [],
   "source": [
    "def solve_subsistence_problem(FoodNutrients,Prices,dietmin,dietmax,max_weight=None,tol=1e-6):\n",
    "    \"\"\"Solve Stigler's Subsistence Cost Problem.\n",
    "\n",
    "    Inputs:\n",
    "       - FoodNutrients : A pd.DataFrame with rows corresponding to foods, columns to nutrients.\n",
    "       - Prices : A pd.Series of prices for different foods\n",
    "       - diet_min : A pd.Series of DRIs, with index corresponding to columns of FoodNutrients,\n",
    "                    describing minimum intakes.\n",
    "       - diet_max : A pd.Series of DRIs, with index corresponding to columns of FoodNutrients,\n",
    "                    describing maximum intakes.\n",
    "       - max_weight : Maximum weight (in hectograms) allowed for diet.\n",
    "       - tol : Solution values smaller than this in absolute value treated as zeros.\n",
    "       \n",
    "    \"\"\"\n",
    "    try: \n",
    "        p = Prices.apply(lambda x:x.magnitude)\n",
    "    except AttributeError:  # Maybe not passing in prices with units?\n",
    "        warnings.warn(\"Prices have no units.  BE CAREFUL!  We're assuming prices are per hectogram or deciliter!\")\n",
    "        p = Prices\n",
    "\n",
    "    p = p.dropna()\n",
    "\n",
    "    # Compile list that we have both prices and nutritional info for; drop if either missing\n",
    "    use = p.index.intersection(FoodNutrients.columns)\n",
    "    p = p[use]\n",
    "\n",
    "    # Drop nutritional information for foods we don't know the price of,\n",
    "    # and replace missing nutrients with zeros.\n",
    "    Aall = FoodNutrients[p.index].fillna(0)\n",
    "\n",
    "    # Drop rows of A that we don't have constraints for.\n",
    "    Amin = Aall.loc[Aall.index.intersection(dietmin.index)]\n",
    "    Amin = Amin.reindex(dietmin.index,axis=0)\n",
    "    idx = Amin.index.to_frame()\n",
    "    idx['type'] = 'min'\n",
    "    #Amin.index = pd.MultiIndex.from_frame(idx)\n",
    "    #dietmin.index = Amin.index\n",
    "    \n",
    "    Amax = Aall.loc[Aall.index.intersection(dietmax.index)]\n",
    "    Amax = Amax.reindex(dietmax.index,axis=0)\n",
    "    idx = Amax.index.to_frame()\n",
    "    idx['type'] = 'max'\n",
    "    #Amax.index = pd.MultiIndex.from_frame(idx)\n",
    "    #dietmax.index = Amax.index\n",
    "\n",
    "    # Minimum requirements involve multiplying constraint by -1 to make <=.\n",
    "    A = pd.concat([Amin,\n",
    "                   -Amax])\n",
    "\n",
    "    b = pd.concat([dietmin,\n",
    "                   -dietmax]) # Note sign change for max constraints\n",
    "\n",
    "    # Make sure order of p, A, b are consistent\n",
    "    A = A.reindex(p.index,axis=1)\n",
    "    A = A.reindex(b.index,axis=0)\n",
    "\n",
    "    if max_weight is not None:\n",
    "        # Add up weights of foods consumed\n",
    "        A.loc['Hectograms'] = -1\n",
    "        b.loc['Hectograms'] = -max_weight\n",
    "        \n",
    "    # Now solve problem!  (Note that the linear program solver we'll use assumes\n",
    "    # \"less-than-or-equal\" constraints.  We can switch back and forth by\n",
    "    # multiplying $A$ and $b$ by $-1$.)\n",
    "\n",
    "    result = lp(p, -A, -b, method='interior-point')\n",
    "\n",
    "    result.A = A\n",
    "    result.b = b\n",
    "    \n",
    "    if result.success:\n",
    "        result.diet = pd.Series(result.x,index=p.index)\n",
    "    else: # No feasible solution?\n",
    "        warnings.warn(result.message)\n",
    "        result.diet = pd.Series(result.x,index=p.index)*np.nan  \n",
    "\n",
    "    return result"
   ]
  },
  {
   "cell_type": "markdown",
   "id": "cbb90dc3",
   "metadata": {},
   "source": [
    "### Sensitization of Minimum Cost Diets: "
   ]
  },
  {
   "cell_type": "code",
   "execution_count": 25,
   "id": "3ff9a06d",
   "metadata": {},
   "outputs": [
    {
     "name": "stderr",
     "output_type": "stream",
     "text": [
      "/opt/conda/lib/python3.9/site-packages/geopandas/_compat.py:111: UserWarning:\n",
      "\n",
      "The Shapely GEOS version (3.10.3-CAPI-1.16.1) is incompatible with the GEOS version PyGEOS was compiled with (3.10.4-CAPI-1.16.2). Conversions between both will be slow.\n",
      "\n"
     ]
    },
    {
     "data": {
      "text/html": [
       "        <script type=\"text/javascript\">\n",
       "        window.PlotlyConfig = {MathJaxConfig: 'local'};\n",
       "        if (window.MathJax) {MathJax.Hub.Config({SVG: {font: \"STIX-Web\"}});}\n",
       "        if (typeof require !== 'undefined') {\n",
       "        require.undef(\"plotly\");\n",
       "        requirejs.config({\n",
       "            paths: {\n",
       "                'plotly': ['https://cdn.plot.ly/plotly-2.3.1.min']\n",
       "            }\n",
       "        });\n",
       "        require(['plotly'], function(Plotly) {\n",
       "            window._Plotly = Plotly;\n",
       "        });\n",
       "        }\n",
       "        </script>\n",
       "        "
      ]
     },
     "metadata": {},
     "output_type": "display_data"
    },
    {
     "data": {
      "application/vnd.plotly.v1+json": {
       "config": {
        "linkText": "Export to plot.ly",
        "plotlyServerURL": "https://plot.ly",
        "showLink": true
       },
       "data": [
        {
         "line": {
          "color": "rgba(255, 153, 51, 1.0)",
          "dash": "solid",
          "shape": "linear",
          "width": 1.3
         },
         "mode": "lines",
         "name": "Apple",
         "text": "",
         "type": "scatter",
         "x": [
          -0.6931471805599453,
          -0.5108256237659907,
          -0.35667494393873245,
          -0.22314355131420968,
          -0.10536051565782628,
          0,
          0.09531017980432495,
          0.1823215567939546,
          0.26236426446749106,
          0.33647223662121284,
          0.4054651081081644
         ],
         "y": [
          4.8246961979971546e-11,
          5.526579194128851e-11,
          5.6692428527851976e-11,
          1.0542899886389835e-11,
          -1.1285417045321084e-12,
          0,
          4.860778446402046e-12,
          1.1091572105153652e-11,
          1.8378853994080876e-11,
          2.7402524693422664e-11,
          2.5809576697732873e-11
         ]
        },
        {
         "line": {
          "color": "rgba(55, 128, 191, 1.0)",
          "dash": "solid",
          "shape": "linear",
          "width": 1.3
         },
         "mode": "lines",
         "name": "Bananas",
         "text": "",
         "type": "scatter",
         "x": [
          -0.6931471805599453,
          -0.5108256237659907,
          -0.35667494393873245,
          -0.22314355131420968,
          -0.10536051565782628,
          0,
          0.09531017980432495,
          0.1823215567939546,
          0.26236426446749106,
          0.33647223662121284,
          0.4054651081081644
         ],
         "y": [
          -4.955946764207536e-11,
          1.222740890614769e-06,
          -1.7417178810334624e-12,
          7.313105676319976e-11,
          5.512812428624259e-11,
          0,
          2.2640143124261902e-06,
          1.8343440759901231e-06,
          1.537596689812146e-06,
          1.323401029255754e-06,
          1.1630308993920376e-06
         ]
        },
        {
         "line": {
          "color": "rgba(50, 171, 96, 1.0)",
          "dash": "solid",
          "shape": "linear",
          "width": 1.3
         },
         "mode": "lines",
         "name": "Black Beans",
         "text": "",
         "type": "scatter",
         "x": [
          -0.6931471805599453,
          -0.5108256237659907,
          -0.35667494393873245,
          -0.22314355131420968,
          -0.10536051565782628,
          0,
          0.09531017980432495,
          0.1823215567939546,
          0.26236426446749106,
          0.33647223662121284,
          0.4054651081081644
         ],
         "y": [
          -0.002083179498566191,
          -0.001666196306755975,
          -0.0012493868515908492,
          -0.0008327511918761948,
          -0.00041628893675774143,
          0,
          0.0004161157356387013,
          0.0008338429707065426,
          0.0012493093016204093,
          0.0016646820667185853,
          0.002079911659860696
         ]
        },
        {
         "line": {
          "color": "rgba(128, 0, 128, 1.0)",
          "dash": "solid",
          "shape": "linear",
          "width": 1.3
         },
         "mode": "lines",
         "name": "Broccoli",
         "text": "",
         "type": "scatter",
         "x": [
          -0.6931471805599453,
          -0.5108256237659907,
          -0.35667494393873245,
          -0.22314355131420968,
          -0.10536051565782628,
          0,
          0.09531017980432495,
          0.1823215567939546,
          0.26236426446749106,
          0.33647223662121284,
          0.4054651081081644
         ],
         "y": [
          -0.0725164538121631,
          -0.0575863648996213,
          -0.042875908418153155,
          -0.028378716040122237,
          -0.014088692457740193,
          0,
          0.01389295568508304,
          0.027595538967621663,
          0.04111289667110109,
          0.05444996967922312,
          0.06761150377801581
         ]
        },
        {
         "line": {
          "color": "rgba(219, 64, 82, 1.0)",
          "dash": "solid",
          "shape": "linear",
          "width": 1.3
         },
         "mode": "lines",
         "name": "Butter ",
         "text": "",
         "type": "scatter",
         "x": [
          -0.6931471805599453,
          -0.5108256237659907,
          -0.35667494393873245,
          -0.22314355131420968,
          -0.10536051565782628,
          0,
          0.09531017980432495,
          0.1823215567939546,
          0.26236426446749106,
          0.33647223662121284,
          0.4054651081081644
         ],
         "y": [
          5.4941162728906e-11,
          3.740430187734168e-11,
          2.3135493520686162e-11,
          1.2325473974707604e-11,
          4.71156447189314e-12,
          0,
          -2.355671213652432e-12,
          -2.7392532686614005e-12,
          -1.7097434579242028e-12,
          4.2055248172792084e-13,
          8.726352973549923e-13
         ]
        },
        {
         "line": {
          "color": "rgba(0, 128, 128, 1.0)",
          "dash": "solid",
          "shape": "linear",
          "width": 1.3
         },
         "mode": "lines",
         "name": "Carrots",
         "text": "",
         "type": "scatter",
         "x": [
          -0.6931471805599453,
          -0.5108256237659907,
          -0.35667494393873245,
          -0.22314355131420968,
          -0.10536051565782628,
          0,
          0.09531017980432495,
          0.1823215567939546,
          0.26236426446749106,
          0.33647223662121284,
          0.4054651081081644
         ],
         "y": [
          1.1847411939678165e-10,
          1.1561063217200359e-10,
          1.7563817065869508e-10,
          1.08771436296475e-10,
          3.008260307479076e-11,
          0,
          -6.107669925389026e-12,
          1.8367529719381723e-12,
          1.9556800623185824e-11,
          4.4921177887559355e-11,
          7.351741437574099e-11
         ]
        },
        {
         "line": {
          "color": "rgba(255, 255, 51, 1.0)",
          "dash": "solid",
          "shape": "linear",
          "width": 1.3
         },
         "mode": "lines",
         "name": "Chicken Breast",
         "text": "",
         "type": "scatter",
         "x": [
          -0.6931471805599453,
          -0.5108256237659907,
          -0.35667494393873245,
          -0.22314355131420968,
          -0.10536051565782628,
          0,
          0.09531017980432495,
          0.1823215567939546,
          0.26236426446749106,
          0.33647223662121284,
          0.4054651081081644
         ],
         "y": [
          4.4520831464897425e-11,
          3.0411451134674787e-11,
          2.0321966331742224e-11,
          1.2415179995096207e-11,
          5.777822664737548e-12,
          0,
          -5.21482856898042e-12,
          -9.90185711207587e-12,
          -1.4361178912839371e-11,
          -1.8472445795396283e-11,
          -2.239730623213134e-11
         ]
        },
        {
         "line": {
          "color": "rgba(128, 128, 0, 1.0)",
          "dash": "solid",
          "shape": "linear",
          "width": 1.3
         },
         "mode": "lines",
         "name": "Eggs",
         "text": "",
         "type": "scatter",
         "x": [
          -0.6931471805599453,
          -0.5108256237659907,
          -0.35667494393873245,
          -0.22314355131420968,
          -0.10536051565782628,
          0,
          0.09531017980432495,
          0.1823215567939546,
          0.26236426446749106,
          0.33647223662121284,
          0.4054651081081644
         ],
         "y": [
          1.3141931986229352e-10,
          1.1848833025149517e-10,
          9.359446550677984e-11,
          6.365108440117882e-11,
          3.185740560190157e-11,
          0,
          2.3110016786317882e-06,
          1.7322232342412887e-06,
          1.1937598880613337e-06,
          7.129613276154877e-07,
          3.458018706341877e-07
         ]
        },
        {
         "line": {
          "color": "rgba(251, 128, 114, 1.0)",
          "dash": "solid",
          "shape": "linear",
          "width": 1.3
         },
         "mode": "lines",
         "name": "Ground Beef",
         "text": "",
         "type": "scatter",
         "x": [
          -0.6931471805599453,
          -0.5108256237659907,
          -0.35667494393873245,
          -0.22314355131420968,
          -0.10536051565782628,
          0,
          0.09531017980432495,
          0.1823215567939546,
          0.26236426446749106,
          0.33647223662121284,
          0.4054651081081644
         ],
         "y": [
          -0.03293415924033439,
          -0.026259956599820427,
          -0.019629930799376964,
          -0.013043421165156046,
          -0.006499633308868436,
          0,
          0.006458658075737103,
          0.012875907425981548,
          0.01841303858082289,
          0.023903211344539065,
          0.029363540953451693
         ]
        },
        {
         "line": {
          "color": "rgba(128, 177, 211, 1.0)",
          "dash": "solid",
          "shape": "linear",
          "width": 1.3
         },
         "mode": "lines",
         "name": "Lentils",
         "text": "",
         "type": "scatter",
         "x": [
          -0.6931471805599453,
          -0.5108256237659907,
          -0.35667494393873245,
          -0.22314355131420968,
          -0.10536051565782628,
          0,
          0.09531017980432495,
          0.1823215567939546,
          0.26236426446749106,
          0.33647223662121284,
          0.4054651081081644
         ],
         "y": [
          -0.0449884727915092,
          -0.03373312987598566,
          -0.0238680795332295,
          -0.014200445370281542,
          -0.007073072683409136,
          0,
          0.007025450952959821,
          0.014001613336315492,
          0.02092958334468215,
          0.027699788724792302,
          0.03438072142221494
         ]
        },
        {
         "line": {
          "color": "rgba(128, 177, 211, 0.8999999999999999)",
          "dash": "solid",
          "shape": "linear",
          "width": 1.3
         },
         "mode": "lines",
         "name": "Oatmeal",
         "text": "",
         "type": "scatter",
         "x": [
          -0.6931471805599453,
          -0.5108256237659907,
          -0.35667494393873245,
          -0.22314355131420968,
          -0.10536051565782628,
          0,
          0.09531017980432495,
          0.1823215567939546,
          0.26236426446749106,
          0.33647223662121284,
          0.4054651081081644
         ],
         "y": [
          5.318478990404396e-11,
          3.5375702366820415e-11,
          2.3080426458666027e-11,
          1.3935519404997865e-11,
          6.510569860985649e-12,
          0,
          -6.192379942168446e-12,
          -1.2359890888623326e-11,
          -1.855837705750386e-11,
          2.4312935507478776e-06,
          2.3053475651821526e-06
         ]
        },
        {
         "line": {
          "color": "rgba(255, 153, 51, 0.8999999999999999)",
          "dash": "solid",
          "shape": "linear",
          "width": 1.3
         },
         "mode": "lines",
         "name": "Olive oil ",
         "text": "",
         "type": "scatter",
         "x": [
          -0.6931471805599453,
          -0.5108256237659907,
          -0.35667494393873245,
          -0.22314355131420968,
          -0.10536051565782628,
          0,
          0.09531017980432495,
          0.1823215567939546,
          0.26236426446749106,
          0.33647223662121284,
          0.4054651081081644
         ],
         "y": [
          0,
          0,
          0,
          0,
          0,
          0,
          0,
          0,
          0,
          0,
          0
         ]
        },
        {
         "line": {
          "color": "rgba(55, 128, 191, 0.8999999999999999)",
          "dash": "solid",
          "shape": "linear",
          "width": 1.3
         },
         "mode": "lines",
         "name": "Pasta",
         "text": "",
         "type": "scatter",
         "x": [
          -0.6931471805599453,
          -0.5108256237659907,
          -0.35667494393873245,
          -0.22314355131420968,
          -0.10536051565782628,
          0,
          0.09531017980432495,
          0.1823215567939546,
          0.26236426446749106,
          0.33647223662121284,
          0.4054651081081644
         ],
         "y": [
          8.127172265199135e-10,
          3.7966585423885573e-10,
          1.9345902655747942e-10,
          9.678036149794092e-11,
          3.914357726765288e-11,
          0,
          -2.8263946739004198e-11,
          4.147548563797088e-07,
          3.971649011449737e-07,
          6.202438686490953e-07,
          7.068528460126502e-07
         ]
        },
        {
         "line": {
          "color": "rgba(50, 171, 96, 0.8999999999999999)",
          "dash": "solid",
          "shape": "linear",
          "width": 1.3
         },
         "mode": "lines",
         "name": "Peanut Butter",
         "text": "",
         "type": "scatter",
         "x": [
          -0.6931471805599453,
          -0.5108256237659907,
          -0.35667494393873245,
          -0.22314355131420968,
          -0.10536051565782628,
          0,
          0.09531017980432495,
          0.1823215567939546,
          0.26236426446749106,
          0.33647223662121284,
          0.4054651081081644
         ],
         "y": [
          -0.09859480876204907,
          -0.07808271349200215,
          -0.05798272246772226,
          -0.038280078566529034,
          -0.018956879890981437,
          0,
          0.018606211655104725,
          0.036869732365297114,
          0.05480589280455716,
          0.0724262630722545,
          0.08974175997890095
         ]
        },
        {
         "line": {
          "color": "rgba(128, 0, 128, 0.8999999999999999)",
          "dash": "solid",
          "shape": "linear",
          "width": 1.3
         },
         "mode": "lines",
         "name": "Potatoes",
         "text": "",
         "type": "scatter",
         "x": [
          -0.6931471805599453,
          -0.5108256237659907,
          -0.35667494393873245,
          -0.22314355131420968,
          -0.10536051565782628,
          0,
          0.09531017980432495,
          0.1823215567939546,
          0.26236426446749106,
          0.33647223662121284,
          0.4054651081081644
         ],
         "y": [
          9.531198052571272e-11,
          5.4466209318997346e-11,
          3.108557855520645e-11,
          1.653432946100084e-11,
          6.8083316761881336e-12,
          0,
          -4.965916566858193e-12,
          -8.681722008001486e-12,
          -1.1581735570654238e-11,
          -1.3913759033909108e-11,
          -1.5771828287949348e-11
         ]
        },
        {
         "line": {
          "color": "rgba(219, 64, 82, 0.8999999999999999)",
          "dash": "solid",
          "shape": "linear",
          "width": 1.3
         },
         "mode": "lines",
         "name": "Quinoa",
         "text": "",
         "type": "scatter",
         "x": [
          -0.6931471805599453,
          -0.5108256237659907,
          -0.35667494393873245,
          -0.22314355131420968,
          -0.10536051565782628,
          0,
          0.09531017980432495,
          0.1823215567939546,
          0.26236426446749106,
          0.33647223662121284,
          0.4054651081081644
         ],
         "y": [
          -0.01577327652564155,
          -0.006794316454216171,
          -0.0015952426464579345,
          2.9763116371600754e-09,
          3.4652281043999995e-11,
          0,
          -1.4083623156679135e-11,
          -2.291788980838987e-11,
          -2.935740539598902e-11,
          2.242368832050807e-06,
          2.1601879057014358e-06
         ]
        },
        {
         "line": {
          "color": "rgba(0, 128, 128, 0.8999999999999999)",
          "dash": "solid",
          "shape": "linear",
          "width": 1.3
         },
         "mode": "lines",
         "name": "Red Bell Pepper",
         "text": "",
         "type": "scatter",
         "x": [
          -0.6931471805599453,
          -0.5108256237659907,
          -0.35667494393873245,
          -0.22314355131420968,
          -0.10536051565782628,
          0,
          0.09531017980432495,
          0.1823215567939546,
          0.26236426446749106,
          0.33647223662121284,
          0.4054651081081644
         ],
         "y": [
          1.8396617562474552e-11,
          1.3263390385898936e-11,
          9.52549150663355e-12,
          6.366462912390232e-12,
          3.235856027567246e-12,
          0,
          -3.4195979381537915e-12,
          -6.971978550065362e-12,
          -1.0669909400519453e-11,
          -1.4455880936841262e-11,
          -1.8290924330866732e-11
         ]
        },
        {
         "line": {
          "color": "rgba(255, 255, 51, 0.8999999999999999)",
          "dash": "solid",
          "shape": "linear",
          "width": 1.3
         },
         "mode": "lines",
         "name": "Rice",
         "text": "",
         "type": "scatter",
         "x": [
          -0.6931471805599453,
          -0.5108256237659907,
          -0.35667494393873245,
          -0.22314355131420968,
          -0.10536051565782628,
          0,
          0.09531017980432495,
          0.1823215567939546,
          0.26236426446749106,
          0.33647223662121284,
          0.4054651081081644
         ],
         "y": [
          -0.002636268241266308,
          -0.0017555643110039236,
          -0.0008757084332875584,
          -0.00038969140519042614,
          -0.00019342255084407343,
          0,
          0.0001949035595671263,
          0.0003895410825501401,
          0.0005205564418318904,
          0.0005207662106387725,
          0.0005206232664142224
         ]
        },
        {
         "line": {
          "color": "rgba(128, 128, 0, 0.8999999999999999)",
          "dash": "solid",
          "shape": "linear",
          "width": 1.3
         },
         "mode": "lines",
         "name": "Salt",
         "text": "",
         "type": "scatter",
         "x": [
          -0.6931471805599453,
          -0.5108256237659907,
          -0.35667494393873245,
          -0.22314355131420968,
          -0.10536051565782628,
          0,
          0.09531017980432495,
          0.1823215567939546,
          0.26236426446749106,
          0.33647223662121284,
          0.4054651081081644
         ],
         "y": [
          1.584418597369493e-07,
          1.096470485357307e-07,
          6.335261514551328e-08,
          3.667618040605592e-07,
          4.792415737194702e-07,
          0,
          3.959448323980164e-10,
          1.0620697649033033e-09,
          1.487735933340053e-09,
          6.803422609100962e-07,
          -3.716427166080786e-11
         ]
        },
        {
         "line": {
          "color": "rgba(251, 128, 114, 0.8999999999999999)",
          "dash": "solid",
          "shape": "linear",
          "width": 1.3
         },
         "mode": "lines",
         "name": "Spinach",
         "text": "",
         "type": "scatter",
         "x": [
          -0.6931471805599453,
          -0.5108256237659907,
          -0.35667494393873245,
          -0.22314355131420968,
          -0.10536051565782628,
          0,
          0.09531017980432495,
          0.1823215567939546,
          0.26236426446749106,
          0.33647223662121284,
          0.4054651081081644
         ],
         "y": [
          -0.23519944093364448,
          -0.1835256150896251,
          -0.13439106844520943,
          -0.08755845791978109,
          -0.042820965393535707,
          0,
          0.04097079239014953,
          0.07870246545255462,
          0.10971460061406026,
          0.13464632960384637,
          0.158971615693121
         ]
        },
        {
         "line": {
          "color": "rgba(251, 128, 114, 0.7999999999999998)",
          "dash": "solid",
          "shape": "linear",
          "width": 1.3
         },
         "mode": "lines",
         "name": "Strawberries",
         "text": "",
         "type": "scatter",
         "x": [
          -0.6931471805599453,
          -0.5108256237659907,
          -0.35667494393873245,
          -0.22314355131420968,
          -0.10536051565782628,
          0,
          0.09531017980432495,
          0.1823215567939546,
          0.26236426446749106,
          0.33647223662121284,
          0.4054651081081644
         ],
         "y": [
          4.66879868088669e-11,
          3.407096826832624e-11,
          2.4027446698648978e-11,
          1.534261606638719e-11,
          7.397193968445133e-12,
          0,
          -7.009171021390565e-12,
          -1.371203151033193e-11,
          -2.0160095815161583e-11,
          -2.6346924642331595e-11,
          2.2826609719962676e-06
         ]
        },
        {
         "line": {
          "color": "rgba(128, 177, 211, 0.7999999999999998)",
          "dash": "solid",
          "shape": "linear",
          "width": 1.3
         },
         "mode": "lines",
         "name": "String Cheese",
         "text": "",
         "type": "scatter",
         "x": [
          -0.6931471805599453,
          -0.5108256237659907,
          -0.35667494393873245,
          -0.22314355131420968,
          -0.10536051565782628,
          0,
          0.09531017980432495,
          0.1823215567939546,
          0.26236426446749106,
          0.33647223662121284,
          0.4054651081081644
         ],
         "y": [
          -0.16989834046574273,
          -0.10551403244134251,
          -0.06856082124813637,
          -0.034275599986182216,
          -0.010359448873504455,
          0,
          0.00884015753602685,
          0.017602746992276094,
          0.026289272437421823,
          0.034805484627736846,
          0.04319614892868079
         ]
        },
        {
         "line": {
          "color": "rgba(255, 153, 51, 0.7999999999999998)",
          "dash": "solid",
          "shape": "linear",
          "width": 1.3
         },
         "mode": "lines",
         "name": "Whole-Grain Bread",
         "text": "",
         "type": "scatter",
         "x": [
          -0.6931471805599453,
          -0.5108256237659907,
          -0.35667494393873245,
          -0.22314355131420968,
          -0.10536051565782628,
          0,
          0.09531017980432495,
          0.1823215567939546,
          0.26236426446749106,
          0.33647223662121284,
          0.4054651081081644
         ],
         "y": [
          -0.014209314884942054,
          -0.01067327282928666,
          -0.00786305723713383,
          -0.005060702785617457,
          -0.002297124151255127,
          0,
          0.002235217989368229,
          0.0027108771869919284,
          0.003186443034041374,
          0.0032116196232376873,
          0.0032116183105245053
         ]
        },
        {
         "line": {
          "color": "rgba(55, 128, 191, 0.7999999999999998)",
          "dash": "solid",
          "shape": "linear",
          "width": 1.3
         },
         "mode": "lines",
         "name": "Yogurt",
         "text": "",
         "type": "scatter",
         "x": [
          -0.6931471805599453,
          -0.5108256237659907,
          -0.35667494393873245,
          -0.22314355131420968,
          -0.10536051565782628,
          0,
          0.09531017980432495,
          0.1823215567939546,
          0.26236426446749106,
          0.33647223662121284,
          0.4054651081081644
         ],
         "y": [
          4.350060195144363e-08,
          1.4086687371135751e-10,
          1.5038681410152695e-10,
          6.257061535368181e-11,
          2.3358204259420792e-11,
          0,
          -1.630950929878394e-11,
          -2.8801072638333174e-11,
          2.151870001062156e-06,
          1.9817663903865e-06,
          1.8340335558394283e-06
         ]
        }
       ],
       "layout": {
        "legend": {
         "bgcolor": "#F5F6F9",
         "font": {
          "color": "#4D5663"
         }
        },
        "paper_bgcolor": "#F5F6F9",
        "plot_bgcolor": "#F5F6F9",
        "template": {
         "data": {
          "bar": [
           {
            "error_x": {
             "color": "#2a3f5f"
            },
            "error_y": {
             "color": "#2a3f5f"
            },
            "marker": {
             "line": {
              "color": "#E5ECF6",
              "width": 0.5
             },
             "pattern": {
              "fillmode": "overlay",
              "size": 10,
              "solidity": 0.2
             }
            },
            "type": "bar"
           }
          ],
          "barpolar": [
           {
            "marker": {
             "line": {
              "color": "#E5ECF6",
              "width": 0.5
             },
             "pattern": {
              "fillmode": "overlay",
              "size": 10,
              "solidity": 0.2
             }
            },
            "type": "barpolar"
           }
          ],
          "carpet": [
           {
            "aaxis": {
             "endlinecolor": "#2a3f5f",
             "gridcolor": "white",
             "linecolor": "white",
             "minorgridcolor": "white",
             "startlinecolor": "#2a3f5f"
            },
            "baxis": {
             "endlinecolor": "#2a3f5f",
             "gridcolor": "white",
             "linecolor": "white",
             "minorgridcolor": "white",
             "startlinecolor": "#2a3f5f"
            },
            "type": "carpet"
           }
          ],
          "choropleth": [
           {
            "colorbar": {
             "outlinewidth": 0,
             "ticks": ""
            },
            "type": "choropleth"
           }
          ],
          "contour": [
           {
            "colorbar": {
             "outlinewidth": 0,
             "ticks": ""
            },
            "colorscale": [
             [
              0,
              "#0d0887"
             ],
             [
              0.1111111111111111,
              "#46039f"
             ],
             [
              0.2222222222222222,
              "#7201a8"
             ],
             [
              0.3333333333333333,
              "#9c179e"
             ],
             [
              0.4444444444444444,
              "#bd3786"
             ],
             [
              0.5555555555555556,
              "#d8576b"
             ],
             [
              0.6666666666666666,
              "#ed7953"
             ],
             [
              0.7777777777777778,
              "#fb9f3a"
             ],
             [
              0.8888888888888888,
              "#fdca26"
             ],
             [
              1,
              "#f0f921"
             ]
            ],
            "type": "contour"
           }
          ],
          "contourcarpet": [
           {
            "colorbar": {
             "outlinewidth": 0,
             "ticks": ""
            },
            "type": "contourcarpet"
           }
          ],
          "heatmap": [
           {
            "colorbar": {
             "outlinewidth": 0,
             "ticks": ""
            },
            "colorscale": [
             [
              0,
              "#0d0887"
             ],
             [
              0.1111111111111111,
              "#46039f"
             ],
             [
              0.2222222222222222,
              "#7201a8"
             ],
             [
              0.3333333333333333,
              "#9c179e"
             ],
             [
              0.4444444444444444,
              "#bd3786"
             ],
             [
              0.5555555555555556,
              "#d8576b"
             ],
             [
              0.6666666666666666,
              "#ed7953"
             ],
             [
              0.7777777777777778,
              "#fb9f3a"
             ],
             [
              0.8888888888888888,
              "#fdca26"
             ],
             [
              1,
              "#f0f921"
             ]
            ],
            "type": "heatmap"
           }
          ],
          "heatmapgl": [
           {
            "colorbar": {
             "outlinewidth": 0,
             "ticks": ""
            },
            "colorscale": [
             [
              0,
              "#0d0887"
             ],
             [
              0.1111111111111111,
              "#46039f"
             ],
             [
              0.2222222222222222,
              "#7201a8"
             ],
             [
              0.3333333333333333,
              "#9c179e"
             ],
             [
              0.4444444444444444,
              "#bd3786"
             ],
             [
              0.5555555555555556,
              "#d8576b"
             ],
             [
              0.6666666666666666,
              "#ed7953"
             ],
             [
              0.7777777777777778,
              "#fb9f3a"
             ],
             [
              0.8888888888888888,
              "#fdca26"
             ],
             [
              1,
              "#f0f921"
             ]
            ],
            "type": "heatmapgl"
           }
          ],
          "histogram": [
           {
            "marker": {
             "pattern": {
              "fillmode": "overlay",
              "size": 10,
              "solidity": 0.2
             }
            },
            "type": "histogram"
           }
          ],
          "histogram2d": [
           {
            "colorbar": {
             "outlinewidth": 0,
             "ticks": ""
            },
            "colorscale": [
             [
              0,
              "#0d0887"
             ],
             [
              0.1111111111111111,
              "#46039f"
             ],
             [
              0.2222222222222222,
              "#7201a8"
             ],
             [
              0.3333333333333333,
              "#9c179e"
             ],
             [
              0.4444444444444444,
              "#bd3786"
             ],
             [
              0.5555555555555556,
              "#d8576b"
             ],
             [
              0.6666666666666666,
              "#ed7953"
             ],
             [
              0.7777777777777778,
              "#fb9f3a"
             ],
             [
              0.8888888888888888,
              "#fdca26"
             ],
             [
              1,
              "#f0f921"
             ]
            ],
            "type": "histogram2d"
           }
          ],
          "histogram2dcontour": [
           {
            "colorbar": {
             "outlinewidth": 0,
             "ticks": ""
            },
            "colorscale": [
             [
              0,
              "#0d0887"
             ],
             [
              0.1111111111111111,
              "#46039f"
             ],
             [
              0.2222222222222222,
              "#7201a8"
             ],
             [
              0.3333333333333333,
              "#9c179e"
             ],
             [
              0.4444444444444444,
              "#bd3786"
             ],
             [
              0.5555555555555556,
              "#d8576b"
             ],
             [
              0.6666666666666666,
              "#ed7953"
             ],
             [
              0.7777777777777778,
              "#fb9f3a"
             ],
             [
              0.8888888888888888,
              "#fdca26"
             ],
             [
              1,
              "#f0f921"
             ]
            ],
            "type": "histogram2dcontour"
           }
          ],
          "mesh3d": [
           {
            "colorbar": {
             "outlinewidth": 0,
             "ticks": ""
            },
            "type": "mesh3d"
           }
          ],
          "parcoords": [
           {
            "line": {
             "colorbar": {
              "outlinewidth": 0,
              "ticks": ""
             }
            },
            "type": "parcoords"
           }
          ],
          "pie": [
           {
            "automargin": true,
            "type": "pie"
           }
          ],
          "scatter": [
           {
            "marker": {
             "colorbar": {
              "outlinewidth": 0,
              "ticks": ""
             }
            },
            "type": "scatter"
           }
          ],
          "scatter3d": [
           {
            "line": {
             "colorbar": {
              "outlinewidth": 0,
              "ticks": ""
             }
            },
            "marker": {
             "colorbar": {
              "outlinewidth": 0,
              "ticks": ""
             }
            },
            "type": "scatter3d"
           }
          ],
          "scattercarpet": [
           {
            "marker": {
             "colorbar": {
              "outlinewidth": 0,
              "ticks": ""
             }
            },
            "type": "scattercarpet"
           }
          ],
          "scattergeo": [
           {
            "marker": {
             "colorbar": {
              "outlinewidth": 0,
              "ticks": ""
             }
            },
            "type": "scattergeo"
           }
          ],
          "scattergl": [
           {
            "marker": {
             "colorbar": {
              "outlinewidth": 0,
              "ticks": ""
             }
            },
            "type": "scattergl"
           }
          ],
          "scattermapbox": [
           {
            "marker": {
             "colorbar": {
              "outlinewidth": 0,
              "ticks": ""
             }
            },
            "type": "scattermapbox"
           }
          ],
          "scatterpolar": [
           {
            "marker": {
             "colorbar": {
              "outlinewidth": 0,
              "ticks": ""
             }
            },
            "type": "scatterpolar"
           }
          ],
          "scatterpolargl": [
           {
            "marker": {
             "colorbar": {
              "outlinewidth": 0,
              "ticks": ""
             }
            },
            "type": "scatterpolargl"
           }
          ],
          "scatterternary": [
           {
            "marker": {
             "colorbar": {
              "outlinewidth": 0,
              "ticks": ""
             }
            },
            "type": "scatterternary"
           }
          ],
          "surface": [
           {
            "colorbar": {
             "outlinewidth": 0,
             "ticks": ""
            },
            "colorscale": [
             [
              0,
              "#0d0887"
             ],
             [
              0.1111111111111111,
              "#46039f"
             ],
             [
              0.2222222222222222,
              "#7201a8"
             ],
             [
              0.3333333333333333,
              "#9c179e"
             ],
             [
              0.4444444444444444,
              "#bd3786"
             ],
             [
              0.5555555555555556,
              "#d8576b"
             ],
             [
              0.6666666666666666,
              "#ed7953"
             ],
             [
              0.7777777777777778,
              "#fb9f3a"
             ],
             [
              0.8888888888888888,
              "#fdca26"
             ],
             [
              1,
              "#f0f921"
             ]
            ],
            "type": "surface"
           }
          ],
          "table": [
           {
            "cells": {
             "fill": {
              "color": "#EBF0F8"
             },
             "line": {
              "color": "white"
             }
            },
            "header": {
             "fill": {
              "color": "#C8D4E3"
             },
             "line": {
              "color": "white"
             }
            },
            "type": "table"
           }
          ]
         },
         "layout": {
          "annotationdefaults": {
           "arrowcolor": "#2a3f5f",
           "arrowhead": 0,
           "arrowwidth": 1
          },
          "autotypenumbers": "strict",
          "coloraxis": {
           "colorbar": {
            "outlinewidth": 0,
            "ticks": ""
           }
          },
          "colorscale": {
           "diverging": [
            [
             0,
             "#8e0152"
            ],
            [
             0.1,
             "#c51b7d"
            ],
            [
             0.2,
             "#de77ae"
            ],
            [
             0.3,
             "#f1b6da"
            ],
            [
             0.4,
             "#fde0ef"
            ],
            [
             0.5,
             "#f7f7f7"
            ],
            [
             0.6,
             "#e6f5d0"
            ],
            [
             0.7,
             "#b8e186"
            ],
            [
             0.8,
             "#7fbc41"
            ],
            [
             0.9,
             "#4d9221"
            ],
            [
             1,
             "#276419"
            ]
           ],
           "sequential": [
            [
             0,
             "#0d0887"
            ],
            [
             0.1111111111111111,
             "#46039f"
            ],
            [
             0.2222222222222222,
             "#7201a8"
            ],
            [
             0.3333333333333333,
             "#9c179e"
            ],
            [
             0.4444444444444444,
             "#bd3786"
            ],
            [
             0.5555555555555556,
             "#d8576b"
            ],
            [
             0.6666666666666666,
             "#ed7953"
            ],
            [
             0.7777777777777778,
             "#fb9f3a"
            ],
            [
             0.8888888888888888,
             "#fdca26"
            ],
            [
             1,
             "#f0f921"
            ]
           ],
           "sequentialminus": [
            [
             0,
             "#0d0887"
            ],
            [
             0.1111111111111111,
             "#46039f"
            ],
            [
             0.2222222222222222,
             "#7201a8"
            ],
            [
             0.3333333333333333,
             "#9c179e"
            ],
            [
             0.4444444444444444,
             "#bd3786"
            ],
            [
             0.5555555555555556,
             "#d8576b"
            ],
            [
             0.6666666666666666,
             "#ed7953"
            ],
            [
             0.7777777777777778,
             "#fb9f3a"
            ],
            [
             0.8888888888888888,
             "#fdca26"
            ],
            [
             1,
             "#f0f921"
            ]
           ]
          },
          "colorway": [
           "#636efa",
           "#EF553B",
           "#00cc96",
           "#ab63fa",
           "#FFA15A",
           "#19d3f3",
           "#FF6692",
           "#B6E880",
           "#FF97FF",
           "#FECB52"
          ],
          "font": {
           "color": "#2a3f5f"
          },
          "geo": {
           "bgcolor": "white",
           "lakecolor": "white",
           "landcolor": "#E5ECF6",
           "showlakes": true,
           "showland": true,
           "subunitcolor": "white"
          },
          "hoverlabel": {
           "align": "left"
          },
          "hovermode": "closest",
          "mapbox": {
           "style": "light"
          },
          "paper_bgcolor": "white",
          "plot_bgcolor": "#E5ECF6",
          "polar": {
           "angularaxis": {
            "gridcolor": "white",
            "linecolor": "white",
            "ticks": ""
           },
           "bgcolor": "#E5ECF6",
           "radialaxis": {
            "gridcolor": "white",
            "linecolor": "white",
            "ticks": ""
           }
          },
          "scene": {
           "xaxis": {
            "backgroundcolor": "#E5ECF6",
            "gridcolor": "white",
            "gridwidth": 2,
            "linecolor": "white",
            "showbackground": true,
            "ticks": "",
            "zerolinecolor": "white"
           },
           "yaxis": {
            "backgroundcolor": "#E5ECF6",
            "gridcolor": "white",
            "gridwidth": 2,
            "linecolor": "white",
            "showbackground": true,
            "ticks": "",
            "zerolinecolor": "white"
           },
           "zaxis": {
            "backgroundcolor": "#E5ECF6",
            "gridcolor": "white",
            "gridwidth": 2,
            "linecolor": "white",
            "showbackground": true,
            "ticks": "",
            "zerolinecolor": "white"
           }
          },
          "shapedefaults": {
           "line": {
            "color": "#2a3f5f"
           }
          },
          "ternary": {
           "aaxis": {
            "gridcolor": "white",
            "linecolor": "white",
            "ticks": ""
           },
           "baxis": {
            "gridcolor": "white",
            "linecolor": "white",
            "ticks": ""
           },
           "bgcolor": "#E5ECF6",
           "caxis": {
            "gridcolor": "white",
            "linecolor": "white",
            "ticks": ""
           }
          },
          "title": {
           "x": 0.05
          },
          "xaxis": {
           "automargin": true,
           "gridcolor": "white",
           "linecolor": "white",
           "ticks": "",
           "title": {
            "standoff": 15
           },
           "zerolinecolor": "white",
           "zerolinewidth": 2
          },
          "yaxis": {
           "automargin": true,
           "gridcolor": "white",
           "linecolor": "white",
           "ticks": "",
           "title": {
            "standoff": 15
           },
           "zerolinecolor": "white",
           "zerolinewidth": 2
          }
         }
        },
        "title": {
         "font": {
          "color": "#4D5663"
         },
         "text": "Sensitivity of College Male Diet"
        },
        "xaxis": {
         "gridcolor": "#E1E5ED",
         "showgrid": true,
         "tickfont": {
          "color": "#4D5663"
         },
         "title": {
          "font": {
           "color": "#4D5663"
          },
          "text": "change in log price"
         },
         "zerolinecolor": "#E1E5ED"
        },
        "yaxis": {
         "gridcolor": "#E1E5ED",
         "showgrid": true,
         "tickfont": {
          "color": "#4D5663"
         },
         "title": {
          "font": {
           "color": "#4D5663"
          },
          "text": "change in log cost"
         },
         "zerolinecolor": "#E1E5ED"
        }
       }
      },
      "text/html": [
       "<div>                            <div id=\"276568f8-a610-4855-8b86-8f190c2924fc\" class=\"plotly-graph-div\" style=\"height:525px; width:100%;\"></div>            <script type=\"text/javascript\">                require([\"plotly\"], function(Plotly) {                    window.PLOTLYENV=window.PLOTLYENV || {};\n",
       "                    window.PLOTLYENV.BASE_URL='https://plot.ly';                                    if (document.getElementById(\"276568f8-a610-4855-8b86-8f190c2924fc\")) {                    Plotly.newPlot(                        \"276568f8-a610-4855-8b86-8f190c2924fc\",                        [{\"line\":{\"color\":\"rgba(255, 153, 51, 1.0)\",\"dash\":\"solid\",\"shape\":\"linear\",\"width\":1.3},\"mode\":\"lines\",\"name\":\"Apple\",\"text\":\"\",\"type\":\"scatter\",\"x\":[-0.6931471805599453,-0.5108256237659907,-0.35667494393873245,-0.22314355131420968,-0.10536051565782628,0.0,0.09531017980432495,0.1823215567939546,0.26236426446749106,0.33647223662121284,0.4054651081081644],\"y\":[4.8246961979971546e-11,5.526579194128851e-11,5.6692428527851976e-11,1.0542899886389835e-11,-1.1285417045321084e-12,0.0,4.860778446402046e-12,1.1091572105153652e-11,1.8378853994080876e-11,2.7402524693422664e-11,2.5809576697732873e-11]},{\"line\":{\"color\":\"rgba(55, 128, 191, 1.0)\",\"dash\":\"solid\",\"shape\":\"linear\",\"width\":1.3},\"mode\":\"lines\",\"name\":\"Bananas\",\"text\":\"\",\"type\":\"scatter\",\"x\":[-0.6931471805599453,-0.5108256237659907,-0.35667494393873245,-0.22314355131420968,-0.10536051565782628,0.0,0.09531017980432495,0.1823215567939546,0.26236426446749106,0.33647223662121284,0.4054651081081644],\"y\":[-4.955946764207536e-11,1.222740890614769e-06,-1.7417178810334624e-12,7.313105676319976e-11,5.512812428624259e-11,0.0,2.2640143124261902e-06,1.8343440759901231e-06,1.537596689812146e-06,1.323401029255754e-06,1.1630308993920376e-06]},{\"line\":{\"color\":\"rgba(50, 171, 96, 1.0)\",\"dash\":\"solid\",\"shape\":\"linear\",\"width\":1.3},\"mode\":\"lines\",\"name\":\"Black Beans\",\"text\":\"\",\"type\":\"scatter\",\"x\":[-0.6931471805599453,-0.5108256237659907,-0.35667494393873245,-0.22314355131420968,-0.10536051565782628,0.0,0.09531017980432495,0.1823215567939546,0.26236426446749106,0.33647223662121284,0.4054651081081644],\"y\":[-0.002083179498566191,-0.001666196306755975,-0.0012493868515908492,-0.0008327511918761948,-0.00041628893675774143,0.0,0.0004161157356387013,0.0008338429707065426,0.0012493093016204093,0.0016646820667185853,0.002079911659860696]},{\"line\":{\"color\":\"rgba(128, 0, 128, 1.0)\",\"dash\":\"solid\",\"shape\":\"linear\",\"width\":1.3},\"mode\":\"lines\",\"name\":\"Broccoli\",\"text\":\"\",\"type\":\"scatter\",\"x\":[-0.6931471805599453,-0.5108256237659907,-0.35667494393873245,-0.22314355131420968,-0.10536051565782628,0.0,0.09531017980432495,0.1823215567939546,0.26236426446749106,0.33647223662121284,0.4054651081081644],\"y\":[-0.0725164538121631,-0.0575863648996213,-0.042875908418153155,-0.028378716040122237,-0.014088692457740193,0.0,0.01389295568508304,0.027595538967621663,0.04111289667110109,0.05444996967922312,0.06761150377801581]},{\"line\":{\"color\":\"rgba(219, 64, 82, 1.0)\",\"dash\":\"solid\",\"shape\":\"linear\",\"width\":1.3},\"mode\":\"lines\",\"name\":\"Butter \",\"text\":\"\",\"type\":\"scatter\",\"x\":[-0.6931471805599453,-0.5108256237659907,-0.35667494393873245,-0.22314355131420968,-0.10536051565782628,0.0,0.09531017980432495,0.1823215567939546,0.26236426446749106,0.33647223662121284,0.4054651081081644],\"y\":[5.4941162728906e-11,3.740430187734168e-11,2.3135493520686162e-11,1.2325473974707604e-11,4.71156447189314e-12,0.0,-2.355671213652432e-12,-2.7392532686614005e-12,-1.7097434579242028e-12,4.2055248172792084e-13,8.726352973549923e-13]},{\"line\":{\"color\":\"rgba(0, 128, 128, 1.0)\",\"dash\":\"solid\",\"shape\":\"linear\",\"width\":1.3},\"mode\":\"lines\",\"name\":\"Carrots\",\"text\":\"\",\"type\":\"scatter\",\"x\":[-0.6931471805599453,-0.5108256237659907,-0.35667494393873245,-0.22314355131420968,-0.10536051565782628,0.0,0.09531017980432495,0.1823215567939546,0.26236426446749106,0.33647223662121284,0.4054651081081644],\"y\":[1.1847411939678165e-10,1.1561063217200359e-10,1.7563817065869508e-10,1.08771436296475e-10,3.008260307479076e-11,0.0,-6.107669925389026e-12,1.8367529719381723e-12,1.9556800623185824e-11,4.4921177887559355e-11,7.351741437574099e-11]},{\"line\":{\"color\":\"rgba(255, 255, 51, 1.0)\",\"dash\":\"solid\",\"shape\":\"linear\",\"width\":1.3},\"mode\":\"lines\",\"name\":\"Chicken Breast\",\"text\":\"\",\"type\":\"scatter\",\"x\":[-0.6931471805599453,-0.5108256237659907,-0.35667494393873245,-0.22314355131420968,-0.10536051565782628,0.0,0.09531017980432495,0.1823215567939546,0.26236426446749106,0.33647223662121284,0.4054651081081644],\"y\":[4.4520831464897425e-11,3.0411451134674787e-11,2.0321966331742224e-11,1.2415179995096207e-11,5.777822664737548e-12,0.0,-5.21482856898042e-12,-9.90185711207587e-12,-1.4361178912839371e-11,-1.8472445795396283e-11,-2.239730623213134e-11]},{\"line\":{\"color\":\"rgba(128, 128, 0, 1.0)\",\"dash\":\"solid\",\"shape\":\"linear\",\"width\":1.3},\"mode\":\"lines\",\"name\":\"Eggs\",\"text\":\"\",\"type\":\"scatter\",\"x\":[-0.6931471805599453,-0.5108256237659907,-0.35667494393873245,-0.22314355131420968,-0.10536051565782628,0.0,0.09531017980432495,0.1823215567939546,0.26236426446749106,0.33647223662121284,0.4054651081081644],\"y\":[1.3141931986229352e-10,1.1848833025149517e-10,9.359446550677984e-11,6.365108440117882e-11,3.185740560190157e-11,0.0,2.3110016786317882e-06,1.7322232342412887e-06,1.1937598880613337e-06,7.129613276154877e-07,3.458018706341877e-07]},{\"line\":{\"color\":\"rgba(251, 128, 114, 1.0)\",\"dash\":\"solid\",\"shape\":\"linear\",\"width\":1.3},\"mode\":\"lines\",\"name\":\"Ground Beef\",\"text\":\"\",\"type\":\"scatter\",\"x\":[-0.6931471805599453,-0.5108256237659907,-0.35667494393873245,-0.22314355131420968,-0.10536051565782628,0.0,0.09531017980432495,0.1823215567939546,0.26236426446749106,0.33647223662121284,0.4054651081081644],\"y\":[-0.03293415924033439,-0.026259956599820427,-0.019629930799376964,-0.013043421165156046,-0.006499633308868436,0.0,0.006458658075737103,0.012875907425981548,0.01841303858082289,0.023903211344539065,0.029363540953451693]},{\"line\":{\"color\":\"rgba(128, 177, 211, 1.0)\",\"dash\":\"solid\",\"shape\":\"linear\",\"width\":1.3},\"mode\":\"lines\",\"name\":\"Lentils\",\"text\":\"\",\"type\":\"scatter\",\"x\":[-0.6931471805599453,-0.5108256237659907,-0.35667494393873245,-0.22314355131420968,-0.10536051565782628,0.0,0.09531017980432495,0.1823215567939546,0.26236426446749106,0.33647223662121284,0.4054651081081644],\"y\":[-0.0449884727915092,-0.03373312987598566,-0.0238680795332295,-0.014200445370281542,-0.007073072683409136,0.0,0.007025450952959821,0.014001613336315492,0.02092958334468215,0.027699788724792302,0.03438072142221494]},{\"line\":{\"color\":\"rgba(128, 177, 211, 0.8999999999999999)\",\"dash\":\"solid\",\"shape\":\"linear\",\"width\":1.3},\"mode\":\"lines\",\"name\":\"Oatmeal\",\"text\":\"\",\"type\":\"scatter\",\"x\":[-0.6931471805599453,-0.5108256237659907,-0.35667494393873245,-0.22314355131420968,-0.10536051565782628,0.0,0.09531017980432495,0.1823215567939546,0.26236426446749106,0.33647223662121284,0.4054651081081644],\"y\":[5.318478990404396e-11,3.5375702366820415e-11,2.3080426458666027e-11,1.3935519404997865e-11,6.510569860985649e-12,0.0,-6.192379942168446e-12,-1.2359890888623326e-11,-1.855837705750386e-11,2.4312935507478776e-06,2.3053475651821526e-06]},{\"line\":{\"color\":\"rgba(255, 153, 51, 0.8999999999999999)\",\"dash\":\"solid\",\"shape\":\"linear\",\"width\":1.3},\"mode\":\"lines\",\"name\":\"Olive oil \",\"text\":\"\",\"type\":\"scatter\",\"x\":[-0.6931471805599453,-0.5108256237659907,-0.35667494393873245,-0.22314355131420968,-0.10536051565782628,0.0,0.09531017980432495,0.1823215567939546,0.26236426446749106,0.33647223662121284,0.4054651081081644],\"y\":[0.0,0.0,0.0,0.0,0.0,0.0,0.0,0.0,0.0,0.0,0.0]},{\"line\":{\"color\":\"rgba(55, 128, 191, 0.8999999999999999)\",\"dash\":\"solid\",\"shape\":\"linear\",\"width\":1.3},\"mode\":\"lines\",\"name\":\"Pasta\",\"text\":\"\",\"type\":\"scatter\",\"x\":[-0.6931471805599453,-0.5108256237659907,-0.35667494393873245,-0.22314355131420968,-0.10536051565782628,0.0,0.09531017980432495,0.1823215567939546,0.26236426446749106,0.33647223662121284,0.4054651081081644],\"y\":[8.127172265199135e-10,3.7966585423885573e-10,1.9345902655747942e-10,9.678036149794092e-11,3.914357726765288e-11,0.0,-2.8263946739004198e-11,4.147548563797088e-07,3.971649011449737e-07,6.202438686490953e-07,7.068528460126502e-07]},{\"line\":{\"color\":\"rgba(50, 171, 96, 0.8999999999999999)\",\"dash\":\"solid\",\"shape\":\"linear\",\"width\":1.3},\"mode\":\"lines\",\"name\":\"Peanut Butter\",\"text\":\"\",\"type\":\"scatter\",\"x\":[-0.6931471805599453,-0.5108256237659907,-0.35667494393873245,-0.22314355131420968,-0.10536051565782628,0.0,0.09531017980432495,0.1823215567939546,0.26236426446749106,0.33647223662121284,0.4054651081081644],\"y\":[-0.09859480876204907,-0.07808271349200215,-0.05798272246772226,-0.038280078566529034,-0.018956879890981437,0.0,0.018606211655104725,0.036869732365297114,0.05480589280455716,0.0724262630722545,0.08974175997890095]},{\"line\":{\"color\":\"rgba(128, 0, 128, 0.8999999999999999)\",\"dash\":\"solid\",\"shape\":\"linear\",\"width\":1.3},\"mode\":\"lines\",\"name\":\"Potatoes\",\"text\":\"\",\"type\":\"scatter\",\"x\":[-0.6931471805599453,-0.5108256237659907,-0.35667494393873245,-0.22314355131420968,-0.10536051565782628,0.0,0.09531017980432495,0.1823215567939546,0.26236426446749106,0.33647223662121284,0.4054651081081644],\"y\":[9.531198052571272e-11,5.4466209318997346e-11,3.108557855520645e-11,1.653432946100084e-11,6.8083316761881336e-12,0.0,-4.965916566858193e-12,-8.681722008001486e-12,-1.1581735570654238e-11,-1.3913759033909108e-11,-1.5771828287949348e-11]},{\"line\":{\"color\":\"rgba(219, 64, 82, 0.8999999999999999)\",\"dash\":\"solid\",\"shape\":\"linear\",\"width\":1.3},\"mode\":\"lines\",\"name\":\"Quinoa\",\"text\":\"\",\"type\":\"scatter\",\"x\":[-0.6931471805599453,-0.5108256237659907,-0.35667494393873245,-0.22314355131420968,-0.10536051565782628,0.0,0.09531017980432495,0.1823215567939546,0.26236426446749106,0.33647223662121284,0.4054651081081644],\"y\":[-0.01577327652564155,-0.006794316454216171,-0.0015952426464579345,2.9763116371600754e-09,3.4652281043999995e-11,0.0,-1.4083623156679135e-11,-2.291788980838987e-11,-2.935740539598902e-11,2.242368832050807e-06,2.1601879057014358e-06]},{\"line\":{\"color\":\"rgba(0, 128, 128, 0.8999999999999999)\",\"dash\":\"solid\",\"shape\":\"linear\",\"width\":1.3},\"mode\":\"lines\",\"name\":\"Red Bell Pepper\",\"text\":\"\",\"type\":\"scatter\",\"x\":[-0.6931471805599453,-0.5108256237659907,-0.35667494393873245,-0.22314355131420968,-0.10536051565782628,0.0,0.09531017980432495,0.1823215567939546,0.26236426446749106,0.33647223662121284,0.4054651081081644],\"y\":[1.8396617562474552e-11,1.3263390385898936e-11,9.52549150663355e-12,6.366462912390232e-12,3.235856027567246e-12,0.0,-3.4195979381537915e-12,-6.971978550065362e-12,-1.0669909400519453e-11,-1.4455880936841262e-11,-1.8290924330866732e-11]},{\"line\":{\"color\":\"rgba(255, 255, 51, 0.8999999999999999)\",\"dash\":\"solid\",\"shape\":\"linear\",\"width\":1.3},\"mode\":\"lines\",\"name\":\"Rice\",\"text\":\"\",\"type\":\"scatter\",\"x\":[-0.6931471805599453,-0.5108256237659907,-0.35667494393873245,-0.22314355131420968,-0.10536051565782628,0.0,0.09531017980432495,0.1823215567939546,0.26236426446749106,0.33647223662121284,0.4054651081081644],\"y\":[-0.002636268241266308,-0.0017555643110039236,-0.0008757084332875584,-0.00038969140519042614,-0.00019342255084407343,0.0,0.0001949035595671263,0.0003895410825501401,0.0005205564418318904,0.0005207662106387725,0.0005206232664142224]},{\"line\":{\"color\":\"rgba(128, 128, 0, 0.8999999999999999)\",\"dash\":\"solid\",\"shape\":\"linear\",\"width\":1.3},\"mode\":\"lines\",\"name\":\"Salt\",\"text\":\"\",\"type\":\"scatter\",\"x\":[-0.6931471805599453,-0.5108256237659907,-0.35667494393873245,-0.22314355131420968,-0.10536051565782628,0.0,0.09531017980432495,0.1823215567939546,0.26236426446749106,0.33647223662121284,0.4054651081081644],\"y\":[1.584418597369493e-07,1.096470485357307e-07,6.335261514551328e-08,3.667618040605592e-07,4.792415737194702e-07,0.0,3.959448323980164e-10,1.0620697649033033e-09,1.487735933340053e-09,6.803422609100962e-07,-3.716427166080786e-11]},{\"line\":{\"color\":\"rgba(251, 128, 114, 0.8999999999999999)\",\"dash\":\"solid\",\"shape\":\"linear\",\"width\":1.3},\"mode\":\"lines\",\"name\":\"Spinach\",\"text\":\"\",\"type\":\"scatter\",\"x\":[-0.6931471805599453,-0.5108256237659907,-0.35667494393873245,-0.22314355131420968,-0.10536051565782628,0.0,0.09531017980432495,0.1823215567939546,0.26236426446749106,0.33647223662121284,0.4054651081081644],\"y\":[-0.23519944093364448,-0.1835256150896251,-0.13439106844520943,-0.08755845791978109,-0.042820965393535707,0.0,0.04097079239014953,0.07870246545255462,0.10971460061406026,0.13464632960384637,0.158971615693121]},{\"line\":{\"color\":\"rgba(251, 128, 114, 0.7999999999999998)\",\"dash\":\"solid\",\"shape\":\"linear\",\"width\":1.3},\"mode\":\"lines\",\"name\":\"Strawberries\",\"text\":\"\",\"type\":\"scatter\",\"x\":[-0.6931471805599453,-0.5108256237659907,-0.35667494393873245,-0.22314355131420968,-0.10536051565782628,0.0,0.09531017980432495,0.1823215567939546,0.26236426446749106,0.33647223662121284,0.4054651081081644],\"y\":[4.66879868088669e-11,3.407096826832624e-11,2.4027446698648978e-11,1.534261606638719e-11,7.397193968445133e-12,0.0,-7.009171021390565e-12,-1.371203151033193e-11,-2.0160095815161583e-11,-2.6346924642331595e-11,2.2826609719962676e-06]},{\"line\":{\"color\":\"rgba(128, 177, 211, 0.7999999999999998)\",\"dash\":\"solid\",\"shape\":\"linear\",\"width\":1.3},\"mode\":\"lines\",\"name\":\"String Cheese\",\"text\":\"\",\"type\":\"scatter\",\"x\":[-0.6931471805599453,-0.5108256237659907,-0.35667494393873245,-0.22314355131420968,-0.10536051565782628,0.0,0.09531017980432495,0.1823215567939546,0.26236426446749106,0.33647223662121284,0.4054651081081644],\"y\":[-0.16989834046574273,-0.10551403244134251,-0.06856082124813637,-0.034275599986182216,-0.010359448873504455,0.0,0.00884015753602685,0.017602746992276094,0.026289272437421823,0.034805484627736846,0.04319614892868079]},{\"line\":{\"color\":\"rgba(255, 153, 51, 0.7999999999999998)\",\"dash\":\"solid\",\"shape\":\"linear\",\"width\":1.3},\"mode\":\"lines\",\"name\":\"Whole-Grain Bread\",\"text\":\"\",\"type\":\"scatter\",\"x\":[-0.6931471805599453,-0.5108256237659907,-0.35667494393873245,-0.22314355131420968,-0.10536051565782628,0.0,0.09531017980432495,0.1823215567939546,0.26236426446749106,0.33647223662121284,0.4054651081081644],\"y\":[-0.014209314884942054,-0.01067327282928666,-0.00786305723713383,-0.005060702785617457,-0.002297124151255127,0.0,0.002235217989368229,0.0027108771869919284,0.003186443034041374,0.0032116196232376873,0.0032116183105245053]},{\"line\":{\"color\":\"rgba(55, 128, 191, 0.7999999999999998)\",\"dash\":\"solid\",\"shape\":\"linear\",\"width\":1.3},\"mode\":\"lines\",\"name\":\"Yogurt\",\"text\":\"\",\"type\":\"scatter\",\"x\":[-0.6931471805599453,-0.5108256237659907,-0.35667494393873245,-0.22314355131420968,-0.10536051565782628,0.0,0.09531017980432495,0.1823215567939546,0.26236426446749106,0.33647223662121284,0.4054651081081644],\"y\":[4.350060195144363e-08,1.4086687371135751e-10,1.5038681410152695e-10,6.257061535368181e-11,2.3358204259420792e-11,0.0,-1.630950929878394e-11,-2.8801072638333174e-11,2.151870001062156e-06,1.9817663903865e-06,1.8340335558394283e-06]}],                        {\"legend\":{\"bgcolor\":\"#F5F6F9\",\"font\":{\"color\":\"#4D5663\"}},\"paper_bgcolor\":\"#F5F6F9\",\"plot_bgcolor\":\"#F5F6F9\",\"template\":{\"data\":{\"bar\":[{\"error_x\":{\"color\":\"#2a3f5f\"},\"error_y\":{\"color\":\"#2a3f5f\"},\"marker\":{\"line\":{\"color\":\"#E5ECF6\",\"width\":0.5},\"pattern\":{\"fillmode\":\"overlay\",\"size\":10,\"solidity\":0.2}},\"type\":\"bar\"}],\"barpolar\":[{\"marker\":{\"line\":{\"color\":\"#E5ECF6\",\"width\":0.5},\"pattern\":{\"fillmode\":\"overlay\",\"size\":10,\"solidity\":0.2}},\"type\":\"barpolar\"}],\"carpet\":[{\"aaxis\":{\"endlinecolor\":\"#2a3f5f\",\"gridcolor\":\"white\",\"linecolor\":\"white\",\"minorgridcolor\":\"white\",\"startlinecolor\":\"#2a3f5f\"},\"baxis\":{\"endlinecolor\":\"#2a3f5f\",\"gridcolor\":\"white\",\"linecolor\":\"white\",\"minorgridcolor\":\"white\",\"startlinecolor\":\"#2a3f5f\"},\"type\":\"carpet\"}],\"choropleth\":[{\"colorbar\":{\"outlinewidth\":0,\"ticks\":\"\"},\"type\":\"choropleth\"}],\"contour\":[{\"colorbar\":{\"outlinewidth\":0,\"ticks\":\"\"},\"colorscale\":[[0.0,\"#0d0887\"],[0.1111111111111111,\"#46039f\"],[0.2222222222222222,\"#7201a8\"],[0.3333333333333333,\"#9c179e\"],[0.4444444444444444,\"#bd3786\"],[0.5555555555555556,\"#d8576b\"],[0.6666666666666666,\"#ed7953\"],[0.7777777777777778,\"#fb9f3a\"],[0.8888888888888888,\"#fdca26\"],[1.0,\"#f0f921\"]],\"type\":\"contour\"}],\"contourcarpet\":[{\"colorbar\":{\"outlinewidth\":0,\"ticks\":\"\"},\"type\":\"contourcarpet\"}],\"heatmap\":[{\"colorbar\":{\"outlinewidth\":0,\"ticks\":\"\"},\"colorscale\":[[0.0,\"#0d0887\"],[0.1111111111111111,\"#46039f\"],[0.2222222222222222,\"#7201a8\"],[0.3333333333333333,\"#9c179e\"],[0.4444444444444444,\"#bd3786\"],[0.5555555555555556,\"#d8576b\"],[0.6666666666666666,\"#ed7953\"],[0.7777777777777778,\"#fb9f3a\"],[0.8888888888888888,\"#fdca26\"],[1.0,\"#f0f921\"]],\"type\":\"heatmap\"}],\"heatmapgl\":[{\"colorbar\":{\"outlinewidth\":0,\"ticks\":\"\"},\"colorscale\":[[0.0,\"#0d0887\"],[0.1111111111111111,\"#46039f\"],[0.2222222222222222,\"#7201a8\"],[0.3333333333333333,\"#9c179e\"],[0.4444444444444444,\"#bd3786\"],[0.5555555555555556,\"#d8576b\"],[0.6666666666666666,\"#ed7953\"],[0.7777777777777778,\"#fb9f3a\"],[0.8888888888888888,\"#fdca26\"],[1.0,\"#f0f921\"]],\"type\":\"heatmapgl\"}],\"histogram\":[{\"marker\":{\"pattern\":{\"fillmode\":\"overlay\",\"size\":10,\"solidity\":0.2}},\"type\":\"histogram\"}],\"histogram2d\":[{\"colorbar\":{\"outlinewidth\":0,\"ticks\":\"\"},\"colorscale\":[[0.0,\"#0d0887\"],[0.1111111111111111,\"#46039f\"],[0.2222222222222222,\"#7201a8\"],[0.3333333333333333,\"#9c179e\"],[0.4444444444444444,\"#bd3786\"],[0.5555555555555556,\"#d8576b\"],[0.6666666666666666,\"#ed7953\"],[0.7777777777777778,\"#fb9f3a\"],[0.8888888888888888,\"#fdca26\"],[1.0,\"#f0f921\"]],\"type\":\"histogram2d\"}],\"histogram2dcontour\":[{\"colorbar\":{\"outlinewidth\":0,\"ticks\":\"\"},\"colorscale\":[[0.0,\"#0d0887\"],[0.1111111111111111,\"#46039f\"],[0.2222222222222222,\"#7201a8\"],[0.3333333333333333,\"#9c179e\"],[0.4444444444444444,\"#bd3786\"],[0.5555555555555556,\"#d8576b\"],[0.6666666666666666,\"#ed7953\"],[0.7777777777777778,\"#fb9f3a\"],[0.8888888888888888,\"#fdca26\"],[1.0,\"#f0f921\"]],\"type\":\"histogram2dcontour\"}],\"mesh3d\":[{\"colorbar\":{\"outlinewidth\":0,\"ticks\":\"\"},\"type\":\"mesh3d\"}],\"parcoords\":[{\"line\":{\"colorbar\":{\"outlinewidth\":0,\"ticks\":\"\"}},\"type\":\"parcoords\"}],\"pie\":[{\"automargin\":true,\"type\":\"pie\"}],\"scatter\":[{\"marker\":{\"colorbar\":{\"outlinewidth\":0,\"ticks\":\"\"}},\"type\":\"scatter\"}],\"scatter3d\":[{\"line\":{\"colorbar\":{\"outlinewidth\":0,\"ticks\":\"\"}},\"marker\":{\"colorbar\":{\"outlinewidth\":0,\"ticks\":\"\"}},\"type\":\"scatter3d\"}],\"scattercarpet\":[{\"marker\":{\"colorbar\":{\"outlinewidth\":0,\"ticks\":\"\"}},\"type\":\"scattercarpet\"}],\"scattergeo\":[{\"marker\":{\"colorbar\":{\"outlinewidth\":0,\"ticks\":\"\"}},\"type\":\"scattergeo\"}],\"scattergl\":[{\"marker\":{\"colorbar\":{\"outlinewidth\":0,\"ticks\":\"\"}},\"type\":\"scattergl\"}],\"scattermapbox\":[{\"marker\":{\"colorbar\":{\"outlinewidth\":0,\"ticks\":\"\"}},\"type\":\"scattermapbox\"}],\"scatterpolar\":[{\"marker\":{\"colorbar\":{\"outlinewidth\":0,\"ticks\":\"\"}},\"type\":\"scatterpolar\"}],\"scatterpolargl\":[{\"marker\":{\"colorbar\":{\"outlinewidth\":0,\"ticks\":\"\"}},\"type\":\"scatterpolargl\"}],\"scatterternary\":[{\"marker\":{\"colorbar\":{\"outlinewidth\":0,\"ticks\":\"\"}},\"type\":\"scatterternary\"}],\"surface\":[{\"colorbar\":{\"outlinewidth\":0,\"ticks\":\"\"},\"colorscale\":[[0.0,\"#0d0887\"],[0.1111111111111111,\"#46039f\"],[0.2222222222222222,\"#7201a8\"],[0.3333333333333333,\"#9c179e\"],[0.4444444444444444,\"#bd3786\"],[0.5555555555555556,\"#d8576b\"],[0.6666666666666666,\"#ed7953\"],[0.7777777777777778,\"#fb9f3a\"],[0.8888888888888888,\"#fdca26\"],[1.0,\"#f0f921\"]],\"type\":\"surface\"}],\"table\":[{\"cells\":{\"fill\":{\"color\":\"#EBF0F8\"},\"line\":{\"color\":\"white\"}},\"header\":{\"fill\":{\"color\":\"#C8D4E3\"},\"line\":{\"color\":\"white\"}},\"type\":\"table\"}]},\"layout\":{\"annotationdefaults\":{\"arrowcolor\":\"#2a3f5f\",\"arrowhead\":0,\"arrowwidth\":1},\"autotypenumbers\":\"strict\",\"coloraxis\":{\"colorbar\":{\"outlinewidth\":0,\"ticks\":\"\"}},\"colorscale\":{\"diverging\":[[0,\"#8e0152\"],[0.1,\"#c51b7d\"],[0.2,\"#de77ae\"],[0.3,\"#f1b6da\"],[0.4,\"#fde0ef\"],[0.5,\"#f7f7f7\"],[0.6,\"#e6f5d0\"],[0.7,\"#b8e186\"],[0.8,\"#7fbc41\"],[0.9,\"#4d9221\"],[1,\"#276419\"]],\"sequential\":[[0.0,\"#0d0887\"],[0.1111111111111111,\"#46039f\"],[0.2222222222222222,\"#7201a8\"],[0.3333333333333333,\"#9c179e\"],[0.4444444444444444,\"#bd3786\"],[0.5555555555555556,\"#d8576b\"],[0.6666666666666666,\"#ed7953\"],[0.7777777777777778,\"#fb9f3a\"],[0.8888888888888888,\"#fdca26\"],[1.0,\"#f0f921\"]],\"sequentialminus\":[[0.0,\"#0d0887\"],[0.1111111111111111,\"#46039f\"],[0.2222222222222222,\"#7201a8\"],[0.3333333333333333,\"#9c179e\"],[0.4444444444444444,\"#bd3786\"],[0.5555555555555556,\"#d8576b\"],[0.6666666666666666,\"#ed7953\"],[0.7777777777777778,\"#fb9f3a\"],[0.8888888888888888,\"#fdca26\"],[1.0,\"#f0f921\"]]},\"colorway\":[\"#636efa\",\"#EF553B\",\"#00cc96\",\"#ab63fa\",\"#FFA15A\",\"#19d3f3\",\"#FF6692\",\"#B6E880\",\"#FF97FF\",\"#FECB52\"],\"font\":{\"color\":\"#2a3f5f\"},\"geo\":{\"bgcolor\":\"white\",\"lakecolor\":\"white\",\"landcolor\":\"#E5ECF6\",\"showlakes\":true,\"showland\":true,\"subunitcolor\":\"white\"},\"hoverlabel\":{\"align\":\"left\"},\"hovermode\":\"closest\",\"mapbox\":{\"style\":\"light\"},\"paper_bgcolor\":\"white\",\"plot_bgcolor\":\"#E5ECF6\",\"polar\":{\"angularaxis\":{\"gridcolor\":\"white\",\"linecolor\":\"white\",\"ticks\":\"\"},\"bgcolor\":\"#E5ECF6\",\"radialaxis\":{\"gridcolor\":\"white\",\"linecolor\":\"white\",\"ticks\":\"\"}},\"scene\":{\"xaxis\":{\"backgroundcolor\":\"#E5ECF6\",\"gridcolor\":\"white\",\"gridwidth\":2,\"linecolor\":\"white\",\"showbackground\":true,\"ticks\":\"\",\"zerolinecolor\":\"white\"},\"yaxis\":{\"backgroundcolor\":\"#E5ECF6\",\"gridcolor\":\"white\",\"gridwidth\":2,\"linecolor\":\"white\",\"showbackground\":true,\"ticks\":\"\",\"zerolinecolor\":\"white\"},\"zaxis\":{\"backgroundcolor\":\"#E5ECF6\",\"gridcolor\":\"white\",\"gridwidth\":2,\"linecolor\":\"white\",\"showbackground\":true,\"ticks\":\"\",\"zerolinecolor\":\"white\"}},\"shapedefaults\":{\"line\":{\"color\":\"#2a3f5f\"}},\"ternary\":{\"aaxis\":{\"gridcolor\":\"white\",\"linecolor\":\"white\",\"ticks\":\"\"},\"baxis\":{\"gridcolor\":\"white\",\"linecolor\":\"white\",\"ticks\":\"\"},\"bgcolor\":\"#E5ECF6\",\"caxis\":{\"gridcolor\":\"white\",\"linecolor\":\"white\",\"ticks\":\"\"}},\"title\":{\"x\":0.05},\"xaxis\":{\"automargin\":true,\"gridcolor\":\"white\",\"linecolor\":\"white\",\"ticks\":\"\",\"title\":{\"standoff\":15},\"zerolinecolor\":\"white\",\"zerolinewidth\":2},\"yaxis\":{\"automargin\":true,\"gridcolor\":\"white\",\"linecolor\":\"white\",\"ticks\":\"\",\"title\":{\"standoff\":15},\"zerolinecolor\":\"white\",\"zerolinewidth\":2}}},\"title\":{\"font\":{\"color\":\"#4D5663\"},\"text\":\"Sensitivity of College Male Diet\"},\"xaxis\":{\"gridcolor\":\"#E1E5ED\",\"showgrid\":true,\"tickfont\":{\"color\":\"#4D5663\"},\"title\":{\"font\":{\"color\":\"#4D5663\"},\"text\":\"change in log price\"},\"zerolinecolor\":\"#E1E5ED\"},\"yaxis\":{\"gridcolor\":\"#E1E5ED\",\"showgrid\":true,\"tickfont\":{\"color\":\"#4D5663\"},\"title\":{\"font\":{\"color\":\"#4D5663\"},\"text\":\"change in log cost\"},\"zerolinecolor\":\"#E1E5ED\"}},                        {\"showLink\": true, \"linkText\": \"Export to plot.ly\", \"plotlyServerURL\": \"https://plot.ly\", \"responsive\": true}                    ).then(function(){\n",
       "                            \n",
       "var gd = document.getElementById('276568f8-a610-4855-8b86-8f190c2924fc');\n",
       "var x = new MutationObserver(function (mutations, observer) {{\n",
       "        var display = window.getComputedStyle(gd).display;\n",
       "        if (!display || display === 'none') {{\n",
       "            console.log([gd, 'removed!']);\n",
       "            Plotly.purge(gd);\n",
       "            observer.disconnect();\n",
       "        }}\n",
       "}});\n",
       "\n",
       "// Listen for the removal of the full notebook cells\n",
       "var notebookContainer = gd.closest('#notebook-container');\n",
       "if (notebookContainer) {{\n",
       "    x.observe(notebookContainer, {childList: true});\n",
       "}}\n",
       "\n",
       "// Listen for the clearing of the current output cell\n",
       "var outputEl = gd.closest('.output');\n",
       "if (outputEl) {{\n",
       "    x.observe(outputEl, {childList: true});\n",
       "}}\n",
       "\n",
       "                        })                };                });            </script>        </div>"
      ]
     },
     "metadata": {},
     "output_type": "display_data"
    }
   ],
   "source": [
    "#Sensitization for Regular Male \n",
    "import cufflinks as cf\n",
    "cf.go_offline()\n",
    "\n",
    "scale = [.5,.6,.7,.8,.9,1.,1.1,1.2,1.3,1.4,1.5]\n",
    "\n",
    "cost0 = solve_subsistence_problem(D,Prices,bmin_reg.iloc[:,0],bmax_reg.iloc[:,0],tol=tol).fun\n",
    "\n",
    "Price_response={}\n",
    "for s in scale:\n",
    "    cost = {}\n",
    "    for i,p in enumerate(Prices):\n",
    "        my_p = Prices.copy()\n",
    "        my_p[i] = p*s\n",
    "        result = solve_subsistence_problem(D,my_p,bmin_reg.iloc[:,0],bmax_reg.iloc[:,0],tol=tol)\n",
    "        cost[Prices.index[i]] = np.log(result.fun/cost0)\n",
    "    Price_response[np.log(s)] = cost\n",
    "\n",
    "Price_response = pd.DataFrame(Price_response).T\n",
    "Price_response.iplot(xTitle='change in log price',yTitle='change in log cost', title = \"Sensitivity of College Male Diet\")"
   ]
  },
  {
   "cell_type": "code",
   "execution_count": 26,
   "id": "70773841",
   "metadata": {},
   "outputs": [
    {
     "data": {
      "application/vnd.plotly.v1+json": {
       "config": {
        "linkText": "Export to plot.ly",
        "plotlyServerURL": "https://plot.ly",
        "showLink": true
       },
       "data": [
        {
         "line": {
          "color": "rgba(255, 153, 51, 1.0)",
          "dash": "solid",
          "shape": "linear",
          "width": 1.3
         },
         "mode": "lines",
         "name": "Apple",
         "text": "",
         "type": "scatter",
         "x": [
          -0.6931471805599453,
          -0.5108256237659907,
          -0.35667494393873245,
          -0.22314355131420968,
          -0.10536051565782628,
          0,
          0.09531017980432495,
          0.1823215567939546,
          0.26236426446749106,
          0.33647223662121284,
          0.4054651081081644
         ],
         "y": [
          -6.517220097136719e-11,
          -5.075728726340352e-11,
          -3.704048179355756e-11,
          -2.4002355658869165e-11,
          -1.1658007892446874e-11,
          0,
          1.0970113706261001e-11,
          2.125011278030956e-11,
          3.085709465674567e-11,
          3.986233565376682e-11,
          4.831623989670481e-11
         ]
        },
        {
         "line": {
          "color": "rgba(55, 128, 191, 1.0)",
          "dash": "solid",
          "shape": "linear",
          "width": 1.3
         },
         "mode": "lines",
         "name": "Bananas",
         "text": "",
         "type": "scatter",
         "x": [
          -0.6931471805599453,
          -0.5108256237659907,
          -0.35667494393873245,
          -0.22314355131420968,
          -0.10536051565782628,
          0,
          0.09531017980432495,
          0.1823215567939546,
          0.26236426446749106,
          0.33647223662121284,
          0.4054651081081644
         ],
         "y": [
          6.4229834577883864e-09,
          2.1427448681301946e-09,
          2.1319568330683277e-10,
          -1.0833467457037128e-10,
          -4.538291964553972e-11,
          0,
          3.4015235072491955e-11,
          6.005484998003545e-11,
          8.02462540828718e-11,
          9.60855839291975e-11,
          1.085993517276768e-10
         ]
        },
        {
         "line": {
          "color": "rgba(50, 171, 96, 1.0)",
          "dash": "solid",
          "shape": "linear",
          "width": 1.3
         },
         "mode": "lines",
         "name": "Black Beans",
         "text": "",
         "type": "scatter",
         "x": [
          -0.6931471805599453,
          -0.5108256237659907,
          -0.35667494393873245,
          -0.22314355131420968,
          -0.10536051565782628,
          0,
          0.09531017980432495,
          0.1823215567939546,
          0.26236426446749106,
          0.33647223662121284,
          0.4054651081081644
         ],
         "y": [
          -2.815502276162233e-10,
          3.440905337844559e-10,
          4.6399861719841325e-10,
          3.6995384526767995e-10,
          1.9578827446268968e-10,
          0,
          -1.9269030817250695e-10,
          -3.7260261549767994e-10,
          -5.368026025129584e-10,
          -6.851772485066182e-10,
          -8.190005343934151e-10
         ]
        },
        {
         "line": {
          "color": "rgba(128, 0, 128, 1.0)",
          "dash": "solid",
          "shape": "linear",
          "width": 1.3
         },
         "mode": "lines",
         "name": "Broccoli",
         "text": "",
         "type": "scatter",
         "x": [
          -0.6931471805599453,
          -0.5108256237659907,
          -0.35667494393873245,
          -0.22314355131420968,
          -0.10536051565782628,
          0,
          0.09531017980432495,
          0.1823215567939546,
          0.26236426446749106,
          0.33647223662121284,
          0.4054651081081644
         ],
         "y": [
          -0.052353682454064195,
          -0.04166137575080416,
          -0.031082186001895468,
          -0.02061374485445245,
          -0.010253757570527969,
          0,
          0.010149684284780964,
          0.02019738670999148,
          0.030145136286432315,
          0.0399949020684236,
          0.04974859549275044
         ]
        },
        {
         "line": {
          "color": "rgba(219, 64, 82, 1.0)",
          "dash": "solid",
          "shape": "linear",
          "width": 1.3
         },
         "mode": "lines",
         "name": "Butter ",
         "text": "",
         "type": "scatter",
         "x": [
          -0.6931471805599453,
          -0.5108256237659907,
          -0.35667494393873245,
          -0.22314355131420968,
          -0.10536051565782628,
          0,
          0.09531017980432495,
          0.1823215567939546,
          0.26236426446749106,
          0.33647223662121284,
          0.4054651081081644
         ],
         "y": [
          -1.0757785779094158e-09,
          -8.593732396062769e-10,
          -6.393776621306345e-10,
          -4.210606308950263e-10,
          -2.074710403692064e-10,
          0,
          2.0114754304609659e-10,
          3.964684135762222e-10,
          5.869400519440977e-10,
          7.736988824396219e-10,
          9.580816135852438e-10
         ]
        },
        {
         "line": {
          "color": "rgba(0, 128, 128, 1.0)",
          "dash": "solid",
          "shape": "linear",
          "width": 1.3
         },
         "mode": "lines",
         "name": "Carrots",
         "text": "",
         "type": "scatter",
         "x": [
          -0.6931471805599453,
          -0.5108256237659907,
          -0.35667494393873245,
          -0.22314355131420968,
          -0.10536051565782628,
          0,
          0.09531017980432495,
          0.1823215567939546,
          0.26236426446749106,
          0.33647223662121284,
          0.4054651081081644
         ],
         "y": [
          2.636826312504138e-10,
          2.2760060500356443e-10,
          1.7128032324319233e-10,
          1.1098855167640782e-10,
          5.3095750017473756e-11,
          0,
          -4.77432537960027e-11,
          -9.025480363485782e-11,
          -1.279231165522641e-10,
          -1.6132106762847308e-10,
          -1.9087731397294636e-10
         ]
        },
        {
         "line": {
          "color": "rgba(255, 255, 51, 1.0)",
          "dash": "solid",
          "shape": "linear",
          "width": 1.3
         },
         "mode": "lines",
         "name": "Chicken Breast",
         "text": "",
         "type": "scatter",
         "x": [
          -0.6931471805599453,
          -0.5108256237659907,
          -0.35667494393873245,
          -0.22314355131420968,
          -0.10536051565782628,
          0,
          0.09531017980432495,
          0.1823215567939546,
          0.26236426446749106,
          0.33647223662121284,
          0.4054651081081644
         ],
         "y": [
          -2.611977301148733e-11,
          -2.0669466138870002e-11,
          -1.544386840646996e-11,
          -1.0324296972950013e-11,
          -5.223710353177468e-12,
          0,
          5.4034554608360384e-12,
          1.1032952329454093e-11,
          1.6963763726918658e-11,
          2.3257173964182255e-11,
          2.9849456239626464e-11
         ]
        },
        {
         "line": {
          "color": "rgba(128, 128, 0, 1.0)",
          "dash": "solid",
          "shape": "linear",
          "width": 1.3
         },
         "mode": "lines",
         "name": "Eggs",
         "text": "",
         "type": "scatter",
         "x": [
          -0.6931471805599453,
          -0.5108256237659907,
          -0.35667494393873245,
          -0.22314355131420968,
          -0.10536051565782628,
          0,
          0.09531017980432495,
          0.1823215567939546,
          0.26236426446749106,
          0.33647223662121284,
          0.4054651081081644
         ],
         "y": [
          -2.8842550611713056e-09,
          -1.538467021628907e-09,
          -9.401532889952912e-10,
          -4.0924719177429544e-10,
          -1.9167334388175485e-10,
          0,
          1.7502088665711172e-10,
          3.251801050123437e-10,
          4.400491081666301e-10,
          5.10655961830153e-10,
          5.308238291957815e-10
         ]
        },
        {
         "line": {
          "color": "rgba(251, 128, 114, 1.0)",
          "dash": "solid",
          "shape": "linear",
          "width": 1.3
         },
         "mode": "lines",
         "name": "Ground Beef",
         "text": "",
         "type": "scatter",
         "x": [
          -0.6931471805599453,
          -0.5108256237659907,
          -0.35667494393873245,
          -0.22314355131420968,
          -0.10536051565782628,
          0,
          0.09531017980432495,
          0.1823215567939546,
          0.26236426446749106,
          0.33647223662121284,
          0.4054651081081644
         ],
         "y": [
          -0.021741100285422935,
          -0.017354901895816063,
          -0.012987858058873241,
          -0.008639802270758216,
          -0.004310570330462399,
          0,
          0.004292069424261332,
          0.008565802916637895,
          0.012821657115017818,
          0.016843431575669858,
          0.02029389291494414
         ]
        },
        {
         "line": {
          "color": "rgba(128, 177, 211, 1.0)",
          "dash": "solid",
          "shape": "linear",
          "width": 1.3
         },
         "mode": "lines",
         "name": "Lentils",
         "text": "",
         "type": "scatter",
         "x": [
          -0.6931471805599453,
          -0.5108256237659907,
          -0.35667494393873245,
          -0.22314355131420968,
          -0.10536051565782628,
          0,
          0.09531017980432495,
          0.1823215567939546,
          0.26236426446749106,
          0.33647223662121284,
          0.4054651081081644
         ],
         "y": [
          -0.02871549644372103,
          -0.022906051701668474,
          -0.01713016177360913,
          -0.011387441303868,
          -0.005677511492770159,
          0,
          0.005645459203231828,
          0.011259225972162787,
          0.016841654498111324,
          0.022393093559634057,
          0.027913884715284828
         ]
        },
        {
         "line": {
          "color": "rgba(128, 177, 211, 0.8999999999999999)",
          "dash": "solid",
          "shape": "linear",
          "width": 1.3
         },
         "mode": "lines",
         "name": "Oatmeal",
         "text": "",
         "type": "scatter",
         "x": [
          -0.6931471805599453,
          -0.5108256237659907,
          -0.35667494393873245,
          -0.22314355131420968,
          -0.10536051565782628,
          0,
          0.09531017980432495,
          0.1823215567939546,
          0.26236426446749106,
          0.33647223662121284,
          0.4054651081081644
         ],
         "y": [
          2.1122232829359487e-09,
          1.1215124378444648e-09,
          5.987339511276989e-10,
          2.9403968144887904e-10,
          1.0994072318588234e-10,
          0,
          -6.103584304826021e-11,
          -8.821832154060618e-11,
          -9.110256993653847e-11,
          -7.612932506907437e-11,
          -4.773992312692867e-11
         ]
        },
        {
         "line": {
          "color": "rgba(255, 153, 51, 0.8999999999999999)",
          "dash": "solid",
          "shape": "linear",
          "width": 1.3
         },
         "mode": "lines",
         "name": "Olive oil ",
         "text": "",
         "type": "scatter",
         "x": [
          -0.6931471805599453,
          -0.5108256237659907,
          -0.35667494393873245,
          -0.22314355131420968,
          -0.10536051565782628,
          0,
          0.09531017980432495,
          0.1823215567939546,
          0.26236426446749106,
          0.33647223662121284,
          0.4054651081081644
         ],
         "y": [
          0,
          0,
          0,
          0,
          0,
          0,
          0,
          0,
          0,
          0,
          0
         ]
        },
        {
         "line": {
          "color": "rgba(55, 128, 191, 0.8999999999999999)",
          "dash": "solid",
          "shape": "linear",
          "width": 1.3
         },
         "mode": "lines",
         "name": "Pasta",
         "text": "",
         "type": "scatter",
         "x": [
          -0.6931471805599453,
          -0.5108256237659907,
          -0.35667494393873245,
          -0.22314355131420968,
          -0.10536051565782628,
          0,
          0.09531017980432495,
          0.1823215567939546,
          0.26236426446749106,
          0.33647223662121284,
          0.4054651081081644
         ],
         "y": [
          -0.06594150682902077,
          -0.051693791060213726,
          -0.0376462245590391,
          -0.023793260853988578,
          -0.010129541259885399,
          0,
          0.008481019380144915,
          0.016890716684321346,
          0.025230280370564337,
          0.03350087052953624,
          0.04170361873940292
         ]
        },
        {
         "line": {
          "color": "rgba(50, 171, 96, 0.8999999999999999)",
          "dash": "solid",
          "shape": "linear",
          "width": 1.3
         },
         "mode": "lines",
         "name": "Peanut Butter",
         "text": "",
         "type": "scatter",
         "x": [
          -0.6931471805599453,
          -0.5108256237659907,
          -0.35667494393873245,
          -0.22314355131420968,
          -0.10536051565782628,
          0,
          0.09531017980432495,
          0.1823215567939546,
          0.26236426446749106,
          0.33647223662121284,
          0.4054651081081644
         ],
         "y": [
          -0.07159653556901266,
          -0.056861265600818486,
          -0.04233997459519176,
          -0.028026536788460527,
          -0.013915085760777117,
          0,
          0.013724110543927916,
          0.02726241699414839,
          0.04061988324493252,
          0.053801276888571156,
          0.06681117943130492
         ]
        },
        {
         "line": {
          "color": "rgba(128, 0, 128, 0.8999999999999999)",
          "dash": "solid",
          "shape": "linear",
          "width": 1.3
         },
         "mode": "lines",
         "name": "Potatoes",
         "text": "",
         "type": "scatter",
         "x": [
          -0.6931471805599453,
          -0.5108256237659907,
          -0.35667494393873245,
          -0.22314355131420968,
          -0.10536051565782628,
          0,
          0.09531017980432495,
          0.1823215567939546,
          0.26236426446749106,
          0.33647223662121284,
          0.4054651081081644
         ],
         "y": [
          -3.289124528348088e-11,
          -2.052791270322738e-11,
          -1.2936429705318463e-11,
          -7.692513293052373e-12,
          -3.5533798126215893e-12,
          0,
          3.26338955857786e-12,
          6.423972465065447e-12,
          9.449330207144987e-12,
          1.2462031406734806e-11,
          1.540279015432095e-11
         ]
        },
        {
         "line": {
          "color": "rgba(219, 64, 82, 0.8999999999999999)",
          "dash": "solid",
          "shape": "linear",
          "width": 1.3
         },
         "mode": "lines",
         "name": "Quinoa",
         "text": "",
         "type": "scatter",
         "x": [
          -0.6931471805599453,
          -0.5108256237659907,
          -0.35667494393873245,
          -0.22314355131420968,
          -0.10536051565782628,
          0,
          0.09531017980432495,
          0.1823215567939546,
          0.26236426446749106,
          0.33647223662121284,
          0.4054651081081644
         ],
         "y": [
          -0.018598035457249477,
          -0.0005685447183698346,
          -1.822542117226318e-12,
          -1.7909118632691232e-11,
          -1.0689671370357992e-11,
          0,
          1.0777823078398014e-11,
          2.0968116132060727e-11,
          3.053357566737983e-11,
          3.958167127315273e-11,
          4.82773820908448e-11
         ]
        },
        {
         "line": {
          "color": "rgba(0, 128, 128, 0.8999999999999999)",
          "dash": "solid",
          "shape": "linear",
          "width": 1.3
         },
         "mode": "lines",
         "name": "Red Bell Pepper",
         "text": "",
         "type": "scatter",
         "x": [
          -0.6931471805599453,
          -0.5108256237659907,
          -0.35667494393873245,
          -0.22314355131420968,
          -0.10536051565782628,
          0,
          0.09531017980432495,
          0.1823215567939546,
          0.26236426446749106,
          0.33647223662121284,
          0.4054651081081644
         ],
         "y": [
          -4.709455048168541e-12,
          -2.293387701994484e-11,
          -2.6517232854313595e-11,
          -2.2691848400571034e-11,
          -1.3182011038368754e-11,
          0,
          1.5315526624586753e-11,
          3.165734341287047e-11,
          4.844169509848138e-11,
          6.528000362280384e-11,
          8.198464129468887e-11
         ]
        },
        {
         "line": {
          "color": "rgba(255, 255, 51, 0.8999999999999999)",
          "dash": "solid",
          "shape": "linear",
          "width": 1.3
         },
         "mode": "lines",
         "name": "Rice",
         "text": "",
         "type": "scatter",
         "x": [
          -0.6931471805599453,
          -0.5108256237659907,
          -0.35667494393873245,
          -0.22314355131420968,
          -0.10536051565782628,
          0,
          0.09531017980432495,
          0.1823215567939546,
          0.26236426446749106,
          0.33647223662121284,
          0.4054651081081644
         ],
         "y": [
          -0.0394766128874218,
          -0.031455633394879196,
          -0.023498478414723255,
          -0.015604140233273002,
          -0.0077716348466486855,
          0,
          0.006521409834238687,
          0.009682416953888622,
          0.012833695216236722,
          0.01597507335706919,
          0.019106614593039525
         ]
        },
        {
         "line": {
          "color": "rgba(128, 128, 0, 0.8999999999999999)",
          "dash": "solid",
          "shape": "linear",
          "width": 1.3
         },
         "mode": "lines",
         "name": "Salt",
         "text": "",
         "type": "scatter",
         "x": [
          -0.6931471805599453,
          -0.5108256237659907,
          -0.35667494393873245,
          -0.22314355131420968,
          -0.10536051565782628,
          0,
          0.09531017980432495,
          0.1823215567939546,
          0.26236426446749106,
          0.33647223662121284,
          0.4054651081081644
         ],
         "y": [
          -2.5365621857372593e-09,
          -2.2406537761432927e-09,
          -1.8420641695639634e-09,
          -1.3294377829664233e-09,
          -7.067424425965507e-10,
          0,
          7.039449021215886e-10,
          1.2120775487049615e-09,
          1.0430860614252196e-09,
          -1.973842313767878e-09,
          9.22141003227748e-08
         ]
        },
        {
         "line": {
          "color": "rgba(251, 128, 114, 0.8999999999999999)",
          "dash": "solid",
          "shape": "linear",
          "width": 1.3
         },
         "mode": "lines",
         "name": "Spinach",
         "text": "",
         "type": "scatter",
         "x": [
          -0.6931471805599453,
          -0.5108256237659907,
          -0.35667494393873245,
          -0.22314355131420968,
          -0.10536051565782628,
          0,
          0.09531017980432495,
          0.1823215567939546,
          0.26236426446749106,
          0.33647223662121284,
          0.4054651081081644
         ],
         "y": [
          -0.2275875971398185,
          -0.17773753550070653,
          -0.1302549490184963,
          -0.08492512582419592,
          -0.041561299186277795,
          0,
          0.03990267423336306,
          0.07789657005341274,
          0.113376076293826,
          0.1461322038201113,
          0.1730607055892449
         ]
        },
        {
         "line": {
          "color": "rgba(251, 128, 114, 0.7999999999999998)",
          "dash": "solid",
          "shape": "linear",
          "width": 1.3
         },
         "mode": "lines",
         "name": "Strawberries",
         "text": "",
         "type": "scatter",
         "x": [
          -0.6931471805599453,
          -0.5108256237659907,
          -0.35667494393873245,
          -0.22314355131420968,
          -0.10536051565782628,
          0,
          0.09531017980432495,
          0.1823215567939546,
          0.26236426446749106,
          0.33647223662121284,
          0.4054651081081644
         ],
         "y": [
          -1.5137946453061028e-10,
          -1.4042256247668352e-10,
          -1.1520795429429139e-10,
          -8.16408052306558e-11,
          -4.26616519897612e-11,
          0,
          4.534284059229296e-11,
          9.273581901961473e-11,
          1.4164336369467067e-10,
          1.9180279584966267e-10,
          2.428903744505003e-10
         ]
        },
        {
         "line": {
          "color": "rgba(128, 177, 211, 0.7999999999999998)",
          "dash": "solid",
          "shape": "linear",
          "width": 1.3
         },
         "mode": "lines",
         "name": "String Cheese",
         "text": "",
         "type": "scatter",
         "x": [
          -0.6931471805599453,
          -0.5108256237659907,
          -0.35667494393873245,
          -0.22314355131420968,
          -0.10536051565782628,
          0,
          0.09531017980432495,
          0.1823215567939546,
          0.26236426446749106,
          0.33647223662121284,
          0.4054651081081644
         ],
         "y": [
          -0.0994011114124208,
          -0.07053578032470706,
          -0.04429786365740713,
          -0.021142992966365508,
          -0.009090321632144393,
          0,
          0.0090084288293582,
          0.0179364301072277,
          0.02678542865271416,
          0.03555680957859471,
          0.04425191972849362
         ]
        },
        {
         "line": {
          "color": "rgba(255, 153, 51, 0.7999999999999998)",
          "dash": "solid",
          "shape": "linear",
          "width": 1.3
         },
         "mode": "lines",
         "name": "Whole-Grain Bread",
         "text": "",
         "type": "scatter",
         "x": [
          -0.6931471805599453,
          -0.5108256237659907,
          -0.35667494393873245,
          -0.22314355131420968,
          -0.10536051565782628,
          0,
          0.09531017980432495,
          0.1823215567939546,
          0.26236426446749106,
          0.33647223662121284,
          0.4054651081081644
         ],
         "y": [
          -0.04168179924782727,
          -0.023035993250363616,
          -0.005247859047561617,
          5.450008207644899e-09,
          -3.3694247397867357e-10,
          0,
          2.9182700696144925e-10,
          2.252418251659799e-10,
          6.398237495170583e-11,
          -1.3207512862029703e-10,
          -3.3037717012036213e-10
         ]
        },
        {
         "line": {
          "color": "rgba(55, 128, 191, 0.7999999999999998)",
          "dash": "solid",
          "shape": "linear",
          "width": 1.3
         },
         "mode": "lines",
         "name": "Yogurt",
         "text": "",
         "type": "scatter",
         "x": [
          -0.6931471805599453,
          -0.5108256237659907,
          -0.35667494393873245,
          -0.22314355131420968,
          -0.10536051565782628,
          0,
          0.09531017980432495,
          0.1823215567939546,
          0.26236426446749106,
          0.33647223662121284,
          0.4054651081081644
         ],
         "y": [
          1.3646590514962945e-09,
          1.0740426320326784e-09,
          3.973421590962554e-10,
          9.834422165027535e-11,
          -7.609024521599921e-12,
          0,
          7.728528927642974e-11,
          1.905131607845046e-10,
          3.0229996279423214e-10,
          3.584197382690498e-10,
          3.8353231694293987e-10
         ]
        }
       ],
       "layout": {
        "legend": {
         "bgcolor": "#F5F6F9",
         "font": {
          "color": "#4D5663"
         }
        },
        "paper_bgcolor": "#F5F6F9",
        "plot_bgcolor": "#F5F6F9",
        "template": {
         "data": {
          "bar": [
           {
            "error_x": {
             "color": "#2a3f5f"
            },
            "error_y": {
             "color": "#2a3f5f"
            },
            "marker": {
             "line": {
              "color": "#E5ECF6",
              "width": 0.5
             },
             "pattern": {
              "fillmode": "overlay",
              "size": 10,
              "solidity": 0.2
             }
            },
            "type": "bar"
           }
          ],
          "barpolar": [
           {
            "marker": {
             "line": {
              "color": "#E5ECF6",
              "width": 0.5
             },
             "pattern": {
              "fillmode": "overlay",
              "size": 10,
              "solidity": 0.2
             }
            },
            "type": "barpolar"
           }
          ],
          "carpet": [
           {
            "aaxis": {
             "endlinecolor": "#2a3f5f",
             "gridcolor": "white",
             "linecolor": "white",
             "minorgridcolor": "white",
             "startlinecolor": "#2a3f5f"
            },
            "baxis": {
             "endlinecolor": "#2a3f5f",
             "gridcolor": "white",
             "linecolor": "white",
             "minorgridcolor": "white",
             "startlinecolor": "#2a3f5f"
            },
            "type": "carpet"
           }
          ],
          "choropleth": [
           {
            "colorbar": {
             "outlinewidth": 0,
             "ticks": ""
            },
            "type": "choropleth"
           }
          ],
          "contour": [
           {
            "colorbar": {
             "outlinewidth": 0,
             "ticks": ""
            },
            "colorscale": [
             [
              0,
              "#0d0887"
             ],
             [
              0.1111111111111111,
              "#46039f"
             ],
             [
              0.2222222222222222,
              "#7201a8"
             ],
             [
              0.3333333333333333,
              "#9c179e"
             ],
             [
              0.4444444444444444,
              "#bd3786"
             ],
             [
              0.5555555555555556,
              "#d8576b"
             ],
             [
              0.6666666666666666,
              "#ed7953"
             ],
             [
              0.7777777777777778,
              "#fb9f3a"
             ],
             [
              0.8888888888888888,
              "#fdca26"
             ],
             [
              1,
              "#f0f921"
             ]
            ],
            "type": "contour"
           }
          ],
          "contourcarpet": [
           {
            "colorbar": {
             "outlinewidth": 0,
             "ticks": ""
            },
            "type": "contourcarpet"
           }
          ],
          "heatmap": [
           {
            "colorbar": {
             "outlinewidth": 0,
             "ticks": ""
            },
            "colorscale": [
             [
              0,
              "#0d0887"
             ],
             [
              0.1111111111111111,
              "#46039f"
             ],
             [
              0.2222222222222222,
              "#7201a8"
             ],
             [
              0.3333333333333333,
              "#9c179e"
             ],
             [
              0.4444444444444444,
              "#bd3786"
             ],
             [
              0.5555555555555556,
              "#d8576b"
             ],
             [
              0.6666666666666666,
              "#ed7953"
             ],
             [
              0.7777777777777778,
              "#fb9f3a"
             ],
             [
              0.8888888888888888,
              "#fdca26"
             ],
             [
              1,
              "#f0f921"
             ]
            ],
            "type": "heatmap"
           }
          ],
          "heatmapgl": [
           {
            "colorbar": {
             "outlinewidth": 0,
             "ticks": ""
            },
            "colorscale": [
             [
              0,
              "#0d0887"
             ],
             [
              0.1111111111111111,
              "#46039f"
             ],
             [
              0.2222222222222222,
              "#7201a8"
             ],
             [
              0.3333333333333333,
              "#9c179e"
             ],
             [
              0.4444444444444444,
              "#bd3786"
             ],
             [
              0.5555555555555556,
              "#d8576b"
             ],
             [
              0.6666666666666666,
              "#ed7953"
             ],
             [
              0.7777777777777778,
              "#fb9f3a"
             ],
             [
              0.8888888888888888,
              "#fdca26"
             ],
             [
              1,
              "#f0f921"
             ]
            ],
            "type": "heatmapgl"
           }
          ],
          "histogram": [
           {
            "marker": {
             "pattern": {
              "fillmode": "overlay",
              "size": 10,
              "solidity": 0.2
             }
            },
            "type": "histogram"
           }
          ],
          "histogram2d": [
           {
            "colorbar": {
             "outlinewidth": 0,
             "ticks": ""
            },
            "colorscale": [
             [
              0,
              "#0d0887"
             ],
             [
              0.1111111111111111,
              "#46039f"
             ],
             [
              0.2222222222222222,
              "#7201a8"
             ],
             [
              0.3333333333333333,
              "#9c179e"
             ],
             [
              0.4444444444444444,
              "#bd3786"
             ],
             [
              0.5555555555555556,
              "#d8576b"
             ],
             [
              0.6666666666666666,
              "#ed7953"
             ],
             [
              0.7777777777777778,
              "#fb9f3a"
             ],
             [
              0.8888888888888888,
              "#fdca26"
             ],
             [
              1,
              "#f0f921"
             ]
            ],
            "type": "histogram2d"
           }
          ],
          "histogram2dcontour": [
           {
            "colorbar": {
             "outlinewidth": 0,
             "ticks": ""
            },
            "colorscale": [
             [
              0,
              "#0d0887"
             ],
             [
              0.1111111111111111,
              "#46039f"
             ],
             [
              0.2222222222222222,
              "#7201a8"
             ],
             [
              0.3333333333333333,
              "#9c179e"
             ],
             [
              0.4444444444444444,
              "#bd3786"
             ],
             [
              0.5555555555555556,
              "#d8576b"
             ],
             [
              0.6666666666666666,
              "#ed7953"
             ],
             [
              0.7777777777777778,
              "#fb9f3a"
             ],
             [
              0.8888888888888888,
              "#fdca26"
             ],
             [
              1,
              "#f0f921"
             ]
            ],
            "type": "histogram2dcontour"
           }
          ],
          "mesh3d": [
           {
            "colorbar": {
             "outlinewidth": 0,
             "ticks": ""
            },
            "type": "mesh3d"
           }
          ],
          "parcoords": [
           {
            "line": {
             "colorbar": {
              "outlinewidth": 0,
              "ticks": ""
             }
            },
            "type": "parcoords"
           }
          ],
          "pie": [
           {
            "automargin": true,
            "type": "pie"
           }
          ],
          "scatter": [
           {
            "marker": {
             "colorbar": {
              "outlinewidth": 0,
              "ticks": ""
             }
            },
            "type": "scatter"
           }
          ],
          "scatter3d": [
           {
            "line": {
             "colorbar": {
              "outlinewidth": 0,
              "ticks": ""
             }
            },
            "marker": {
             "colorbar": {
              "outlinewidth": 0,
              "ticks": ""
             }
            },
            "type": "scatter3d"
           }
          ],
          "scattercarpet": [
           {
            "marker": {
             "colorbar": {
              "outlinewidth": 0,
              "ticks": ""
             }
            },
            "type": "scattercarpet"
           }
          ],
          "scattergeo": [
           {
            "marker": {
             "colorbar": {
              "outlinewidth": 0,
              "ticks": ""
             }
            },
            "type": "scattergeo"
           }
          ],
          "scattergl": [
           {
            "marker": {
             "colorbar": {
              "outlinewidth": 0,
              "ticks": ""
             }
            },
            "type": "scattergl"
           }
          ],
          "scattermapbox": [
           {
            "marker": {
             "colorbar": {
              "outlinewidth": 0,
              "ticks": ""
             }
            },
            "type": "scattermapbox"
           }
          ],
          "scatterpolar": [
           {
            "marker": {
             "colorbar": {
              "outlinewidth": 0,
              "ticks": ""
             }
            },
            "type": "scatterpolar"
           }
          ],
          "scatterpolargl": [
           {
            "marker": {
             "colorbar": {
              "outlinewidth": 0,
              "ticks": ""
             }
            },
            "type": "scatterpolargl"
           }
          ],
          "scatterternary": [
           {
            "marker": {
             "colorbar": {
              "outlinewidth": 0,
              "ticks": ""
             }
            },
            "type": "scatterternary"
           }
          ],
          "surface": [
           {
            "colorbar": {
             "outlinewidth": 0,
             "ticks": ""
            },
            "colorscale": [
             [
              0,
              "#0d0887"
             ],
             [
              0.1111111111111111,
              "#46039f"
             ],
             [
              0.2222222222222222,
              "#7201a8"
             ],
             [
              0.3333333333333333,
              "#9c179e"
             ],
             [
              0.4444444444444444,
              "#bd3786"
             ],
             [
              0.5555555555555556,
              "#d8576b"
             ],
             [
              0.6666666666666666,
              "#ed7953"
             ],
             [
              0.7777777777777778,
              "#fb9f3a"
             ],
             [
              0.8888888888888888,
              "#fdca26"
             ],
             [
              1,
              "#f0f921"
             ]
            ],
            "type": "surface"
           }
          ],
          "table": [
           {
            "cells": {
             "fill": {
              "color": "#EBF0F8"
             },
             "line": {
              "color": "white"
             }
            },
            "header": {
             "fill": {
              "color": "#C8D4E3"
             },
             "line": {
              "color": "white"
             }
            },
            "type": "table"
           }
          ]
         },
         "layout": {
          "annotationdefaults": {
           "arrowcolor": "#2a3f5f",
           "arrowhead": 0,
           "arrowwidth": 1
          },
          "autotypenumbers": "strict",
          "coloraxis": {
           "colorbar": {
            "outlinewidth": 0,
            "ticks": ""
           }
          },
          "colorscale": {
           "diverging": [
            [
             0,
             "#8e0152"
            ],
            [
             0.1,
             "#c51b7d"
            ],
            [
             0.2,
             "#de77ae"
            ],
            [
             0.3,
             "#f1b6da"
            ],
            [
             0.4,
             "#fde0ef"
            ],
            [
             0.5,
             "#f7f7f7"
            ],
            [
             0.6,
             "#e6f5d0"
            ],
            [
             0.7,
             "#b8e186"
            ],
            [
             0.8,
             "#7fbc41"
            ],
            [
             0.9,
             "#4d9221"
            ],
            [
             1,
             "#276419"
            ]
           ],
           "sequential": [
            [
             0,
             "#0d0887"
            ],
            [
             0.1111111111111111,
             "#46039f"
            ],
            [
             0.2222222222222222,
             "#7201a8"
            ],
            [
             0.3333333333333333,
             "#9c179e"
            ],
            [
             0.4444444444444444,
             "#bd3786"
            ],
            [
             0.5555555555555556,
             "#d8576b"
            ],
            [
             0.6666666666666666,
             "#ed7953"
            ],
            [
             0.7777777777777778,
             "#fb9f3a"
            ],
            [
             0.8888888888888888,
             "#fdca26"
            ],
            [
             1,
             "#f0f921"
            ]
           ],
           "sequentialminus": [
            [
             0,
             "#0d0887"
            ],
            [
             0.1111111111111111,
             "#46039f"
            ],
            [
             0.2222222222222222,
             "#7201a8"
            ],
            [
             0.3333333333333333,
             "#9c179e"
            ],
            [
             0.4444444444444444,
             "#bd3786"
            ],
            [
             0.5555555555555556,
             "#d8576b"
            ],
            [
             0.6666666666666666,
             "#ed7953"
            ],
            [
             0.7777777777777778,
             "#fb9f3a"
            ],
            [
             0.8888888888888888,
             "#fdca26"
            ],
            [
             1,
             "#f0f921"
            ]
           ]
          },
          "colorway": [
           "#636efa",
           "#EF553B",
           "#00cc96",
           "#ab63fa",
           "#FFA15A",
           "#19d3f3",
           "#FF6692",
           "#B6E880",
           "#FF97FF",
           "#FECB52"
          ],
          "font": {
           "color": "#2a3f5f"
          },
          "geo": {
           "bgcolor": "white",
           "lakecolor": "white",
           "landcolor": "#E5ECF6",
           "showlakes": true,
           "showland": true,
           "subunitcolor": "white"
          },
          "hoverlabel": {
           "align": "left"
          },
          "hovermode": "closest",
          "mapbox": {
           "style": "light"
          },
          "paper_bgcolor": "white",
          "plot_bgcolor": "#E5ECF6",
          "polar": {
           "angularaxis": {
            "gridcolor": "white",
            "linecolor": "white",
            "ticks": ""
           },
           "bgcolor": "#E5ECF6",
           "radialaxis": {
            "gridcolor": "white",
            "linecolor": "white",
            "ticks": ""
           }
          },
          "scene": {
           "xaxis": {
            "backgroundcolor": "#E5ECF6",
            "gridcolor": "white",
            "gridwidth": 2,
            "linecolor": "white",
            "showbackground": true,
            "ticks": "",
            "zerolinecolor": "white"
           },
           "yaxis": {
            "backgroundcolor": "#E5ECF6",
            "gridcolor": "white",
            "gridwidth": 2,
            "linecolor": "white",
            "showbackground": true,
            "ticks": "",
            "zerolinecolor": "white"
           },
           "zaxis": {
            "backgroundcolor": "#E5ECF6",
            "gridcolor": "white",
            "gridwidth": 2,
            "linecolor": "white",
            "showbackground": true,
            "ticks": "",
            "zerolinecolor": "white"
           }
          },
          "shapedefaults": {
           "line": {
            "color": "#2a3f5f"
           }
          },
          "ternary": {
           "aaxis": {
            "gridcolor": "white",
            "linecolor": "white",
            "ticks": ""
           },
           "baxis": {
            "gridcolor": "white",
            "linecolor": "white",
            "ticks": ""
           },
           "bgcolor": "#E5ECF6",
           "caxis": {
            "gridcolor": "white",
            "linecolor": "white",
            "ticks": ""
           }
          },
          "title": {
           "x": 0.05
          },
          "xaxis": {
           "automargin": true,
           "gridcolor": "white",
           "linecolor": "white",
           "ticks": "",
           "title": {
            "standoff": 15
           },
           "zerolinecolor": "white",
           "zerolinewidth": 2
          },
          "yaxis": {
           "automargin": true,
           "gridcolor": "white",
           "linecolor": "white",
           "ticks": "",
           "title": {
            "standoff": 15
           },
           "zerolinecolor": "white",
           "zerolinewidth": 2
          }
         }
        },
        "title": {
         "font": {
          "color": "#4D5663"
         },
         "text": "Sensitivity of College Football Athlete Diet"
        },
        "xaxis": {
         "gridcolor": "#E1E5ED",
         "showgrid": true,
         "tickfont": {
          "color": "#4D5663"
         },
         "title": {
          "font": {
           "color": "#4D5663"
          },
          "text": "change in log price"
         },
         "zerolinecolor": "#E1E5ED"
        },
        "yaxis": {
         "gridcolor": "#E1E5ED",
         "showgrid": true,
         "tickfont": {
          "color": "#4D5663"
         },
         "title": {
          "font": {
           "color": "#4D5663"
          },
          "text": "change in log cost"
         },
         "zerolinecolor": "#E1E5ED"
        }
       }
      },
      "text/html": [
       "<div>                            <div id=\"19a37800-5577-4a25-9e6d-dcf1c566ccb4\" class=\"plotly-graph-div\" style=\"height:525px; width:100%;\"></div>            <script type=\"text/javascript\">                require([\"plotly\"], function(Plotly) {                    window.PLOTLYENV=window.PLOTLYENV || {};\n",
       "                    window.PLOTLYENV.BASE_URL='https://plot.ly';                                    if (document.getElementById(\"19a37800-5577-4a25-9e6d-dcf1c566ccb4\")) {                    Plotly.newPlot(                        \"19a37800-5577-4a25-9e6d-dcf1c566ccb4\",                        [{\"line\":{\"color\":\"rgba(255, 153, 51, 1.0)\",\"dash\":\"solid\",\"shape\":\"linear\",\"width\":1.3},\"mode\":\"lines\",\"name\":\"Apple\",\"text\":\"\",\"type\":\"scatter\",\"x\":[-0.6931471805599453,-0.5108256237659907,-0.35667494393873245,-0.22314355131420968,-0.10536051565782628,0.0,0.09531017980432495,0.1823215567939546,0.26236426446749106,0.33647223662121284,0.4054651081081644],\"y\":[-6.517220097136719e-11,-5.075728726340352e-11,-3.704048179355756e-11,-2.4002355658869165e-11,-1.1658007892446874e-11,0.0,1.0970113706261001e-11,2.125011278030956e-11,3.085709465674567e-11,3.986233565376682e-11,4.831623989670481e-11]},{\"line\":{\"color\":\"rgba(55, 128, 191, 1.0)\",\"dash\":\"solid\",\"shape\":\"linear\",\"width\":1.3},\"mode\":\"lines\",\"name\":\"Bananas\",\"text\":\"\",\"type\":\"scatter\",\"x\":[-0.6931471805599453,-0.5108256237659907,-0.35667494393873245,-0.22314355131420968,-0.10536051565782628,0.0,0.09531017980432495,0.1823215567939546,0.26236426446749106,0.33647223662121284,0.4054651081081644],\"y\":[6.4229834577883864e-09,2.1427448681301946e-09,2.1319568330683277e-10,-1.0833467457037128e-10,-4.538291964553972e-11,0.0,3.4015235072491955e-11,6.005484998003545e-11,8.02462540828718e-11,9.60855839291975e-11,1.085993517276768e-10]},{\"line\":{\"color\":\"rgba(50, 171, 96, 1.0)\",\"dash\":\"solid\",\"shape\":\"linear\",\"width\":1.3},\"mode\":\"lines\",\"name\":\"Black Beans\",\"text\":\"\",\"type\":\"scatter\",\"x\":[-0.6931471805599453,-0.5108256237659907,-0.35667494393873245,-0.22314355131420968,-0.10536051565782628,0.0,0.09531017980432495,0.1823215567939546,0.26236426446749106,0.33647223662121284,0.4054651081081644],\"y\":[-2.815502276162233e-10,3.440905337844559e-10,4.6399861719841325e-10,3.6995384526767995e-10,1.9578827446268968e-10,0.0,-1.9269030817250695e-10,-3.7260261549767994e-10,-5.368026025129584e-10,-6.851772485066182e-10,-8.190005343934151e-10]},{\"line\":{\"color\":\"rgba(128, 0, 128, 1.0)\",\"dash\":\"solid\",\"shape\":\"linear\",\"width\":1.3},\"mode\":\"lines\",\"name\":\"Broccoli\",\"text\":\"\",\"type\":\"scatter\",\"x\":[-0.6931471805599453,-0.5108256237659907,-0.35667494393873245,-0.22314355131420968,-0.10536051565782628,0.0,0.09531017980432495,0.1823215567939546,0.26236426446749106,0.33647223662121284,0.4054651081081644],\"y\":[-0.052353682454064195,-0.04166137575080416,-0.031082186001895468,-0.02061374485445245,-0.010253757570527969,0.0,0.010149684284780964,0.02019738670999148,0.030145136286432315,0.0399949020684236,0.04974859549275044]},{\"line\":{\"color\":\"rgba(219, 64, 82, 1.0)\",\"dash\":\"solid\",\"shape\":\"linear\",\"width\":1.3},\"mode\":\"lines\",\"name\":\"Butter \",\"text\":\"\",\"type\":\"scatter\",\"x\":[-0.6931471805599453,-0.5108256237659907,-0.35667494393873245,-0.22314355131420968,-0.10536051565782628,0.0,0.09531017980432495,0.1823215567939546,0.26236426446749106,0.33647223662121284,0.4054651081081644],\"y\":[-1.0757785779094158e-09,-8.593732396062769e-10,-6.393776621306345e-10,-4.210606308950263e-10,-2.074710403692064e-10,0.0,2.0114754304609659e-10,3.964684135762222e-10,5.869400519440977e-10,7.736988824396219e-10,9.580816135852438e-10]},{\"line\":{\"color\":\"rgba(0, 128, 128, 1.0)\",\"dash\":\"solid\",\"shape\":\"linear\",\"width\":1.3},\"mode\":\"lines\",\"name\":\"Carrots\",\"text\":\"\",\"type\":\"scatter\",\"x\":[-0.6931471805599453,-0.5108256237659907,-0.35667494393873245,-0.22314355131420968,-0.10536051565782628,0.0,0.09531017980432495,0.1823215567939546,0.26236426446749106,0.33647223662121284,0.4054651081081644],\"y\":[2.636826312504138e-10,2.2760060500356443e-10,1.7128032324319233e-10,1.1098855167640782e-10,5.3095750017473756e-11,0.0,-4.77432537960027e-11,-9.025480363485782e-11,-1.279231165522641e-10,-1.6132106762847308e-10,-1.9087731397294636e-10]},{\"line\":{\"color\":\"rgba(255, 255, 51, 1.0)\",\"dash\":\"solid\",\"shape\":\"linear\",\"width\":1.3},\"mode\":\"lines\",\"name\":\"Chicken Breast\",\"text\":\"\",\"type\":\"scatter\",\"x\":[-0.6931471805599453,-0.5108256237659907,-0.35667494393873245,-0.22314355131420968,-0.10536051565782628,0.0,0.09531017980432495,0.1823215567939546,0.26236426446749106,0.33647223662121284,0.4054651081081644],\"y\":[-2.611977301148733e-11,-2.0669466138870002e-11,-1.544386840646996e-11,-1.0324296972950013e-11,-5.223710353177468e-12,0.0,5.4034554608360384e-12,1.1032952329454093e-11,1.6963763726918658e-11,2.3257173964182255e-11,2.9849456239626464e-11]},{\"line\":{\"color\":\"rgba(128, 128, 0, 1.0)\",\"dash\":\"solid\",\"shape\":\"linear\",\"width\":1.3},\"mode\":\"lines\",\"name\":\"Eggs\",\"text\":\"\",\"type\":\"scatter\",\"x\":[-0.6931471805599453,-0.5108256237659907,-0.35667494393873245,-0.22314355131420968,-0.10536051565782628,0.0,0.09531017980432495,0.1823215567939546,0.26236426446749106,0.33647223662121284,0.4054651081081644],\"y\":[-2.8842550611713056e-09,-1.538467021628907e-09,-9.401532889952912e-10,-4.0924719177429544e-10,-1.9167334388175485e-10,0.0,1.7502088665711172e-10,3.251801050123437e-10,4.400491081666301e-10,5.10655961830153e-10,5.308238291957815e-10]},{\"line\":{\"color\":\"rgba(251, 128, 114, 1.0)\",\"dash\":\"solid\",\"shape\":\"linear\",\"width\":1.3},\"mode\":\"lines\",\"name\":\"Ground Beef\",\"text\":\"\",\"type\":\"scatter\",\"x\":[-0.6931471805599453,-0.5108256237659907,-0.35667494393873245,-0.22314355131420968,-0.10536051565782628,0.0,0.09531017980432495,0.1823215567939546,0.26236426446749106,0.33647223662121284,0.4054651081081644],\"y\":[-0.021741100285422935,-0.017354901895816063,-0.012987858058873241,-0.008639802270758216,-0.004310570330462399,0.0,0.004292069424261332,0.008565802916637895,0.012821657115017818,0.016843431575669858,0.02029389291494414]},{\"line\":{\"color\":\"rgba(128, 177, 211, 1.0)\",\"dash\":\"solid\",\"shape\":\"linear\",\"width\":1.3},\"mode\":\"lines\",\"name\":\"Lentils\",\"text\":\"\",\"type\":\"scatter\",\"x\":[-0.6931471805599453,-0.5108256237659907,-0.35667494393873245,-0.22314355131420968,-0.10536051565782628,0.0,0.09531017980432495,0.1823215567939546,0.26236426446749106,0.33647223662121284,0.4054651081081644],\"y\":[-0.02871549644372103,-0.022906051701668474,-0.01713016177360913,-0.011387441303868,-0.005677511492770159,0.0,0.005645459203231828,0.011259225972162787,0.016841654498111324,0.022393093559634057,0.027913884715284828]},{\"line\":{\"color\":\"rgba(128, 177, 211, 0.8999999999999999)\",\"dash\":\"solid\",\"shape\":\"linear\",\"width\":1.3},\"mode\":\"lines\",\"name\":\"Oatmeal\",\"text\":\"\",\"type\":\"scatter\",\"x\":[-0.6931471805599453,-0.5108256237659907,-0.35667494393873245,-0.22314355131420968,-0.10536051565782628,0.0,0.09531017980432495,0.1823215567939546,0.26236426446749106,0.33647223662121284,0.4054651081081644],\"y\":[2.1122232829359487e-09,1.1215124378444648e-09,5.987339511276989e-10,2.9403968144887904e-10,1.0994072318588234e-10,0.0,-6.103584304826021e-11,-8.821832154060618e-11,-9.110256993653847e-11,-7.612932506907437e-11,-4.773992312692867e-11]},{\"line\":{\"color\":\"rgba(255, 153, 51, 0.8999999999999999)\",\"dash\":\"solid\",\"shape\":\"linear\",\"width\":1.3},\"mode\":\"lines\",\"name\":\"Olive oil \",\"text\":\"\",\"type\":\"scatter\",\"x\":[-0.6931471805599453,-0.5108256237659907,-0.35667494393873245,-0.22314355131420968,-0.10536051565782628,0.0,0.09531017980432495,0.1823215567939546,0.26236426446749106,0.33647223662121284,0.4054651081081644],\"y\":[0.0,0.0,0.0,0.0,0.0,0.0,0.0,0.0,0.0,0.0,0.0]},{\"line\":{\"color\":\"rgba(55, 128, 191, 0.8999999999999999)\",\"dash\":\"solid\",\"shape\":\"linear\",\"width\":1.3},\"mode\":\"lines\",\"name\":\"Pasta\",\"text\":\"\",\"type\":\"scatter\",\"x\":[-0.6931471805599453,-0.5108256237659907,-0.35667494393873245,-0.22314355131420968,-0.10536051565782628,0.0,0.09531017980432495,0.1823215567939546,0.26236426446749106,0.33647223662121284,0.4054651081081644],\"y\":[-0.06594150682902077,-0.051693791060213726,-0.0376462245590391,-0.023793260853988578,-0.010129541259885399,0.0,0.008481019380144915,0.016890716684321346,0.025230280370564337,0.03350087052953624,0.04170361873940292]},{\"line\":{\"color\":\"rgba(50, 171, 96, 0.8999999999999999)\",\"dash\":\"solid\",\"shape\":\"linear\",\"width\":1.3},\"mode\":\"lines\",\"name\":\"Peanut Butter\",\"text\":\"\",\"type\":\"scatter\",\"x\":[-0.6931471805599453,-0.5108256237659907,-0.35667494393873245,-0.22314355131420968,-0.10536051565782628,0.0,0.09531017980432495,0.1823215567939546,0.26236426446749106,0.33647223662121284,0.4054651081081644],\"y\":[-0.07159653556901266,-0.056861265600818486,-0.04233997459519176,-0.028026536788460527,-0.013915085760777117,0.0,0.013724110543927916,0.02726241699414839,0.04061988324493252,0.053801276888571156,0.06681117943130492]},{\"line\":{\"color\":\"rgba(128, 0, 128, 0.8999999999999999)\",\"dash\":\"solid\",\"shape\":\"linear\",\"width\":1.3},\"mode\":\"lines\",\"name\":\"Potatoes\",\"text\":\"\",\"type\":\"scatter\",\"x\":[-0.6931471805599453,-0.5108256237659907,-0.35667494393873245,-0.22314355131420968,-0.10536051565782628,0.0,0.09531017980432495,0.1823215567939546,0.26236426446749106,0.33647223662121284,0.4054651081081644],\"y\":[-3.289124528348088e-11,-2.052791270322738e-11,-1.2936429705318463e-11,-7.692513293052373e-12,-3.5533798126215893e-12,0.0,3.26338955857786e-12,6.423972465065447e-12,9.449330207144987e-12,1.2462031406734806e-11,1.540279015432095e-11]},{\"line\":{\"color\":\"rgba(219, 64, 82, 0.8999999999999999)\",\"dash\":\"solid\",\"shape\":\"linear\",\"width\":1.3},\"mode\":\"lines\",\"name\":\"Quinoa\",\"text\":\"\",\"type\":\"scatter\",\"x\":[-0.6931471805599453,-0.5108256237659907,-0.35667494393873245,-0.22314355131420968,-0.10536051565782628,0.0,0.09531017980432495,0.1823215567939546,0.26236426446749106,0.33647223662121284,0.4054651081081644],\"y\":[-0.018598035457249477,-0.0005685447183698346,-1.822542117226318e-12,-1.7909118632691232e-11,-1.0689671370357992e-11,0.0,1.0777823078398014e-11,2.0968116132060727e-11,3.053357566737983e-11,3.958167127315273e-11,4.82773820908448e-11]},{\"line\":{\"color\":\"rgba(0, 128, 128, 0.8999999999999999)\",\"dash\":\"solid\",\"shape\":\"linear\",\"width\":1.3},\"mode\":\"lines\",\"name\":\"Red Bell Pepper\",\"text\":\"\",\"type\":\"scatter\",\"x\":[-0.6931471805599453,-0.5108256237659907,-0.35667494393873245,-0.22314355131420968,-0.10536051565782628,0.0,0.09531017980432495,0.1823215567939546,0.26236426446749106,0.33647223662121284,0.4054651081081644],\"y\":[-4.709455048168541e-12,-2.293387701994484e-11,-2.6517232854313595e-11,-2.2691848400571034e-11,-1.3182011038368754e-11,0.0,1.5315526624586753e-11,3.165734341287047e-11,4.844169509848138e-11,6.528000362280384e-11,8.198464129468887e-11]},{\"line\":{\"color\":\"rgba(255, 255, 51, 0.8999999999999999)\",\"dash\":\"solid\",\"shape\":\"linear\",\"width\":1.3},\"mode\":\"lines\",\"name\":\"Rice\",\"text\":\"\",\"type\":\"scatter\",\"x\":[-0.6931471805599453,-0.5108256237659907,-0.35667494393873245,-0.22314355131420968,-0.10536051565782628,0.0,0.09531017980432495,0.1823215567939546,0.26236426446749106,0.33647223662121284,0.4054651081081644],\"y\":[-0.0394766128874218,-0.031455633394879196,-0.023498478414723255,-0.015604140233273002,-0.0077716348466486855,0.0,0.006521409834238687,0.009682416953888622,0.012833695216236722,0.01597507335706919,0.019106614593039525]},{\"line\":{\"color\":\"rgba(128, 128, 0, 0.8999999999999999)\",\"dash\":\"solid\",\"shape\":\"linear\",\"width\":1.3},\"mode\":\"lines\",\"name\":\"Salt\",\"text\":\"\",\"type\":\"scatter\",\"x\":[-0.6931471805599453,-0.5108256237659907,-0.35667494393873245,-0.22314355131420968,-0.10536051565782628,0.0,0.09531017980432495,0.1823215567939546,0.26236426446749106,0.33647223662121284,0.4054651081081644],\"y\":[-2.5365621857372593e-09,-2.2406537761432927e-09,-1.8420641695639634e-09,-1.3294377829664233e-09,-7.067424425965507e-10,0.0,7.039449021215886e-10,1.2120775487049615e-09,1.0430860614252196e-09,-1.973842313767878e-09,9.22141003227748e-08]},{\"line\":{\"color\":\"rgba(251, 128, 114, 0.8999999999999999)\",\"dash\":\"solid\",\"shape\":\"linear\",\"width\":1.3},\"mode\":\"lines\",\"name\":\"Spinach\",\"text\":\"\",\"type\":\"scatter\",\"x\":[-0.6931471805599453,-0.5108256237659907,-0.35667494393873245,-0.22314355131420968,-0.10536051565782628,0.0,0.09531017980432495,0.1823215567939546,0.26236426446749106,0.33647223662121284,0.4054651081081644],\"y\":[-0.2275875971398185,-0.17773753550070653,-0.1302549490184963,-0.08492512582419592,-0.041561299186277795,0.0,0.03990267423336306,0.07789657005341274,0.113376076293826,0.1461322038201113,0.1730607055892449]},{\"line\":{\"color\":\"rgba(251, 128, 114, 0.7999999999999998)\",\"dash\":\"solid\",\"shape\":\"linear\",\"width\":1.3},\"mode\":\"lines\",\"name\":\"Strawberries\",\"text\":\"\",\"type\":\"scatter\",\"x\":[-0.6931471805599453,-0.5108256237659907,-0.35667494393873245,-0.22314355131420968,-0.10536051565782628,0.0,0.09531017980432495,0.1823215567939546,0.26236426446749106,0.33647223662121284,0.4054651081081644],\"y\":[-1.5137946453061028e-10,-1.4042256247668352e-10,-1.1520795429429139e-10,-8.16408052306558e-11,-4.26616519897612e-11,0.0,4.534284059229296e-11,9.273581901961473e-11,1.4164336369467067e-10,1.9180279584966267e-10,2.428903744505003e-10]},{\"line\":{\"color\":\"rgba(128, 177, 211, 0.7999999999999998)\",\"dash\":\"solid\",\"shape\":\"linear\",\"width\":1.3},\"mode\":\"lines\",\"name\":\"String Cheese\",\"text\":\"\",\"type\":\"scatter\",\"x\":[-0.6931471805599453,-0.5108256237659907,-0.35667494393873245,-0.22314355131420968,-0.10536051565782628,0.0,0.09531017980432495,0.1823215567939546,0.26236426446749106,0.33647223662121284,0.4054651081081644],\"y\":[-0.0994011114124208,-0.07053578032470706,-0.04429786365740713,-0.021142992966365508,-0.009090321632144393,0.0,0.0090084288293582,0.0179364301072277,0.02678542865271416,0.03555680957859471,0.04425191972849362]},{\"line\":{\"color\":\"rgba(255, 153, 51, 0.7999999999999998)\",\"dash\":\"solid\",\"shape\":\"linear\",\"width\":1.3},\"mode\":\"lines\",\"name\":\"Whole-Grain Bread\",\"text\":\"\",\"type\":\"scatter\",\"x\":[-0.6931471805599453,-0.5108256237659907,-0.35667494393873245,-0.22314355131420968,-0.10536051565782628,0.0,0.09531017980432495,0.1823215567939546,0.26236426446749106,0.33647223662121284,0.4054651081081644],\"y\":[-0.04168179924782727,-0.023035993250363616,-0.005247859047561617,5.450008207644899e-09,-3.3694247397867357e-10,0.0,2.9182700696144925e-10,2.252418251659799e-10,6.398237495170583e-11,-1.3207512862029703e-10,-3.3037717012036213e-10]},{\"line\":{\"color\":\"rgba(55, 128, 191, 0.7999999999999998)\",\"dash\":\"solid\",\"shape\":\"linear\",\"width\":1.3},\"mode\":\"lines\",\"name\":\"Yogurt\",\"text\":\"\",\"type\":\"scatter\",\"x\":[-0.6931471805599453,-0.5108256237659907,-0.35667494393873245,-0.22314355131420968,-0.10536051565782628,0.0,0.09531017980432495,0.1823215567939546,0.26236426446749106,0.33647223662121284,0.4054651081081644],\"y\":[1.3646590514962945e-09,1.0740426320326784e-09,3.973421590962554e-10,9.834422165027535e-11,-7.609024521599921e-12,0.0,7.728528927642974e-11,1.905131607845046e-10,3.0229996279423214e-10,3.584197382690498e-10,3.8353231694293987e-10]}],                        {\"legend\":{\"bgcolor\":\"#F5F6F9\",\"font\":{\"color\":\"#4D5663\"}},\"paper_bgcolor\":\"#F5F6F9\",\"plot_bgcolor\":\"#F5F6F9\",\"template\":{\"data\":{\"bar\":[{\"error_x\":{\"color\":\"#2a3f5f\"},\"error_y\":{\"color\":\"#2a3f5f\"},\"marker\":{\"line\":{\"color\":\"#E5ECF6\",\"width\":0.5},\"pattern\":{\"fillmode\":\"overlay\",\"size\":10,\"solidity\":0.2}},\"type\":\"bar\"}],\"barpolar\":[{\"marker\":{\"line\":{\"color\":\"#E5ECF6\",\"width\":0.5},\"pattern\":{\"fillmode\":\"overlay\",\"size\":10,\"solidity\":0.2}},\"type\":\"barpolar\"}],\"carpet\":[{\"aaxis\":{\"endlinecolor\":\"#2a3f5f\",\"gridcolor\":\"white\",\"linecolor\":\"white\",\"minorgridcolor\":\"white\",\"startlinecolor\":\"#2a3f5f\"},\"baxis\":{\"endlinecolor\":\"#2a3f5f\",\"gridcolor\":\"white\",\"linecolor\":\"white\",\"minorgridcolor\":\"white\",\"startlinecolor\":\"#2a3f5f\"},\"type\":\"carpet\"}],\"choropleth\":[{\"colorbar\":{\"outlinewidth\":0,\"ticks\":\"\"},\"type\":\"choropleth\"}],\"contour\":[{\"colorbar\":{\"outlinewidth\":0,\"ticks\":\"\"},\"colorscale\":[[0.0,\"#0d0887\"],[0.1111111111111111,\"#46039f\"],[0.2222222222222222,\"#7201a8\"],[0.3333333333333333,\"#9c179e\"],[0.4444444444444444,\"#bd3786\"],[0.5555555555555556,\"#d8576b\"],[0.6666666666666666,\"#ed7953\"],[0.7777777777777778,\"#fb9f3a\"],[0.8888888888888888,\"#fdca26\"],[1.0,\"#f0f921\"]],\"type\":\"contour\"}],\"contourcarpet\":[{\"colorbar\":{\"outlinewidth\":0,\"ticks\":\"\"},\"type\":\"contourcarpet\"}],\"heatmap\":[{\"colorbar\":{\"outlinewidth\":0,\"ticks\":\"\"},\"colorscale\":[[0.0,\"#0d0887\"],[0.1111111111111111,\"#46039f\"],[0.2222222222222222,\"#7201a8\"],[0.3333333333333333,\"#9c179e\"],[0.4444444444444444,\"#bd3786\"],[0.5555555555555556,\"#d8576b\"],[0.6666666666666666,\"#ed7953\"],[0.7777777777777778,\"#fb9f3a\"],[0.8888888888888888,\"#fdca26\"],[1.0,\"#f0f921\"]],\"type\":\"heatmap\"}],\"heatmapgl\":[{\"colorbar\":{\"outlinewidth\":0,\"ticks\":\"\"},\"colorscale\":[[0.0,\"#0d0887\"],[0.1111111111111111,\"#46039f\"],[0.2222222222222222,\"#7201a8\"],[0.3333333333333333,\"#9c179e\"],[0.4444444444444444,\"#bd3786\"],[0.5555555555555556,\"#d8576b\"],[0.6666666666666666,\"#ed7953\"],[0.7777777777777778,\"#fb9f3a\"],[0.8888888888888888,\"#fdca26\"],[1.0,\"#f0f921\"]],\"type\":\"heatmapgl\"}],\"histogram\":[{\"marker\":{\"pattern\":{\"fillmode\":\"overlay\",\"size\":10,\"solidity\":0.2}},\"type\":\"histogram\"}],\"histogram2d\":[{\"colorbar\":{\"outlinewidth\":0,\"ticks\":\"\"},\"colorscale\":[[0.0,\"#0d0887\"],[0.1111111111111111,\"#46039f\"],[0.2222222222222222,\"#7201a8\"],[0.3333333333333333,\"#9c179e\"],[0.4444444444444444,\"#bd3786\"],[0.5555555555555556,\"#d8576b\"],[0.6666666666666666,\"#ed7953\"],[0.7777777777777778,\"#fb9f3a\"],[0.8888888888888888,\"#fdca26\"],[1.0,\"#f0f921\"]],\"type\":\"histogram2d\"}],\"histogram2dcontour\":[{\"colorbar\":{\"outlinewidth\":0,\"ticks\":\"\"},\"colorscale\":[[0.0,\"#0d0887\"],[0.1111111111111111,\"#46039f\"],[0.2222222222222222,\"#7201a8\"],[0.3333333333333333,\"#9c179e\"],[0.4444444444444444,\"#bd3786\"],[0.5555555555555556,\"#d8576b\"],[0.6666666666666666,\"#ed7953\"],[0.7777777777777778,\"#fb9f3a\"],[0.8888888888888888,\"#fdca26\"],[1.0,\"#f0f921\"]],\"type\":\"histogram2dcontour\"}],\"mesh3d\":[{\"colorbar\":{\"outlinewidth\":0,\"ticks\":\"\"},\"type\":\"mesh3d\"}],\"parcoords\":[{\"line\":{\"colorbar\":{\"outlinewidth\":0,\"ticks\":\"\"}},\"type\":\"parcoords\"}],\"pie\":[{\"automargin\":true,\"type\":\"pie\"}],\"scatter\":[{\"marker\":{\"colorbar\":{\"outlinewidth\":0,\"ticks\":\"\"}},\"type\":\"scatter\"}],\"scatter3d\":[{\"line\":{\"colorbar\":{\"outlinewidth\":0,\"ticks\":\"\"}},\"marker\":{\"colorbar\":{\"outlinewidth\":0,\"ticks\":\"\"}},\"type\":\"scatter3d\"}],\"scattercarpet\":[{\"marker\":{\"colorbar\":{\"outlinewidth\":0,\"ticks\":\"\"}},\"type\":\"scattercarpet\"}],\"scattergeo\":[{\"marker\":{\"colorbar\":{\"outlinewidth\":0,\"ticks\":\"\"}},\"type\":\"scattergeo\"}],\"scattergl\":[{\"marker\":{\"colorbar\":{\"outlinewidth\":0,\"ticks\":\"\"}},\"type\":\"scattergl\"}],\"scattermapbox\":[{\"marker\":{\"colorbar\":{\"outlinewidth\":0,\"ticks\":\"\"}},\"type\":\"scattermapbox\"}],\"scatterpolar\":[{\"marker\":{\"colorbar\":{\"outlinewidth\":0,\"ticks\":\"\"}},\"type\":\"scatterpolar\"}],\"scatterpolargl\":[{\"marker\":{\"colorbar\":{\"outlinewidth\":0,\"ticks\":\"\"}},\"type\":\"scatterpolargl\"}],\"scatterternary\":[{\"marker\":{\"colorbar\":{\"outlinewidth\":0,\"ticks\":\"\"}},\"type\":\"scatterternary\"}],\"surface\":[{\"colorbar\":{\"outlinewidth\":0,\"ticks\":\"\"},\"colorscale\":[[0.0,\"#0d0887\"],[0.1111111111111111,\"#46039f\"],[0.2222222222222222,\"#7201a8\"],[0.3333333333333333,\"#9c179e\"],[0.4444444444444444,\"#bd3786\"],[0.5555555555555556,\"#d8576b\"],[0.6666666666666666,\"#ed7953\"],[0.7777777777777778,\"#fb9f3a\"],[0.8888888888888888,\"#fdca26\"],[1.0,\"#f0f921\"]],\"type\":\"surface\"}],\"table\":[{\"cells\":{\"fill\":{\"color\":\"#EBF0F8\"},\"line\":{\"color\":\"white\"}},\"header\":{\"fill\":{\"color\":\"#C8D4E3\"},\"line\":{\"color\":\"white\"}},\"type\":\"table\"}]},\"layout\":{\"annotationdefaults\":{\"arrowcolor\":\"#2a3f5f\",\"arrowhead\":0,\"arrowwidth\":1},\"autotypenumbers\":\"strict\",\"coloraxis\":{\"colorbar\":{\"outlinewidth\":0,\"ticks\":\"\"}},\"colorscale\":{\"diverging\":[[0,\"#8e0152\"],[0.1,\"#c51b7d\"],[0.2,\"#de77ae\"],[0.3,\"#f1b6da\"],[0.4,\"#fde0ef\"],[0.5,\"#f7f7f7\"],[0.6,\"#e6f5d0\"],[0.7,\"#b8e186\"],[0.8,\"#7fbc41\"],[0.9,\"#4d9221\"],[1,\"#276419\"]],\"sequential\":[[0.0,\"#0d0887\"],[0.1111111111111111,\"#46039f\"],[0.2222222222222222,\"#7201a8\"],[0.3333333333333333,\"#9c179e\"],[0.4444444444444444,\"#bd3786\"],[0.5555555555555556,\"#d8576b\"],[0.6666666666666666,\"#ed7953\"],[0.7777777777777778,\"#fb9f3a\"],[0.8888888888888888,\"#fdca26\"],[1.0,\"#f0f921\"]],\"sequentialminus\":[[0.0,\"#0d0887\"],[0.1111111111111111,\"#46039f\"],[0.2222222222222222,\"#7201a8\"],[0.3333333333333333,\"#9c179e\"],[0.4444444444444444,\"#bd3786\"],[0.5555555555555556,\"#d8576b\"],[0.6666666666666666,\"#ed7953\"],[0.7777777777777778,\"#fb9f3a\"],[0.8888888888888888,\"#fdca26\"],[1.0,\"#f0f921\"]]},\"colorway\":[\"#636efa\",\"#EF553B\",\"#00cc96\",\"#ab63fa\",\"#FFA15A\",\"#19d3f3\",\"#FF6692\",\"#B6E880\",\"#FF97FF\",\"#FECB52\"],\"font\":{\"color\":\"#2a3f5f\"},\"geo\":{\"bgcolor\":\"white\",\"lakecolor\":\"white\",\"landcolor\":\"#E5ECF6\",\"showlakes\":true,\"showland\":true,\"subunitcolor\":\"white\"},\"hoverlabel\":{\"align\":\"left\"},\"hovermode\":\"closest\",\"mapbox\":{\"style\":\"light\"},\"paper_bgcolor\":\"white\",\"plot_bgcolor\":\"#E5ECF6\",\"polar\":{\"angularaxis\":{\"gridcolor\":\"white\",\"linecolor\":\"white\",\"ticks\":\"\"},\"bgcolor\":\"#E5ECF6\",\"radialaxis\":{\"gridcolor\":\"white\",\"linecolor\":\"white\",\"ticks\":\"\"}},\"scene\":{\"xaxis\":{\"backgroundcolor\":\"#E5ECF6\",\"gridcolor\":\"white\",\"gridwidth\":2,\"linecolor\":\"white\",\"showbackground\":true,\"ticks\":\"\",\"zerolinecolor\":\"white\"},\"yaxis\":{\"backgroundcolor\":\"#E5ECF6\",\"gridcolor\":\"white\",\"gridwidth\":2,\"linecolor\":\"white\",\"showbackground\":true,\"ticks\":\"\",\"zerolinecolor\":\"white\"},\"zaxis\":{\"backgroundcolor\":\"#E5ECF6\",\"gridcolor\":\"white\",\"gridwidth\":2,\"linecolor\":\"white\",\"showbackground\":true,\"ticks\":\"\",\"zerolinecolor\":\"white\"}},\"shapedefaults\":{\"line\":{\"color\":\"#2a3f5f\"}},\"ternary\":{\"aaxis\":{\"gridcolor\":\"white\",\"linecolor\":\"white\",\"ticks\":\"\"},\"baxis\":{\"gridcolor\":\"white\",\"linecolor\":\"white\",\"ticks\":\"\"},\"bgcolor\":\"#E5ECF6\",\"caxis\":{\"gridcolor\":\"white\",\"linecolor\":\"white\",\"ticks\":\"\"}},\"title\":{\"x\":0.05},\"xaxis\":{\"automargin\":true,\"gridcolor\":\"white\",\"linecolor\":\"white\",\"ticks\":\"\",\"title\":{\"standoff\":15},\"zerolinecolor\":\"white\",\"zerolinewidth\":2},\"yaxis\":{\"automargin\":true,\"gridcolor\":\"white\",\"linecolor\":\"white\",\"ticks\":\"\",\"title\":{\"standoff\":15},\"zerolinecolor\":\"white\",\"zerolinewidth\":2}}},\"title\":{\"font\":{\"color\":\"#4D5663\"},\"text\":\"Sensitivity of College Football Athlete Diet\"},\"xaxis\":{\"gridcolor\":\"#E1E5ED\",\"showgrid\":true,\"tickfont\":{\"color\":\"#4D5663\"},\"title\":{\"font\":{\"color\":\"#4D5663\"},\"text\":\"change in log price\"},\"zerolinecolor\":\"#E1E5ED\"},\"yaxis\":{\"gridcolor\":\"#E1E5ED\",\"showgrid\":true,\"tickfont\":{\"color\":\"#4D5663\"},\"title\":{\"font\":{\"color\":\"#4D5663\"},\"text\":\"change in log cost\"},\"zerolinecolor\":\"#E1E5ED\"}},                        {\"showLink\": true, \"linkText\": \"Export to plot.ly\", \"plotlyServerURL\": \"https://plot.ly\", \"responsive\": true}                    ).then(function(){\n",
       "                            \n",
       "var gd = document.getElementById('19a37800-5577-4a25-9e6d-dcf1c566ccb4');\n",
       "var x = new MutationObserver(function (mutations, observer) {{\n",
       "        var display = window.getComputedStyle(gd).display;\n",
       "        if (!display || display === 'none') {{\n",
       "            console.log([gd, 'removed!']);\n",
       "            Plotly.purge(gd);\n",
       "            observer.disconnect();\n",
       "        }}\n",
       "}});\n",
       "\n",
       "// Listen for the removal of the full notebook cells\n",
       "var notebookContainer = gd.closest('#notebook-container');\n",
       "if (notebookContainer) {{\n",
       "    x.observe(notebookContainer, {childList: true});\n",
       "}}\n",
       "\n",
       "// Listen for the clearing of the current output cell\n",
       "var outputEl = gd.closest('.output');\n",
       "if (outputEl) {{\n",
       "    x.observe(outputEl, {childList: true});\n",
       "}}\n",
       "\n",
       "                        })                };                });            </script>        </div>"
      ]
     },
     "metadata": {},
     "output_type": "display_data"
    }
   ],
   "source": [
    "#Sensitization for Football Athlete \n",
    "\n",
    "scale = [.5,.6,.7,.8,.9,1.,1.1,1.2,1.3,1.4,1.5]\n",
    "\n",
    "cost0 = solve_subsistence_problem(D,Prices,bmin_fb.iloc[:,0],bmax_fb.iloc[:,0],tol=tol).fun\n",
    "\n",
    "Price_response_fb={}\n",
    "for s in scale:\n",
    "    cost = {}\n",
    "    for i,p in enumerate(Prices):\n",
    "        my_p = Prices.copy()\n",
    "        my_p[i] = p*s\n",
    "        result = solve_subsistence_problem(D,my_p,bmin_fb.iloc[:,0],bmax_fb.iloc[:,0],tol=tol)\n",
    "        cost[Prices.index[i]] = np.log(result.fun/cost0)\n",
    "    Price_response_fb[np.log(s)] = cost\n",
    "\n",
    "Price_response_fb = pd.DataFrame(Price_response_fb).T\n",
    "Price_response_fb.iplot(xTitle='change in log price',yTitle='change in log cost', title = \"Sensitivity of College Football Athlete Diet\")"
   ]
  },
  {
   "cell_type": "markdown",
   "id": "e1053890",
   "metadata": {},
   "source": [
    "### Comparing the Diets"
   ]
  },
  {
   "cell_type": "code",
   "execution_count": 27,
   "id": "aa0595d9",
   "metadata": {},
   "outputs": [
    {
     "data": {
      "text/html": [
       "<div>\n",
       "<style scoped>\n",
       "    .dataframe tbody tr th:only-of-type {\n",
       "        vertical-align: middle;\n",
       "    }\n",
       "\n",
       "    .dataframe tbody tr th {\n",
       "        vertical-align: top;\n",
       "    }\n",
       "\n",
       "    .dataframe thead th {\n",
       "        text-align: right;\n",
       "    }\n",
       "</style>\n",
       "<table border=\"1\" class=\"dataframe\">\n",
       "  <thead>\n",
       "    <tr style=\"text-align: right;\">\n",
       "      <th></th>\n",
       "      <th>Male Student</th>\n",
       "      <th>Football Athlete</th>\n",
       "    </tr>\n",
       "    <tr>\n",
       "      <th>Nutrition</th>\n",
       "      <th></th>\n",
       "      <th></th>\n",
       "    </tr>\n",
       "  </thead>\n",
       "  <tbody>\n",
       "    <tr>\n",
       "      <th>Protein</th>\n",
       "      <td>56.0</td>\n",
       "      <td>192.0</td>\n",
       "    </tr>\n",
       "    <tr>\n",
       "      <th>Carbohydrate, by difference</th>\n",
       "      <td>130.0</td>\n",
       "      <td>680.0</td>\n",
       "    </tr>\n",
       "  </tbody>\n",
       "</table>\n",
       "</div>"
      ],
      "text/plain": [
       "                             Male Student  Football Athlete\n",
       "Nutrition                                                  \n",
       "Protein                              56.0             192.0\n",
       "Carbohydrate, by difference         130.0             680.0"
      ]
     },
     "execution_count": 27,
     "metadata": {},
     "output_type": "execute_result"
    }
   ],
   "source": [
    "df_pcf = df_comparison.loc[[\"Protein\", \"Carbohydrate, by difference\"],:]\n",
    "df_pcf"
   ]
  },
  {
   "cell_type": "code",
   "execution_count": 28,
   "id": "6c33ab41",
   "metadata": {},
   "outputs": [
    {
     "data": {
      "image/png": "[encoded data removed]",
      "text/plain": [
       "<Figure size 1200x800 with 1 Axes>"
      ]
     },
     "metadata": {},
     "output_type": "display_data"
    }
   ],
   "source": [
    "barWidth = 0.25\n",
    "fig = plt.subplots(figsize =(12, 8))\n",
    "\n",
    "X = ['Protein','Carbohydrates']\n",
    "reg = df_pcf.loc[:, \"Male Student\"]\n",
    "fb = df_pcf.loc[:, \"Football Athlete\"]\n",
    "  \n",
    "X_axis = np.arange(len(X))\n",
    "  \n",
    "plt.bar(X_axis - 0.2, reg, 0.4, label = 'Protein', color = \"green\")\n",
    "plt.bar(X_axis + 0.2, fb, 0.4, label = 'Carbohydrates', color = \"darkblue\")\n",
    "  \n",
    "plt.xticks(X_axis, X)\n",
    "plt.ylabel(\"Grams\")\n",
    "plt.title(\"Grams Recommended per day for College Male vs Berkeley Football Athlete\")\n",
    "plt.legend([\"Male College Student\", \"Male Football Athlete\"])\n",
    "plt.show()"
   ]
  }
 ],
 "metadata": {
  "kernelspec": {
   "display_name": "Python 3 (ipykernel)",
   "language": "python",
   "name": "python3"
  },
  "language_info": {
   "codemirror_mode": {
    "name": "ipython",
    "version": 3
   },
   "file_extension": ".py",
   "mimetype": "text/x-python",
   "name": "python",
   "nbconvert_exporter": "python",
   "pygments_lexer": "ipython3",
   "version": "3.9.15"
  }
 },
 "nbformat": 4,
 "nbformat_minor": 5
}
